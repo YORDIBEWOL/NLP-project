{
 "cells": [
  {
   "cell_type": "markdown",
   "metadata": {},
   "source": [
    "# Getting the data"
   ]
  },
  {
   "cell_type": "code",
   "execution_count": 112,
   "metadata": {},
   "outputs": [],
   "source": [
    "import pandas as pd\n",
    "\n",
    "import re \n",
    "import string\n",
    "\n",
    "from sklearn.decomposition import NMF, TruncatedSVD, LatentDirichletAllocation\n",
    "\n",
    "import matplotlib.pyplot as plt\n",
    "import seaborn as sns\n",
    "\n",
    "import scipy.sparse\n",
    "\n",
    "from sklearn.feature_extraction import text\n",
    "\n",
    "import nltk\n",
    "from nltk.util import ngrams\n",
    "import spacy\n",
    "from nltk.tokenize import word_tokenize, sent_tokenize,RegexpTokenizer\n",
    "from nltk.stem import PorterStemmer, WordNetLemmatizer\n",
    "from nltk.corpus import stopwords\n",
    "from sklearn.feature_extraction.text import CountVectorizer, TfidfVectorizer"
   ]
  },
  {
   "cell_type": "code",
   "execution_count": 2,
   "metadata": {},
   "outputs": [],
   "source": [
    "df_train = pd.read_csv('file:///C:/Users/BereketSharew/Desktop/drugsComTrain_raw.tsv',sep='\\t')"
   ]
  },
  {
   "cell_type": "code",
   "execution_count": 3,
   "metadata": {
    "scrolled": true
   },
   "outputs": [
    {
     "name": "stdout",
     "output_type": "stream",
     "text": [
      "<class 'pandas.core.frame.DataFrame'>\n",
      "RangeIndex: 161297 entries, 0 to 161296\n",
      "Data columns (total 7 columns):\n",
      "Unnamed: 0     161297 non-null int64\n",
      "drugName       161297 non-null object\n",
      "condition      160398 non-null object\n",
      "review         161297 non-null object\n",
      "rating         161297 non-null float64\n",
      "date           161297 non-null object\n",
      "usefulCount    161297 non-null int64\n",
      "dtypes: float64(1), int64(2), object(4)\n",
      "memory usage: 8.6+ MB\n"
     ]
    }
   ],
   "source": [
    "df_train.info()"
   ]
  },
  {
   "cell_type": "code",
   "execution_count": 4,
   "metadata": {},
   "outputs": [],
   "source": [
    "df_test = pd.read_csv('file:///C:/Users/BereketSharew/Desktop/drugsComTest_raw.tsv',sep='\\t')"
   ]
  },
  {
   "cell_type": "code",
   "execution_count": 5,
   "metadata": {},
   "outputs": [
    {
     "name": "stdout",
     "output_type": "stream",
     "text": [
      "<class 'pandas.core.frame.DataFrame'>\n",
      "RangeIndex: 53766 entries, 0 to 53765\n",
      "Data columns (total 7 columns):\n",
      "Unnamed: 0     53766 non-null int64\n",
      "drugName       53766 non-null object\n",
      "condition      53471 non-null object\n",
      "review         53766 non-null object\n",
      "rating         53766 non-null float64\n",
      "date           53766 non-null object\n",
      "usefulCount    53766 non-null int64\n",
      "dtypes: float64(1), int64(2), object(4)\n",
      "memory usage: 2.9+ MB\n"
     ]
    }
   ],
   "source": [
    "df_test.info()"
   ]
  },
  {
   "cell_type": "code",
   "execution_count": 6,
   "metadata": {},
   "outputs": [],
   "source": [
    "# combining the two dataframes to have more datapoints\n",
    "all_data= pd.concat([df_train, df_test], axis=0)\n"
   ]
  },
  {
   "cell_type": "code",
   "execution_count": 7,
   "metadata": {},
   "outputs": [
    {
     "name": "stdout",
     "output_type": "stream",
     "text": [
      "<class 'pandas.core.frame.DataFrame'>\n",
      "Int64Index: 215063 entries, 0 to 53765\n",
      "Data columns (total 7 columns):\n",
      "Unnamed: 0     215063 non-null int64\n",
      "drugName       215063 non-null object\n",
      "condition      213869 non-null object\n",
      "review         215063 non-null object\n",
      "rating         215063 non-null float64\n",
      "date           215063 non-null object\n",
      "usefulCount    215063 non-null int64\n",
      "dtypes: float64(1), int64(2), object(4)\n",
      "memory usage: 13.1+ MB\n"
     ]
    }
   ],
   "source": [
    "all_data.info()"
   ]
  },
  {
   "cell_type": "code",
   "execution_count": 8,
   "metadata": {},
   "outputs": [
    {
     "data": {
      "text/plain": [
       "Index(['Unnamed: 0', 'drugName', 'condition', 'review', 'rating', 'date',\n",
       "       'usefulCount'],\n",
       "      dtype='object')"
      ]
     },
     "execution_count": 8,
     "metadata": {},
     "output_type": "execute_result"
    }
   ],
   "source": [
    "all_data.columns"
   ]
  },
  {
   "cell_type": "code",
   "execution_count": 9,
   "metadata": {},
   "outputs": [],
   "source": [
    "#creating a dataframe using the only columns we need \n",
    "all_data = all_data.filter(['condition','rating','review','drugName'], axis=1)"
   ]
  },
  {
   "cell_type": "code",
   "execution_count": 10,
   "metadata": {},
   "outputs": [],
   "source": [
    "#creating a dataframe for depression condition only\n",
    "List= all_data['condition'].to_list()\n",
    "list1 = [x for x in List if x != 'Depression']\n",
    "df = all_data[~all_data['condition'].isin(list1)]"
   ]
  },
  {
   "cell_type": "code",
   "execution_count": 11,
   "metadata": {
    "scrolled": true
   },
   "outputs": [
    {
     "data": {
      "text/html": [
       "<div>\n",
       "<style scoped>\n",
       "    .dataframe tbody tr th:only-of-type {\n",
       "        vertical-align: middle;\n",
       "    }\n",
       "\n",
       "    .dataframe tbody tr th {\n",
       "        vertical-align: top;\n",
       "    }\n",
       "\n",
       "    .dataframe thead th {\n",
       "        text-align: right;\n",
       "    }\n",
       "</style>\n",
       "<table border=\"1\" class=\"dataframe\">\n",
       "  <thead>\n",
       "    <tr style=\"text-align: right;\">\n",
       "      <th></th>\n",
       "      <th>condition</th>\n",
       "      <th>rating</th>\n",
       "      <th>review</th>\n",
       "      <th>drugName</th>\n",
       "    </tr>\n",
       "  </thead>\n",
       "  <tbody>\n",
       "    <tr>\n",
       "      <td>11</td>\n",
       "      <td>Depression</td>\n",
       "      <td>10.0</td>\n",
       "      <td>\"I have taken anti-depressants for years, with...</td>\n",
       "      <td>L-methylfolate</td>\n",
       "    </tr>\n",
       "    <tr>\n",
       "      <td>31</td>\n",
       "      <td>Depression</td>\n",
       "      <td>8.0</td>\n",
       "      <td>\"1 week on Zoloft for anxiety and mood swings....</td>\n",
       "      <td>Sertraline</td>\n",
       "    </tr>\n",
       "    <tr>\n",
       "      <td>44</td>\n",
       "      <td>Depression</td>\n",
       "      <td>4.0</td>\n",
       "      <td>\"my gp started me on Venlafaxine yesterday to ...</td>\n",
       "      <td>Venlafaxine</td>\n",
       "    </tr>\n",
       "    <tr>\n",
       "      <td>67</td>\n",
       "      <td>Depression</td>\n",
       "      <td>10.0</td>\n",
       "      <td>\"This medicine saved my life. I was at my wits...</td>\n",
       "      <td>Effexor XR</td>\n",
       "    </tr>\n",
       "    <tr>\n",
       "      <td>81</td>\n",
       "      <td>Depression</td>\n",
       "      <td>4.0</td>\n",
       "      <td>\"Started taking it and I slept well at night a...</td>\n",
       "      <td>Wellbutrin</td>\n",
       "    </tr>\n",
       "  </tbody>\n",
       "</table>\n",
       "</div>"
      ],
      "text/plain": [
       "     condition  rating                                             review  \\\n",
       "11  Depression    10.0  \"I have taken anti-depressants for years, with...   \n",
       "31  Depression     8.0  \"1 week on Zoloft for anxiety and mood swings....   \n",
       "44  Depression     4.0  \"my gp started me on Venlafaxine yesterday to ...   \n",
       "67  Depression    10.0  \"This medicine saved my life. I was at my wits...   \n",
       "81  Depression     4.0  \"Started taking it and I slept well at night a...   \n",
       "\n",
       "          drugName  \n",
       "11  L-methylfolate  \n",
       "31      Sertraline  \n",
       "44     Venlafaxine  \n",
       "67      Effexor XR  \n",
       "81      Wellbutrin  "
      ]
     },
     "execution_count": 11,
     "metadata": {},
     "output_type": "execute_result"
    }
   ],
   "source": [
    "df.head()"
   ]
  },
  {
   "cell_type": "code",
   "execution_count": 12,
   "metadata": {
    "scrolled": false
   },
   "outputs": [],
   "source": [
    "#getting rid of the condition column\n",
    "df = df.drop(['condition'], axis=1)"
   ]
  },
  {
   "cell_type": "code",
   "execution_count": 13,
   "metadata": {},
   "outputs": [],
   "source": [
    "df = df.reset_index(drop = True)"
   ]
  },
  {
   "cell_type": "code",
   "execution_count": 14,
   "metadata": {},
   "outputs": [
    {
     "name": "stdout",
     "output_type": "stream",
     "text": [
      "<class 'pandas.core.frame.DataFrame'>\n",
      "RangeIndex: 12164 entries, 0 to 12163\n",
      "Data columns (total 3 columns):\n",
      "rating      12164 non-null float64\n",
      "review      12164 non-null object\n",
      "drugName    12164 non-null object\n",
      "dtypes: float64(1), object(2)\n",
      "memory usage: 285.2+ KB\n"
     ]
    }
   ],
   "source": [
    "df.info()"
   ]
  },
  {
   "cell_type": "code",
   "execution_count": 15,
   "metadata": {},
   "outputs": [],
   "source": [
    "#remove duplicate reviews\n",
    "df.drop_duplicates(subset=['review'], inplace=True)"
   ]
  },
  {
   "cell_type": "code",
   "execution_count": 16,
   "metadata": {
    "scrolled": true
   },
   "outputs": [
    {
     "data": {
      "text/plain": [
       "rating      0\n",
       "review      0\n",
       "drugName    0\n",
       "dtype: int64"
      ]
     },
     "execution_count": 16,
     "metadata": {},
     "output_type": "execute_result"
    }
   ],
   "source": [
    "df.isna().sum()"
   ]
  },
  {
   "cell_type": "code",
   "execution_count": 120,
   "metadata": {},
   "outputs": [],
   "source": [
    "data_drugs = df.to_csv(r'C:/Users/BereketSharew/Desktop/data_drugs.csv',index =False)\n"
   ]
  },
  {
   "cell_type": "markdown",
   "metadata": {},
   "source": [
    "# Document preprocessing"
   ]
  },
  {
   "cell_type": "code",
   "execution_count": 17,
   "metadata": {},
   "outputs": [
    {
     "data": {
      "text/plain": [
       "rating      0\n",
       "review      0\n",
       "drugName    0\n",
       "dtype: int64"
      ]
     },
     "execution_count": 17,
     "metadata": {},
     "output_type": "execute_result"
    }
   ],
   "source": [
    "#check for missing values and remove them\n",
    "df.isnull().sum()"
   ]
  },
  {
   "cell_type": "code",
   "execution_count": 18,
   "metadata": {},
   "outputs": [
    {
     "name": "stdout",
     "output_type": "stream",
     "text": [
      "<class 'pandas.core.frame.DataFrame'>\n",
      "Int64Index: 7112 entries, 0 to 12162\n",
      "Data columns (total 3 columns):\n",
      "rating      7112 non-null float64\n",
      "review      7112 non-null object\n",
      "drugName    7112 non-null object\n",
      "dtypes: float64(1), object(2)\n",
      "memory usage: 222.2+ KB\n"
     ]
    }
   ],
   "source": [
    "df.info()"
   ]
  },
  {
   "cell_type": "code",
   "execution_count": 19,
   "metadata": {
    "scrolled": true
   },
   "outputs": [],
   "source": [
    "from num2words import num2words\n",
    "def clean_text(text1):\n",
    "    text1 = text1.lower() # change text to lowercase\n",
    "    text1 = re.sub('[^\\w\\s]','',text1) # remove punctuations\n",
    "    text1 = re.sub('\\n','',text1)\n",
    "    text1 = re.sub('\\w*\\d\\w*','',text1)\n",
    "    return text1\n",
    "txt= lambda x: clean_text(x)"
   ]
  },
  {
   "cell_type": "code",
   "execution_count": 20,
   "metadata": {},
   "outputs": [],
   "source": [
    "df['review_clean'] =df['review'].apply(txt)"
   ]
  },
  {
   "cell_type": "code",
   "execution_count": 21,
   "metadata": {},
   "outputs": [
    {
     "data": {
      "text/html": [
       "<div>\n",
       "<style scoped>\n",
       "    .dataframe tbody tr th:only-of-type {\n",
       "        vertical-align: middle;\n",
       "    }\n",
       "\n",
       "    .dataframe tbody tr th {\n",
       "        vertical-align: top;\n",
       "    }\n",
       "\n",
       "    .dataframe thead th {\n",
       "        text-align: right;\n",
       "    }\n",
       "</style>\n",
       "<table border=\"1\" class=\"dataframe\">\n",
       "  <thead>\n",
       "    <tr style=\"text-align: right;\">\n",
       "      <th></th>\n",
       "      <th>rating</th>\n",
       "      <th>review</th>\n",
       "      <th>drugName</th>\n",
       "      <th>review_clean</th>\n",
       "    </tr>\n",
       "  </thead>\n",
       "  <tbody>\n",
       "    <tr>\n",
       "      <td>0</td>\n",
       "      <td>10.0</td>\n",
       "      <td>\"I have taken anti-depressants for years, with...</td>\n",
       "      <td>L-methylfolate</td>\n",
       "      <td>i have taken antidepressants for years with so...</td>\n",
       "    </tr>\n",
       "    <tr>\n",
       "      <td>1</td>\n",
       "      <td>8.0</td>\n",
       "      <td>\"1 week on Zoloft for anxiety and mood swings....</td>\n",
       "      <td>Sertraline</td>\n",
       "      <td>week on zoloft for anxiety and mood swings i ...</td>\n",
       "    </tr>\n",
       "    <tr>\n",
       "      <td>2</td>\n",
       "      <td>4.0</td>\n",
       "      <td>\"my gp started me on Venlafaxine yesterday to ...</td>\n",
       "      <td>Venlafaxine</td>\n",
       "      <td>my gp started me on venlafaxine yesterday to h...</td>\n",
       "    </tr>\n",
       "    <tr>\n",
       "      <td>3</td>\n",
       "      <td>10.0</td>\n",
       "      <td>\"This medicine saved my life. I was at my wits...</td>\n",
       "      <td>Effexor XR</td>\n",
       "      <td>this medicine saved my life i was at my wits e...</td>\n",
       "    </tr>\n",
       "    <tr>\n",
       "      <td>4</td>\n",
       "      <td>4.0</td>\n",
       "      <td>\"Started taking it and I slept well at night a...</td>\n",
       "      <td>Wellbutrin</td>\n",
       "      <td>started taking it and i slept well at night an...</td>\n",
       "    </tr>\n",
       "  </tbody>\n",
       "</table>\n",
       "</div>"
      ],
      "text/plain": [
       "   rating                                             review        drugName  \\\n",
       "0    10.0  \"I have taken anti-depressants for years, with...  L-methylfolate   \n",
       "1     8.0  \"1 week on Zoloft for anxiety and mood swings....      Sertraline   \n",
       "2     4.0  \"my gp started me on Venlafaxine yesterday to ...     Venlafaxine   \n",
       "3    10.0  \"This medicine saved my life. I was at my wits...      Effexor XR   \n",
       "4     4.0  \"Started taking it and I slept well at night a...      Wellbutrin   \n",
       "\n",
       "                                        review_clean  \n",
       "0  i have taken antidepressants for years with so...  \n",
       "1   week on zoloft for anxiety and mood swings i ...  \n",
       "2  my gp started me on venlafaxine yesterday to h...  \n",
       "3  this medicine saved my life i was at my wits e...  \n",
       "4  started taking it and i slept well at night an...  "
      ]
     },
     "execution_count": 21,
     "metadata": {},
     "output_type": "execute_result"
    }
   ],
   "source": [
    "df.head()"
   ]
  },
  {
   "cell_type": "code",
   "execution_count": 22,
   "metadata": {},
   "outputs": [],
   "source": [
    "#lemmatizaion\n",
    "nlp = spacy.load(\"en_core_web_sm\")\n",
    "def lemmatizer(text):        \n",
    "    new = []\n",
    "    doc = nlp(text)\n",
    "    for word in doc:\n",
    "        new.append(word.lemma_)\n",
    "    return \" \".join(new)\n",
    "    \n",
    "df['review_clean'] = df.apply(lambda x: lemmatizer(x['review_clean']), axis = 1)"
   ]
  },
  {
   "cell_type": "code",
   "execution_count": 26,
   "metadata": {},
   "outputs": [],
   "source": [
    "corpus = df['review_clean']"
   ]
  },
  {
   "cell_type": "code",
   "execution_count": 27,
   "metadata": {},
   "outputs": [
    {
     "data": {
      "image/png": "[encoded data removed]",
      "text/plain": [
       "<Figure size 1440x720 with 1 Axes>"
      ]
     },
     "metadata": {
      "needs_background": "light"
     },
     "output_type": "display_data"
    }
   ],
   "source": [
    "#word count per document in corpus\n",
    "word_count = []\n",
    "labels = []\n",
    "\n",
    "for txt in corpus:\n",
    "    word_count.append(len(txt))\n",
    "\n",
    "for txt in corpus:\n",
    "    if len(txt) > 50:\n",
    "        txt = txt[0:25] + '...'\n",
    "    labels.append(txt)\n",
    "\n",
    "plt.figure(figsize=(20,10))\n",
    "plt.title('Word Count in documents')\n",
    "plt.barh(labels[0:20], word_count[0:20])\n",
    "plt.xlabel('word count')\n",
    "plt.ylabel('post');\n",
    "#plt.savefig('word_count.png', dpi=300, bbox_inches='tight');"
   ]
  },
  {
   "cell_type": "markdown",
   "metadata": {},
   "source": [
    "# Document-Term Matrix"
   ]
  },
  {
   "cell_type": "code",
   "execution_count": 28,
   "metadata": {},
   "outputs": [],
   "source": [
    "tfidf = TfidfVectorizer( stop_words='english')\n",
    "\n",
    "doc_term = tfidf.fit_transform(corpus)\n",
    "\n",
    "vocab = tfidf.get_feature_names()\n",
    "\n",
    "dtm = pd.DataFrame(doc_term.toarray(),index = labels, columns=vocab)"
   ]
  },
  {
   "cell_type": "code",
   "execution_count": 29,
   "metadata": {},
   "outputs": [
    {
     "data": {
      "text/html": [
       "<div>\n",
       "<style scoped>\n",
       "    .dataframe tbody tr th:only-of-type {\n",
       "        vertical-align: middle;\n",
       "    }\n",
       "\n",
       "    .dataframe tbody tr th {\n",
       "        vertical-align: top;\n",
       "    }\n",
       "\n",
       "    .dataframe thead th {\n",
       "        text-align: right;\n",
       "    }\n",
       "</style>\n",
       "<table border=\"1\" class=\"dataframe\">\n",
       "  <thead>\n",
       "    <tr style=\"text-align: right;\">\n",
       "      <th></th>\n",
       "      <th>aa</th>\n",
       "      <th>aampe</th>\n",
       "      <th>aarp</th>\n",
       "      <th>ab</th>\n",
       "      <th>abandon</th>\n",
       "      <th>abate</th>\n",
       "      <th>abdominal</th>\n",
       "      <th>abilfyand</th>\n",
       "      <th>abilify</th>\n",
       "      <th>ability</th>\n",
       "      <th>...</th>\n",
       "      <th>zoo</th>\n",
       "      <th>zopiclone</th>\n",
       "      <th>zopliclone</th>\n",
       "      <th>zoplicone</th>\n",
       "      <th>zpot</th>\n",
       "      <th>zyban</th>\n",
       "      <th>zyprexa</th>\n",
       "      <th>zyprexai</th>\n",
       "      <th>zyprexia</th>\n",
       "      <th>zzzquil</th>\n",
       "    </tr>\n",
       "  </thead>\n",
       "  <tbody>\n",
       "    <tr>\n",
       "      <td>I have take antidepressan...</td>\n",
       "      <td>0.0</td>\n",
       "      <td>0.0</td>\n",
       "      <td>0.0</td>\n",
       "      <td>0.0</td>\n",
       "      <td>0.0</td>\n",
       "      <td>0.0</td>\n",
       "      <td>0.0</td>\n",
       "      <td>0.0</td>\n",
       "      <td>0.0</td>\n",
       "      <td>0.0</td>\n",
       "      <td>...</td>\n",
       "      <td>0.0</td>\n",
       "      <td>0.0</td>\n",
       "      <td>0.0</td>\n",
       "      <td>0.0</td>\n",
       "      <td>0.0</td>\n",
       "      <td>0.0</td>\n",
       "      <td>0.0</td>\n",
       "      <td>0.0</td>\n",
       "      <td>0.0</td>\n",
       "      <td>0.0</td>\n",
       "    </tr>\n",
       "    <tr>\n",
       "      <td>week on zoloft for anxi...</td>\n",
       "      <td>0.0</td>\n",
       "      <td>0.0</td>\n",
       "      <td>0.0</td>\n",
       "      <td>0.0</td>\n",
       "      <td>0.0</td>\n",
       "      <td>0.0</td>\n",
       "      <td>0.0</td>\n",
       "      <td>0.0</td>\n",
       "      <td>0.0</td>\n",
       "      <td>0.0</td>\n",
       "      <td>...</td>\n",
       "      <td>0.0</td>\n",
       "      <td>0.0</td>\n",
       "      <td>0.0</td>\n",
       "      <td>0.0</td>\n",
       "      <td>0.0</td>\n",
       "      <td>0.0</td>\n",
       "      <td>0.0</td>\n",
       "      <td>0.0</td>\n",
       "      <td>0.0</td>\n",
       "      <td>0.0</td>\n",
       "    </tr>\n",
       "    <tr>\n",
       "      <td>my gp start I on venlafax...</td>\n",
       "      <td>0.0</td>\n",
       "      <td>0.0</td>\n",
       "      <td>0.0</td>\n",
       "      <td>0.0</td>\n",
       "      <td>0.0</td>\n",
       "      <td>0.0</td>\n",
       "      <td>0.0</td>\n",
       "      <td>0.0</td>\n",
       "      <td>0.0</td>\n",
       "      <td>0.0</td>\n",
       "      <td>...</td>\n",
       "      <td>0.0</td>\n",
       "      <td>0.0</td>\n",
       "      <td>0.0</td>\n",
       "      <td>0.0</td>\n",
       "      <td>0.0</td>\n",
       "      <td>0.0</td>\n",
       "      <td>0.0</td>\n",
       "      <td>0.0</td>\n",
       "      <td>0.0</td>\n",
       "      <td>0.0</td>\n",
       "    </tr>\n",
       "    <tr>\n",
       "      <td>this medicine save my lif...</td>\n",
       "      <td>0.0</td>\n",
       "      <td>0.0</td>\n",
       "      <td>0.0</td>\n",
       "      <td>0.0</td>\n",
       "      <td>0.0</td>\n",
       "      <td>0.0</td>\n",
       "      <td>0.0</td>\n",
       "      <td>0.0</td>\n",
       "      <td>0.0</td>\n",
       "      <td>0.0</td>\n",
       "      <td>...</td>\n",
       "      <td>0.0</td>\n",
       "      <td>0.0</td>\n",
       "      <td>0.0</td>\n",
       "      <td>0.0</td>\n",
       "      <td>0.0</td>\n",
       "      <td>0.0</td>\n",
       "      <td>0.0</td>\n",
       "      <td>0.0</td>\n",
       "      <td>0.0</td>\n",
       "      <td>0.0</td>\n",
       "    </tr>\n",
       "    <tr>\n",
       "      <td>start take it and I sleep...</td>\n",
       "      <td>0.0</td>\n",
       "      <td>0.0</td>\n",
       "      <td>0.0</td>\n",
       "      <td>0.0</td>\n",
       "      <td>0.0</td>\n",
       "      <td>0.0</td>\n",
       "      <td>0.0</td>\n",
       "      <td>0.0</td>\n",
       "      <td>0.0</td>\n",
       "      <td>0.0</td>\n",
       "      <td>...</td>\n",
       "      <td>0.0</td>\n",
       "      <td>0.0</td>\n",
       "      <td>0.0</td>\n",
       "      <td>0.0</td>\n",
       "      <td>0.0</td>\n",
       "      <td>0.0</td>\n",
       "      <td>0.0</td>\n",
       "      <td>0.0</td>\n",
       "      <td>0.0</td>\n",
       "      <td>0.0</td>\n",
       "    </tr>\n",
       "  </tbody>\n",
       "</table>\n",
       "<p>5 rows × 10789 columns</p>\n",
       "</div>"
      ],
      "text/plain": [
       "                               aa  aampe  aarp   ab  abandon  abate  \\\n",
       "I have take antidepressan...  0.0    0.0   0.0  0.0      0.0    0.0   \n",
       "  week on zoloft for anxi...  0.0    0.0   0.0  0.0      0.0    0.0   \n",
       "my gp start I on venlafax...  0.0    0.0   0.0  0.0      0.0    0.0   \n",
       "this medicine save my lif...  0.0    0.0   0.0  0.0      0.0    0.0   \n",
       "start take it and I sleep...  0.0    0.0   0.0  0.0      0.0    0.0   \n",
       "\n",
       "                              abdominal  abilfyand  abilify  ability  ...  \\\n",
       "I have take antidepressan...        0.0        0.0      0.0      0.0  ...   \n",
       "  week on zoloft for anxi...        0.0        0.0      0.0      0.0  ...   \n",
       "my gp start I on venlafax...        0.0        0.0      0.0      0.0  ...   \n",
       "this medicine save my lif...        0.0        0.0      0.0      0.0  ...   \n",
       "start take it and I sleep...        0.0        0.0      0.0      0.0  ...   \n",
       "\n",
       "                              zoo  zopiclone  zopliclone  zoplicone  zpot  \\\n",
       "I have take antidepressan...  0.0        0.0         0.0        0.0   0.0   \n",
       "  week on zoloft for anxi...  0.0        0.0         0.0        0.0   0.0   \n",
       "my gp start I on venlafax...  0.0        0.0         0.0        0.0   0.0   \n",
       "this medicine save my lif...  0.0        0.0         0.0        0.0   0.0   \n",
       "start take it and I sleep...  0.0        0.0         0.0        0.0   0.0   \n",
       "\n",
       "                              zyban  zyprexa  zyprexai  zyprexia  zzzquil  \n",
       "I have take antidepressan...    0.0      0.0       0.0       0.0      0.0  \n",
       "  week on zoloft for anxi...    0.0      0.0       0.0       0.0      0.0  \n",
       "my gp start I on venlafax...    0.0      0.0       0.0       0.0      0.0  \n",
       "this medicine save my lif...    0.0      0.0       0.0       0.0      0.0  \n",
       "start take it and I sleep...    0.0      0.0       0.0       0.0      0.0  \n",
       "\n",
       "[5 rows x 10789 columns]"
      ]
     },
     "execution_count": 29,
     "metadata": {},
     "output_type": "execute_result"
    }
   ],
   "source": [
    "dtm.head()"
   ]
  },
  {
   "cell_type": "markdown",
   "metadata": {},
   "source": [
    "# EDA"
   ]
  },
  {
   "cell_type": "code",
   "execution_count": 30,
   "metadata": {
    "scrolled": false
   },
   "outputs": [
    {
     "data": {
      "image/png": "[encoded data removed]",
      "text/plain": [
       "<Figure size 1440x720 with 1 Axes>"
      ]
     },
     "metadata": {
      "needs_background": "light"
     },
     "output_type": "display_data"
    }
   ],
   "source": [
    "#frequency of top 20 words in corpus\n",
    "freq = list(dtm.sum(axis=0).sort_values(ascending=False))\n",
    "col_labels = list(dtm.sum(axis=0).sort_values(ascending=False).index)\n",
    "\n",
    "plt.figure(figsize=(20,10))\n",
    "plt.title('Top Word Frequency')\n",
    "plt.bar(col_labels[0:30], freq[0:30])\n",
    "plt.xlabel('word')\n",
    "plt.ylabel('frequency');\n",
    "#plt.savefig('word_freq.png', dpi=300, bbox_inches='tight');"
   ]
  },
  {
   "cell_type": "code",
   "execution_count": 74,
   "metadata": {},
   "outputs": [],
   "source": [
    "# Data cleaning 2 \n",
    "#taking all the frequently used but not useful words \n",
    "list_words = ['depression','like','just','really','life', 'did','effects','day','week','work','start','month','time','make','bad','good','doctor','drug','medication','help','try','right','say','antidepressant','medicine','effect','feel','want','think','thing','word','notice','great','stop','dream','mean']\n",
    "#adding our list to stop words\n",
    "new_stop_words = text.ENGLISH_STOP_WORDS.union(list_words)\n",
    "#new document_term_matrix\n",
    "cv = CountVectorizer(stop_words=new_stop_words)\n",
    "cv_data =cv.fit_transform(corpus)\n",
    "dtm = pd.DataFrame(cv_data.toarray(),index = labels, columns=cv.get_feature_names())\n"
   ]
  },
  {
   "cell_type": "code",
   "execution_count": 75,
   "metadata": {},
   "outputs": [
    {
     "data": {
      "text/html": [
       "<div>\n",
       "<style scoped>\n",
       "    .dataframe tbody tr th:only-of-type {\n",
       "        vertical-align: middle;\n",
       "    }\n",
       "\n",
       "    .dataframe tbody tr th {\n",
       "        vertical-align: top;\n",
       "    }\n",
       "\n",
       "    .dataframe thead th {\n",
       "        text-align: right;\n",
       "    }\n",
       "</style>\n",
       "<table border=\"1\" class=\"dataframe\">\n",
       "  <thead>\n",
       "    <tr style=\"text-align: right;\">\n",
       "      <th></th>\n",
       "      <th>aa</th>\n",
       "      <th>aampe</th>\n",
       "      <th>aarp</th>\n",
       "      <th>ab</th>\n",
       "      <th>abandon</th>\n",
       "      <th>abate</th>\n",
       "      <th>abdominal</th>\n",
       "      <th>abilfyand</th>\n",
       "      <th>abilify</th>\n",
       "      <th>ability</th>\n",
       "      <th>...</th>\n",
       "      <th>zoo</th>\n",
       "      <th>zopiclone</th>\n",
       "      <th>zopliclone</th>\n",
       "      <th>zoplicone</th>\n",
       "      <th>zpot</th>\n",
       "      <th>zyban</th>\n",
       "      <th>zyprexa</th>\n",
       "      <th>zyprexai</th>\n",
       "      <th>zyprexia</th>\n",
       "      <th>zzzquil</th>\n",
       "    </tr>\n",
       "  </thead>\n",
       "  <tbody>\n",
       "    <tr>\n",
       "      <td>I have take antidepressan...</td>\n",
       "      <td>0</td>\n",
       "      <td>0</td>\n",
       "      <td>0</td>\n",
       "      <td>0</td>\n",
       "      <td>0</td>\n",
       "      <td>0</td>\n",
       "      <td>0</td>\n",
       "      <td>0</td>\n",
       "      <td>0</td>\n",
       "      <td>0</td>\n",
       "      <td>...</td>\n",
       "      <td>0</td>\n",
       "      <td>0</td>\n",
       "      <td>0</td>\n",
       "      <td>0</td>\n",
       "      <td>0</td>\n",
       "      <td>0</td>\n",
       "      <td>0</td>\n",
       "      <td>0</td>\n",
       "      <td>0</td>\n",
       "      <td>0</td>\n",
       "    </tr>\n",
       "    <tr>\n",
       "      <td>week on zoloft for anxi...</td>\n",
       "      <td>0</td>\n",
       "      <td>0</td>\n",
       "      <td>0</td>\n",
       "      <td>0</td>\n",
       "      <td>0</td>\n",
       "      <td>0</td>\n",
       "      <td>0</td>\n",
       "      <td>0</td>\n",
       "      <td>0</td>\n",
       "      <td>0</td>\n",
       "      <td>...</td>\n",
       "      <td>0</td>\n",
       "      <td>0</td>\n",
       "      <td>0</td>\n",
       "      <td>0</td>\n",
       "      <td>0</td>\n",
       "      <td>0</td>\n",
       "      <td>0</td>\n",
       "      <td>0</td>\n",
       "      <td>0</td>\n",
       "      <td>0</td>\n",
       "    </tr>\n",
       "    <tr>\n",
       "      <td>my gp start I on venlafax...</td>\n",
       "      <td>0</td>\n",
       "      <td>0</td>\n",
       "      <td>0</td>\n",
       "      <td>0</td>\n",
       "      <td>0</td>\n",
       "      <td>0</td>\n",
       "      <td>0</td>\n",
       "      <td>0</td>\n",
       "      <td>0</td>\n",
       "      <td>0</td>\n",
       "      <td>...</td>\n",
       "      <td>0</td>\n",
       "      <td>0</td>\n",
       "      <td>0</td>\n",
       "      <td>0</td>\n",
       "      <td>0</td>\n",
       "      <td>0</td>\n",
       "      <td>0</td>\n",
       "      <td>0</td>\n",
       "      <td>0</td>\n",
       "      <td>0</td>\n",
       "    </tr>\n",
       "    <tr>\n",
       "      <td>this medicine save my lif...</td>\n",
       "      <td>0</td>\n",
       "      <td>0</td>\n",
       "      <td>0</td>\n",
       "      <td>0</td>\n",
       "      <td>0</td>\n",
       "      <td>0</td>\n",
       "      <td>0</td>\n",
       "      <td>0</td>\n",
       "      <td>0</td>\n",
       "      <td>0</td>\n",
       "      <td>...</td>\n",
       "      <td>0</td>\n",
       "      <td>0</td>\n",
       "      <td>0</td>\n",
       "      <td>0</td>\n",
       "      <td>0</td>\n",
       "      <td>0</td>\n",
       "      <td>0</td>\n",
       "      <td>0</td>\n",
       "      <td>0</td>\n",
       "      <td>0</td>\n",
       "    </tr>\n",
       "    <tr>\n",
       "      <td>start take it and I sleep...</td>\n",
       "      <td>0</td>\n",
       "      <td>0</td>\n",
       "      <td>0</td>\n",
       "      <td>0</td>\n",
       "      <td>0</td>\n",
       "      <td>0</td>\n",
       "      <td>0</td>\n",
       "      <td>0</td>\n",
       "      <td>0</td>\n",
       "      <td>0</td>\n",
       "      <td>...</td>\n",
       "      <td>0</td>\n",
       "      <td>0</td>\n",
       "      <td>0</td>\n",
       "      <td>0</td>\n",
       "      <td>0</td>\n",
       "      <td>0</td>\n",
       "      <td>0</td>\n",
       "      <td>0</td>\n",
       "      <td>0</td>\n",
       "      <td>0</td>\n",
       "    </tr>\n",
       "  </tbody>\n",
       "</table>\n",
       "<p>5 rows × 10754 columns</p>\n",
       "</div>"
      ],
      "text/plain": [
       "                              aa  aampe  aarp  ab  abandon  abate  abdominal  \\\n",
       "I have take antidepressan...   0      0     0   0        0      0          0   \n",
       "  week on zoloft for anxi...   0      0     0   0        0      0          0   \n",
       "my gp start I on venlafax...   0      0     0   0        0      0          0   \n",
       "this medicine save my lif...   0      0     0   0        0      0          0   \n",
       "start take it and I sleep...   0      0     0   0        0      0          0   \n",
       "\n",
       "                              abilfyand  abilify  ability  ...  zoo  \\\n",
       "I have take antidepressan...          0        0        0  ...    0   \n",
       "  week on zoloft for anxi...          0        0        0  ...    0   \n",
       "my gp start I on venlafax...          0        0        0  ...    0   \n",
       "this medicine save my lif...          0        0        0  ...    0   \n",
       "start take it and I sleep...          0        0        0  ...    0   \n",
       "\n",
       "                              zopiclone  zopliclone  zoplicone  zpot  zyban  \\\n",
       "I have take antidepressan...          0           0          0     0      0   \n",
       "  week on zoloft for anxi...          0           0          0     0      0   \n",
       "my gp start I on venlafax...          0           0          0     0      0   \n",
       "this medicine save my lif...          0           0          0     0      0   \n",
       "start take it and I sleep...          0           0          0     0      0   \n",
       "\n",
       "                              zyprexa  zyprexai  zyprexia  zzzquil  \n",
       "I have take antidepressan...        0         0         0        0  \n",
       "  week on zoloft for anxi...        0         0         0        0  \n",
       "my gp start I on venlafax...        0         0         0        0  \n",
       "this medicine save my lif...        0         0         0        0  \n",
       "start take it and I sleep...        0         0         0        0  \n",
       "\n",
       "[5 rows x 10754 columns]"
      ]
     },
     "execution_count": 75,
     "metadata": {},
     "output_type": "execute_result"
    }
   ],
   "source": [
    "dtm.head()"
   ]
  },
  {
   "cell_type": "code",
   "execution_count": 76,
   "metadata": {
    "scrolled": true
   },
   "outputs": [
    {
     "data": {
      "image/png": "[encoded data removed]",
      "text/plain": [
       "<Figure size 1440x720 with 1 Axes>"
      ]
     },
     "metadata": {
      "needs_background": "light"
     },
     "output_type": "display_data"
    }
   ],
   "source": [
    "#frequency of top 20 words in corpus\n",
    "freq = list(dtm.sum(axis=0).sort_values(ascending=False))\n",
    "col_labels = list(dtm.sum(axis=0).sort_values(ascending=False).index)\n",
    "\n",
    "plt.figure(figsize=(20,10))\n",
    "plt.title('Top Word Frequency')\n",
    "plt.bar(col_labels[0:21], freq[0:21])\n",
    "plt.xlabel('word')\n",
    "plt.ylabel('frequency');\n",
    "#plt.savefig('word_freq.png', dpi=300, bbox_inches='tight');"
   ]
  },
  {
   "cell_type": "code",
   "execution_count": 77,
   "metadata": {},
   "outputs": [
    {
     "data": {
      "image/png": "[encoded data removed]",
      "text/plain": [
       "<Figure size 576x576 with 1 Axes>"
      ]
     },
     "metadata": {
      "needs_background": "light"
     },
     "output_type": "display_data"
    }
   ],
   "source": [
    "from wordcloud import WordCloud\n",
    "\n",
    "split_title = [x.split(\" \") for x in df['review_clean'].astype(str)]\n",
    "big_list = []\n",
    "for x in split_title:\n",
    "    big_list.extend(x)\n",
    "\n",
    "listCounts = pd.Series(big_list).value_counts()\n",
    "wc = WordCloud(stopwords=new_stop_words, background_color=\"white\", colormap=\"Dark2\", max_font_size=80, random_state=42,\n",
    "              min_font_size = 5).generate((listCounts[listCounts > 2]).to_string())\n",
    "\n",
    "plt.figure(figsize = (8, 8), facecolor = None) \n",
    "plt.imshow(wc) \n",
    "plt.axis(\"off\") \n",
    "plt.tight_layout(pad = 0) \n",
    "  \n",
    "plt.show();"
   ]
  },
  {
   "cell_type": "markdown",
   "metadata": {},
   "source": [
    "# NMF"
   ]
  },
  {
   "cell_type": "code",
   "execution_count": 38,
   "metadata": {},
   "outputs": [],
   "source": [
    "#new document term matrix excluding the most frequent words\n",
    "tfidf = TfidfVectorizer(max_df = .8, stop_words=new_stop_words)\n",
    "\n",
    "doc_term = tfidf.fit_transform(corpus)\n",
    "\n",
    "vocab = tfidf.get_feature_names()\n",
    "\n",
    "dtm = pd.DataFrame(doc_term.toarray(),index = labels, columns=vocab)"
   ]
  },
  {
   "cell_type": "code",
   "execution_count": 39,
   "metadata": {},
   "outputs": [
    {
     "data": {
      "text/plain": [
       "NMF(alpha=0.0, beta_loss='frobenius', init=None, l1_ratio=0.0, max_iter=200,\n",
       "    n_components=20, random_state=42, shuffle=False, solver='cd', tol=0.0001,\n",
       "    verbose=0)"
      ]
     },
     "execution_count": 39,
     "metadata": {},
     "output_type": "execute_result"
    }
   ],
   "source": [
    "nmf = NMF(n_components=20, random_state = 42)\n",
    "\n",
    "nmf.fit(doc_term)"
   ]
  },
  {
   "cell_type": "code",
   "execution_count": 40,
   "metadata": {},
   "outputs": [],
   "source": [
    "doc_topic_matrix = nmf.transform(doc_term)"
   ]
  },
  {
   "cell_type": "code",
   "execution_count": 41,
   "metadata": {},
   "outputs": [],
   "source": [
    "doc_topic_matrix_df = pd.DataFrame(doc_topic_matrix).add_prefix('topic_')\n",
    "doc_topic_matrix_df[['review','review_clean','rating']] = df[['review','review_clean','rating']]\n"
   ]
  },
  {
   "cell_type": "code",
   "execution_count": 42,
   "metadata": {
    "scrolled": true
   },
   "outputs": [
    {
     "data": {
      "text/html": [
       "<div>\n",
       "<style scoped>\n",
       "    .dataframe tbody tr th:only-of-type {\n",
       "        vertical-align: middle;\n",
       "    }\n",
       "\n",
       "    .dataframe tbody tr th {\n",
       "        vertical-align: top;\n",
       "    }\n",
       "\n",
       "    .dataframe thead th {\n",
       "        text-align: right;\n",
       "    }\n",
       "</style>\n",
       "<table border=\"1\" class=\"dataframe\">\n",
       "  <thead>\n",
       "    <tr style=\"text-align: right;\">\n",
       "      <th></th>\n",
       "      <th>topic_0</th>\n",
       "      <th>topic_1</th>\n",
       "      <th>topic_2</th>\n",
       "      <th>topic_3</th>\n",
       "      <th>topic_4</th>\n",
       "      <th>topic_5</th>\n",
       "      <th>topic_6</th>\n",
       "      <th>topic_7</th>\n",
       "      <th>topic_8</th>\n",
       "      <th>topic_9</th>\n",
       "      <th>...</th>\n",
       "      <th>topic_13</th>\n",
       "      <th>topic_14</th>\n",
       "      <th>topic_15</th>\n",
       "      <th>topic_16</th>\n",
       "      <th>topic_17</th>\n",
       "      <th>topic_18</th>\n",
       "      <th>topic_19</th>\n",
       "      <th>review</th>\n",
       "      <th>review_clean</th>\n",
       "      <th>rating</th>\n",
       "    </tr>\n",
       "  </thead>\n",
       "  <tbody>\n",
       "    <tr>\n",
       "      <td>0</td>\n",
       "      <td>0.021367</td>\n",
       "      <td>0.000000</td>\n",
       "      <td>0.000000</td>\n",
       "      <td>0.000000</td>\n",
       "      <td>0.003568</td>\n",
       "      <td>0.010721</td>\n",
       "      <td>0.002269</td>\n",
       "      <td>0.000000</td>\n",
       "      <td>0.000000</td>\n",
       "      <td>0.001263</td>\n",
       "      <td>...</td>\n",
       "      <td>0.013352</td>\n",
       "      <td>0.003352</td>\n",
       "      <td>0.038456</td>\n",
       "      <td>0.000000</td>\n",
       "      <td>0.019039</td>\n",
       "      <td>0.002218</td>\n",
       "      <td>0.008754</td>\n",
       "      <td>\"I have taken anti-depressants for years, with...</td>\n",
       "      <td>I have take antidepressant for year with some ...</td>\n",
       "      <td>10.0</td>\n",
       "    </tr>\n",
       "    <tr>\n",
       "      <td>1</td>\n",
       "      <td>0.000000</td>\n",
       "      <td>0.000000</td>\n",
       "      <td>0.008018</td>\n",
       "      <td>0.000000</td>\n",
       "      <td>0.037477</td>\n",
       "      <td>0.037653</td>\n",
       "      <td>0.000059</td>\n",
       "      <td>0.000000</td>\n",
       "      <td>0.049573</td>\n",
       "      <td>0.000000</td>\n",
       "      <td>...</td>\n",
       "      <td>0.000000</td>\n",
       "      <td>0.000000</td>\n",
       "      <td>0.000000</td>\n",
       "      <td>0.000000</td>\n",
       "      <td>0.058668</td>\n",
       "      <td>0.000000</td>\n",
       "      <td>0.000000</td>\n",
       "      <td>\"1 week on Zoloft for anxiety and mood swings....</td>\n",
       "      <td>week on zoloft for anxiety and mood swing I ...</td>\n",
       "      <td>8.0</td>\n",
       "    </tr>\n",
       "    <tr>\n",
       "      <td>2</td>\n",
       "      <td>0.000000</td>\n",
       "      <td>0.000000</td>\n",
       "      <td>0.043524</td>\n",
       "      <td>0.000000</td>\n",
       "      <td>0.000000</td>\n",
       "      <td>0.042125</td>\n",
       "      <td>0.000628</td>\n",
       "      <td>0.000000</td>\n",
       "      <td>0.000272</td>\n",
       "      <td>0.000000</td>\n",
       "      <td>...</td>\n",
       "      <td>0.000000</td>\n",
       "      <td>0.002125</td>\n",
       "      <td>0.062005</td>\n",
       "      <td>0.000000</td>\n",
       "      <td>0.000000</td>\n",
       "      <td>0.001783</td>\n",
       "      <td>0.000000</td>\n",
       "      <td>\"my gp started me on Venlafaxine yesterday to ...</td>\n",
       "      <td>my gp start I on venlafaxine yesterday to help...</td>\n",
       "      <td>4.0</td>\n",
       "    </tr>\n",
       "    <tr>\n",
       "      <td>3</td>\n",
       "      <td>0.004801</td>\n",
       "      <td>0.000000</td>\n",
       "      <td>0.000000</td>\n",
       "      <td>0.002564</td>\n",
       "      <td>0.011709</td>\n",
       "      <td>0.010841</td>\n",
       "      <td>0.000000</td>\n",
       "      <td>0.066691</td>\n",
       "      <td>0.003653</td>\n",
       "      <td>0.000997</td>\n",
       "      <td>...</td>\n",
       "      <td>0.005855</td>\n",
       "      <td>0.002076</td>\n",
       "      <td>0.000000</td>\n",
       "      <td>0.005015</td>\n",
       "      <td>0.008691</td>\n",
       "      <td>0.001216</td>\n",
       "      <td>0.000000</td>\n",
       "      <td>\"This medicine saved my life. I was at my wits...</td>\n",
       "      <td>this medicine save my life I be at my wit end ...</td>\n",
       "      <td>10.0</td>\n",
       "    </tr>\n",
       "    <tr>\n",
       "      <td>4</td>\n",
       "      <td>0.004383</td>\n",
       "      <td>0.000569</td>\n",
       "      <td>0.057177</td>\n",
       "      <td>0.004911</td>\n",
       "      <td>0.006009</td>\n",
       "      <td>0.004805</td>\n",
       "      <td>0.002852</td>\n",
       "      <td>0.003326</td>\n",
       "      <td>0.000054</td>\n",
       "      <td>0.002150</td>\n",
       "      <td>...</td>\n",
       "      <td>0.004114</td>\n",
       "      <td>0.002595</td>\n",
       "      <td>0.005350</td>\n",
       "      <td>0.001108</td>\n",
       "      <td>0.000000</td>\n",
       "      <td>0.008650</td>\n",
       "      <td>0.000000</td>\n",
       "      <td>\"Started taking it and I slept well at night a...</td>\n",
       "      <td>start take it and I sleep well at night and aw...</td>\n",
       "      <td>4.0</td>\n",
       "    </tr>\n",
       "  </tbody>\n",
       "</table>\n",
       "<p>5 rows × 23 columns</p>\n",
       "</div>"
      ],
      "text/plain": [
       "    topic_0   topic_1   topic_2   topic_3   topic_4   topic_5   topic_6  \\\n",
       "0  0.021367  0.000000  0.000000  0.000000  0.003568  0.010721  0.002269   \n",
       "1  0.000000  0.000000  0.008018  0.000000  0.037477  0.037653  0.000059   \n",
       "2  0.000000  0.000000  0.043524  0.000000  0.000000  0.042125  0.000628   \n",
       "3  0.004801  0.000000  0.000000  0.002564  0.011709  0.010841  0.000000   \n",
       "4  0.004383  0.000569  0.057177  0.004911  0.006009  0.004805  0.002852   \n",
       "\n",
       "    topic_7   topic_8   topic_9  ...  topic_13  topic_14  topic_15  topic_16  \\\n",
       "0  0.000000  0.000000  0.001263  ...  0.013352  0.003352  0.038456  0.000000   \n",
       "1  0.000000  0.049573  0.000000  ...  0.000000  0.000000  0.000000  0.000000   \n",
       "2  0.000000  0.000272  0.000000  ...  0.000000  0.002125  0.062005  0.000000   \n",
       "3  0.066691  0.003653  0.000997  ...  0.005855  0.002076  0.000000  0.005015   \n",
       "4  0.003326  0.000054  0.002150  ...  0.004114  0.002595  0.005350  0.001108   \n",
       "\n",
       "   topic_17  topic_18  topic_19  \\\n",
       "0  0.019039  0.002218  0.008754   \n",
       "1  0.058668  0.000000  0.000000   \n",
       "2  0.000000  0.001783  0.000000   \n",
       "3  0.008691  0.001216  0.000000   \n",
       "4  0.000000  0.008650  0.000000   \n",
       "\n",
       "                                              review  \\\n",
       "0  \"I have taken anti-depressants for years, with...   \n",
       "1  \"1 week on Zoloft for anxiety and mood swings....   \n",
       "2  \"my gp started me on Venlafaxine yesterday to ...   \n",
       "3  \"This medicine saved my life. I was at my wits...   \n",
       "4  \"Started taking it and I slept well at night a...   \n",
       "\n",
       "                                        review_clean  rating  \n",
       "0  I have take antidepressant for year with some ...    10.0  \n",
       "1    week on zoloft for anxiety and mood swing I ...     8.0  \n",
       "2  my gp start I on venlafaxine yesterday to help...     4.0  \n",
       "3  this medicine save my life I be at my wit end ...    10.0  \n",
       "4  start take it and I sleep well at night and aw...     4.0  \n",
       "\n",
       "[5 rows x 23 columns]"
      ]
     },
     "execution_count": 42,
     "metadata": {},
     "output_type": "execute_result"
    }
   ],
   "source": [
    "doc_topic_matrix_df.head()"
   ]
  },
  {
   "cell_type": "code",
   "execution_count": 43,
   "metadata": {},
   "outputs": [],
   "source": [
    "doc_topic_matrix_df['positive']=(doc_topic_matrix_df['rating']>5).astype(int)"
   ]
  },
  {
   "cell_type": "code",
   "execution_count": 44,
   "metadata": {},
   "outputs": [
    {
     "data": {
      "text/html": [
       "<div>\n",
       "<style scoped>\n",
       "    .dataframe tbody tr th:only-of-type {\n",
       "        vertical-align: middle;\n",
       "    }\n",
       "\n",
       "    .dataframe tbody tr th {\n",
       "        vertical-align: top;\n",
       "    }\n",
       "\n",
       "    .dataframe thead th {\n",
       "        text-align: right;\n",
       "    }\n",
       "</style>\n",
       "<table border=\"1\" class=\"dataframe\">\n",
       "  <thead>\n",
       "    <tr style=\"text-align: right;\">\n",
       "      <th></th>\n",
       "      <th>topic_0</th>\n",
       "      <th>topic_1</th>\n",
       "      <th>topic_2</th>\n",
       "      <th>topic_3</th>\n",
       "      <th>topic_4</th>\n",
       "      <th>topic_5</th>\n",
       "      <th>topic_6</th>\n",
       "      <th>topic_7</th>\n",
       "      <th>topic_8</th>\n",
       "      <th>topic_9</th>\n",
       "      <th>...</th>\n",
       "      <th>topic_11</th>\n",
       "      <th>topic_12</th>\n",
       "      <th>topic_13</th>\n",
       "      <th>topic_14</th>\n",
       "      <th>topic_15</th>\n",
       "      <th>topic_16</th>\n",
       "      <th>topic_17</th>\n",
       "      <th>topic_18</th>\n",
       "      <th>topic_19</th>\n",
       "      <th>rating</th>\n",
       "    </tr>\n",
       "    <tr>\n",
       "      <th>positive</th>\n",
       "      <th></th>\n",
       "      <th></th>\n",
       "      <th></th>\n",
       "      <th></th>\n",
       "      <th></th>\n",
       "      <th></th>\n",
       "      <th></th>\n",
       "      <th></th>\n",
       "      <th></th>\n",
       "      <th></th>\n",
       "      <th></th>\n",
       "      <th></th>\n",
       "      <th></th>\n",
       "      <th></th>\n",
       "      <th></th>\n",
       "      <th></th>\n",
       "      <th></th>\n",
       "      <th></th>\n",
       "      <th></th>\n",
       "      <th></th>\n",
       "      <th></th>\n",
       "    </tr>\n",
       "  </thead>\n",
       "  <tbody>\n",
       "    <tr>\n",
       "      <td>0</td>\n",
       "      <td>0.009018</td>\n",
       "      <td>0.011141</td>\n",
       "      <td>0.016031</td>\n",
       "      <td>0.010555</td>\n",
       "      <td>0.013568</td>\n",
       "      <td>0.012712</td>\n",
       "      <td>0.006571</td>\n",
       "      <td>0.006958</td>\n",
       "      <td>0.005299</td>\n",
       "      <td>0.007272</td>\n",
       "      <td>...</td>\n",
       "      <td>0.007999</td>\n",
       "      <td>0.015752</td>\n",
       "      <td>0.009461</td>\n",
       "      <td>0.006632</td>\n",
       "      <td>0.010729</td>\n",
       "      <td>0.007164</td>\n",
       "      <td>0.013016</td>\n",
       "      <td>0.005651</td>\n",
       "      <td>0.007736</td>\n",
       "      <td>2.445585</td>\n",
       "    </tr>\n",
       "    <tr>\n",
       "      <td>1</td>\n",
       "      <td>0.009179</td>\n",
       "      <td>0.012068</td>\n",
       "      <td>0.016322</td>\n",
       "      <td>0.010906</td>\n",
       "      <td>0.014229</td>\n",
       "      <td>0.013468</td>\n",
       "      <td>0.007528</td>\n",
       "      <td>0.007233</td>\n",
       "      <td>0.005482</td>\n",
       "      <td>0.007681</td>\n",
       "      <td>...</td>\n",
       "      <td>0.009201</td>\n",
       "      <td>0.015802</td>\n",
       "      <td>0.009626</td>\n",
       "      <td>0.006629</td>\n",
       "      <td>0.011100</td>\n",
       "      <td>0.006404</td>\n",
       "      <td>0.013933</td>\n",
       "      <td>0.005949</td>\n",
       "      <td>0.007549</td>\n",
       "      <td>8.798532</td>\n",
       "    </tr>\n",
       "  </tbody>\n",
       "</table>\n",
       "<p>2 rows × 21 columns</p>\n",
       "</div>"
      ],
      "text/plain": [
       "           topic_0   topic_1   topic_2   topic_3   topic_4   topic_5  \\\n",
       "positive                                                               \n",
       "0         0.009018  0.011141  0.016031  0.010555  0.013568  0.012712   \n",
       "1         0.009179  0.012068  0.016322  0.010906  0.014229  0.013468   \n",
       "\n",
       "           topic_6   topic_7   topic_8   topic_9  ...  topic_11  topic_12  \\\n",
       "positive                                          ...                       \n",
       "0         0.006571  0.006958  0.005299  0.007272  ...  0.007999  0.015752   \n",
       "1         0.007528  0.007233  0.005482  0.007681  ...  0.009201  0.015802   \n",
       "\n",
       "          topic_13  topic_14  topic_15  topic_16  topic_17  topic_18  \\\n",
       "positive                                                               \n",
       "0         0.009461  0.006632  0.010729  0.007164  0.013016  0.005651   \n",
       "1         0.009626  0.006629  0.011100  0.006404  0.013933  0.005949   \n",
       "\n",
       "          topic_19    rating  \n",
       "positive                      \n",
       "0         0.007736  2.445585  \n",
       "1         0.007549  8.798532  \n",
       "\n",
       "[2 rows x 21 columns]"
      ]
     },
     "execution_count": 44,
     "metadata": {},
     "output_type": "execute_result"
    }
   ],
   "source": [
    "doc_topic_matrix_df.groupby('positive').mean()"
   ]
  },
  {
   "cell_type": "code",
   "execution_count": 123,
   "metadata": {},
   "outputs": [],
   "source": [
    "topic_rating = doc_topic_matrix_df.groupby('positive').mean()"
   ]
  },
  {
   "cell_type": "code",
   "execution_count": 124,
   "metadata": {},
   "outputs": [],
   "source": [
    "topic_rating = topic_rating.to_csv(r'C:/Users/BereketSharew/Desktop/TR.csv',index =False)"
   ]
  },
  {
   "cell_type": "code",
   "execution_count": 435,
   "metadata": {},
   "outputs": [],
   "source": [
    "#doc_topic_matrix_df.tail()"
   ]
  },
  {
   "cell_type": "code",
   "execution_count": 45,
   "metadata": {
    "scrolled": false
   },
   "outputs": [
    {
     "data": {
      "text/html": [
       "<div>\n",
       "<style scoped>\n",
       "    .dataframe tbody tr th:only-of-type {\n",
       "        vertical-align: middle;\n",
       "    }\n",
       "\n",
       "    .dataframe tbody tr th {\n",
       "        vertical-align: top;\n",
       "    }\n",
       "\n",
       "    .dataframe thead th {\n",
       "        text-align: right;\n",
       "    }\n",
       "</style>\n",
       "<table border=\"1\" class=\"dataframe\">\n",
       "  <thead>\n",
       "    <tr style=\"text-align: right;\">\n",
       "      <th></th>\n",
       "      <th>topic_0</th>\n",
       "      <th>topic_1</th>\n",
       "      <th>topic_2</th>\n",
       "      <th>topic_3</th>\n",
       "      <th>topic_4</th>\n",
       "      <th>topic_5</th>\n",
       "      <th>topic_6</th>\n",
       "      <th>topic_7</th>\n",
       "      <th>topic_8</th>\n",
       "      <th>topic_9</th>\n",
       "      <th>topic_10</th>\n",
       "      <th>topic_11</th>\n",
       "      <th>topic_12</th>\n",
       "      <th>topic_13</th>\n",
       "      <th>topic_14</th>\n",
       "      <th>topic_15</th>\n",
       "      <th>topic_16</th>\n",
       "      <th>topic_17</th>\n",
       "      <th>topic_18</th>\n",
       "      <th>topic_19</th>\n",
       "    </tr>\n",
       "  </thead>\n",
       "  <tbody>\n",
       "    <tr>\n",
       "      <td>aa</td>\n",
       "      <td>0.0</td>\n",
       "      <td>0.0</td>\n",
       "      <td>0.000000</td>\n",
       "      <td>0.000000</td>\n",
       "      <td>0.000000</td>\n",
       "      <td>0.000000</td>\n",
       "      <td>0.00288</td>\n",
       "      <td>0.0</td>\n",
       "      <td>0.0</td>\n",
       "      <td>0.0</td>\n",
       "      <td>0.0</td>\n",
       "      <td>0.0</td>\n",
       "      <td>0.002839</td>\n",
       "      <td>0.001819</td>\n",
       "      <td>0.000000</td>\n",
       "      <td>0.000000</td>\n",
       "      <td>0.00792</td>\n",
       "      <td>0.002682</td>\n",
       "      <td>0.000000</td>\n",
       "      <td>0.0</td>\n",
       "    </tr>\n",
       "    <tr>\n",
       "      <td>aampe</td>\n",
       "      <td>0.0</td>\n",
       "      <td>0.0</td>\n",
       "      <td>0.000000</td>\n",
       "      <td>0.000000</td>\n",
       "      <td>0.005364</td>\n",
       "      <td>0.000000</td>\n",
       "      <td>0.00000</td>\n",
       "      <td>0.0</td>\n",
       "      <td>0.0</td>\n",
       "      <td>0.0</td>\n",
       "      <td>0.0</td>\n",
       "      <td>0.0</td>\n",
       "      <td>0.000000</td>\n",
       "      <td>0.000000</td>\n",
       "      <td>0.001513</td>\n",
       "      <td>0.000000</td>\n",
       "      <td>0.00000</td>\n",
       "      <td>0.000000</td>\n",
       "      <td>0.009181</td>\n",
       "      <td>0.0</td>\n",
       "    </tr>\n",
       "    <tr>\n",
       "      <td>aarp</td>\n",
       "      <td>0.0</td>\n",
       "      <td>0.0</td>\n",
       "      <td>0.000000</td>\n",
       "      <td>0.001066</td>\n",
       "      <td>0.000000</td>\n",
       "      <td>0.000000</td>\n",
       "      <td>0.00000</td>\n",
       "      <td>0.0</td>\n",
       "      <td>0.0</td>\n",
       "      <td>0.0</td>\n",
       "      <td>0.0</td>\n",
       "      <td>0.0</td>\n",
       "      <td>0.000000</td>\n",
       "      <td>0.000000</td>\n",
       "      <td>0.000000</td>\n",
       "      <td>0.000000</td>\n",
       "      <td>0.00000</td>\n",
       "      <td>0.000353</td>\n",
       "      <td>0.000286</td>\n",
       "      <td>0.0</td>\n",
       "    </tr>\n",
       "    <tr>\n",
       "      <td>ab</td>\n",
       "      <td>0.0</td>\n",
       "      <td>0.0</td>\n",
       "      <td>0.000000</td>\n",
       "      <td>0.000000</td>\n",
       "      <td>0.000145</td>\n",
       "      <td>0.000000</td>\n",
       "      <td>0.00000</td>\n",
       "      <td>0.0</td>\n",
       "      <td>0.0</td>\n",
       "      <td>0.0</td>\n",
       "      <td>0.0</td>\n",
       "      <td>0.0</td>\n",
       "      <td>0.001999</td>\n",
       "      <td>0.000000</td>\n",
       "      <td>0.000000</td>\n",
       "      <td>0.001152</td>\n",
       "      <td>0.00000</td>\n",
       "      <td>0.000000</td>\n",
       "      <td>0.000000</td>\n",
       "      <td>0.0</td>\n",
       "    </tr>\n",
       "    <tr>\n",
       "      <td>abandon</td>\n",
       "      <td>0.0</td>\n",
       "      <td>0.0</td>\n",
       "      <td>0.000138</td>\n",
       "      <td>0.000000</td>\n",
       "      <td>0.000210</td>\n",
       "      <td>0.001478</td>\n",
       "      <td>0.00000</td>\n",
       "      <td>0.0</td>\n",
       "      <td>0.0</td>\n",
       "      <td>0.0</td>\n",
       "      <td>0.0</td>\n",
       "      <td>0.0</td>\n",
       "      <td>0.000000</td>\n",
       "      <td>0.000000</td>\n",
       "      <td>0.004399</td>\n",
       "      <td>0.000350</td>\n",
       "      <td>0.00000</td>\n",
       "      <td>0.000000</td>\n",
       "      <td>0.000000</td>\n",
       "      <td>0.0</td>\n",
       "    </tr>\n",
       "  </tbody>\n",
       "</table>\n",
       "</div>"
      ],
      "text/plain": [
       "         topic_0  topic_1   topic_2   topic_3   topic_4   topic_5  topic_6  \\\n",
       "aa           0.0      0.0  0.000000  0.000000  0.000000  0.000000  0.00288   \n",
       "aampe        0.0      0.0  0.000000  0.000000  0.005364  0.000000  0.00000   \n",
       "aarp         0.0      0.0  0.000000  0.001066  0.000000  0.000000  0.00000   \n",
       "ab           0.0      0.0  0.000000  0.000000  0.000145  0.000000  0.00000   \n",
       "abandon      0.0      0.0  0.000138  0.000000  0.000210  0.001478  0.00000   \n",
       "\n",
       "         topic_7  topic_8  topic_9  topic_10  topic_11  topic_12  topic_13  \\\n",
       "aa           0.0      0.0      0.0       0.0       0.0  0.002839  0.001819   \n",
       "aampe        0.0      0.0      0.0       0.0       0.0  0.000000  0.000000   \n",
       "aarp         0.0      0.0      0.0       0.0       0.0  0.000000  0.000000   \n",
       "ab           0.0      0.0      0.0       0.0       0.0  0.001999  0.000000   \n",
       "abandon      0.0      0.0      0.0       0.0       0.0  0.000000  0.000000   \n",
       "\n",
       "         topic_14  topic_15  topic_16  topic_17  topic_18  topic_19  \n",
       "aa       0.000000  0.000000   0.00792  0.002682  0.000000       0.0  \n",
       "aampe    0.001513  0.000000   0.00000  0.000000  0.009181       0.0  \n",
       "aarp     0.000000  0.000000   0.00000  0.000353  0.000286       0.0  \n",
       "ab       0.000000  0.001152   0.00000  0.000000  0.000000       0.0  \n",
       "abandon  0.004399  0.000350   0.00000  0.000000  0.000000       0.0  "
      ]
     },
     "execution_count": 45,
     "metadata": {},
     "output_type": "execute_result"
    }
   ],
   "source": [
    "term_topic_matrix_df = pd.DataFrame(nmf.components_, columns=vocab).T.add_prefix('topic_')\n",
    "term_topic_matrix_df.head()"
   ]
  },
  {
   "cell_type": "code",
   "execution_count": 46,
   "metadata": {},
   "outputs": [],
   "source": [
    "doc_topic_matrix_df['drugName']=df['drugName']"
   ]
  },
  {
   "cell_type": "code",
   "execution_count": 92,
   "metadata": {},
   "outputs": [],
   "source": [
    "dn = doc_topic_matrix_df.drop(['rating','positive'],axis=1)"
   ]
  },
  {
   "cell_type": "code",
   "execution_count": 98,
   "metadata": {},
   "outputs": [
    {
     "data": {
      "text/plain": [
       "drugName\n",
       "Abilify                              topic_2\n",
       "Alprazolam                           topic_2\n",
       "Amitriptyline                        topic_3\n",
       "Amitriptyline / chlordiazepoxide     topic_3\n",
       "Amoxapine                           topic_12\n",
       "                                      ...   \n",
       "Wellbutrin SR                        topic_1\n",
       "Wellbutrin XL                        topic_2\n",
       "Xanax                                topic_2\n",
       "Zoloft                               topic_2\n",
       "Zyprexa                              topic_2\n",
       "Length: 101, dtype: object"
      ]
     },
     "execution_count": 98,
     "metadata": {},
     "output_type": "execute_result"
    }
   ],
   "source": [
    "dn.groupby('drugName').mean().idxmax(axis=1)\n"
   ]
  },
  {
   "cell_type": "code",
   "execution_count": 109,
   "metadata": {},
   "outputs": [
    {
     "data": {
      "text/html": [
       "<div>\n",
       "<style scoped>\n",
       "    .dataframe tbody tr th:only-of-type {\n",
       "        vertical-align: middle;\n",
       "    }\n",
       "\n",
       "    .dataframe tbody tr th {\n",
       "        vertical-align: top;\n",
       "    }\n",
       "\n",
       "    .dataframe thead th {\n",
       "        text-align: right;\n",
       "    }\n",
       "</style>\n",
       "<table border=\"1\" class=\"dataframe\">\n",
       "  <thead>\n",
       "    <tr style=\"text-align: right;\">\n",
       "      <th></th>\n",
       "      <th>topic_0</th>\n",
       "      <th>topic_1</th>\n",
       "      <th>topic_2</th>\n",
       "      <th>topic_3</th>\n",
       "      <th>topic_4</th>\n",
       "      <th>topic_5</th>\n",
       "      <th>topic_6</th>\n",
       "      <th>topic_7</th>\n",
       "      <th>topic_8</th>\n",
       "      <th>topic_9</th>\n",
       "      <th>topic_10</th>\n",
       "      <th>topic_11</th>\n",
       "      <th>topic_12</th>\n",
       "      <th>topic_13</th>\n",
       "      <th>topic_14</th>\n",
       "      <th>topic_15</th>\n",
       "      <th>topic_16</th>\n",
       "      <th>topic_17</th>\n",
       "      <th>topic_18</th>\n",
       "      <th>topic_19</th>\n",
       "    </tr>\n",
       "    <tr>\n",
       "      <th>drugName</th>\n",
       "      <th></th>\n",
       "      <th></th>\n",
       "      <th></th>\n",
       "      <th></th>\n",
       "      <th></th>\n",
       "      <th></th>\n",
       "      <th></th>\n",
       "      <th></th>\n",
       "      <th></th>\n",
       "      <th></th>\n",
       "      <th></th>\n",
       "      <th></th>\n",
       "      <th></th>\n",
       "      <th></th>\n",
       "      <th></th>\n",
       "      <th></th>\n",
       "      <th></th>\n",
       "      <th></th>\n",
       "      <th></th>\n",
       "      <th></th>\n",
       "    </tr>\n",
       "  </thead>\n",
       "  <tbody>\n",
       "    <tr>\n",
       "      <td>Abilify</td>\n",
       "      <td>0.009419</td>\n",
       "      <td>0.007636</td>\n",
       "      <td>0.023960</td>\n",
       "      <td>0.007125</td>\n",
       "      <td>0.011385</td>\n",
       "      <td>0.012364</td>\n",
       "      <td>0.003912</td>\n",
       "      <td>0.008316</td>\n",
       "      <td>0.008338</td>\n",
       "      <td>0.004557</td>\n",
       "      <td>0.006773</td>\n",
       "      <td>0.006699</td>\n",
       "      <td>0.016984</td>\n",
       "      <td>0.005146</td>\n",
       "      <td>0.003967</td>\n",
       "      <td>0.012722</td>\n",
       "      <td>0.007889</td>\n",
       "      <td>0.014617</td>\n",
       "      <td>0.004906</td>\n",
       "      <td>0.014234</td>\n",
       "    </tr>\n",
       "    <tr>\n",
       "      <td>Alprazolam</td>\n",
       "      <td>0.013762</td>\n",
       "      <td>0.011932</td>\n",
       "      <td>0.019040</td>\n",
       "      <td>0.004864</td>\n",
       "      <td>0.010498</td>\n",
       "      <td>0.010834</td>\n",
       "      <td>0.007425</td>\n",
       "      <td>0.007597</td>\n",
       "      <td>0.003607</td>\n",
       "      <td>0.002484</td>\n",
       "      <td>0.007189</td>\n",
       "      <td>0.004875</td>\n",
       "      <td>0.014784</td>\n",
       "      <td>0.015565</td>\n",
       "      <td>0.006432</td>\n",
       "      <td>0.008883</td>\n",
       "      <td>0.005850</td>\n",
       "      <td>0.013032</td>\n",
       "      <td>0.003898</td>\n",
       "      <td>0.010990</td>\n",
       "    </tr>\n",
       "    <tr>\n",
       "      <td>Amitriptyline</td>\n",
       "      <td>0.007796</td>\n",
       "      <td>0.004190</td>\n",
       "      <td>0.015939</td>\n",
       "      <td>0.019205</td>\n",
       "      <td>0.015468</td>\n",
       "      <td>0.012265</td>\n",
       "      <td>0.013267</td>\n",
       "      <td>0.006697</td>\n",
       "      <td>0.006265</td>\n",
       "      <td>0.005436</td>\n",
       "      <td>0.007244</td>\n",
       "      <td>0.007483</td>\n",
       "      <td>0.015298</td>\n",
       "      <td>0.008441</td>\n",
       "      <td>0.007480</td>\n",
       "      <td>0.009560</td>\n",
       "      <td>0.010647</td>\n",
       "      <td>0.013373</td>\n",
       "      <td>0.002172</td>\n",
       "      <td>0.002537</td>\n",
       "    </tr>\n",
       "    <tr>\n",
       "      <td>Amitriptyline / chlordiazepoxide</td>\n",
       "      <td>0.000410</td>\n",
       "      <td>0.002261</td>\n",
       "      <td>0.017047</td>\n",
       "      <td>0.112630</td>\n",
       "      <td>0.001543</td>\n",
       "      <td>0.020361</td>\n",
       "      <td>0.000000</td>\n",
       "      <td>0.002231</td>\n",
       "      <td>0.000775</td>\n",
       "      <td>0.001094</td>\n",
       "      <td>0.003052</td>\n",
       "      <td>0.029328</td>\n",
       "      <td>0.006533</td>\n",
       "      <td>0.002958</td>\n",
       "      <td>0.019535</td>\n",
       "      <td>0.002827</td>\n",
       "      <td>0.000060</td>\n",
       "      <td>0.000783</td>\n",
       "      <td>0.000564</td>\n",
       "      <td>0.000000</td>\n",
       "    </tr>\n",
       "    <tr>\n",
       "      <td>Amoxapine</td>\n",
       "      <td>0.000000</td>\n",
       "      <td>0.013363</td>\n",
       "      <td>0.012119</td>\n",
       "      <td>0.032338</td>\n",
       "      <td>0.025109</td>\n",
       "      <td>0.010644</td>\n",
       "      <td>0.024034</td>\n",
       "      <td>0.002368</td>\n",
       "      <td>0.000000</td>\n",
       "      <td>0.000000</td>\n",
       "      <td>0.000000</td>\n",
       "      <td>0.000000</td>\n",
       "      <td>0.045541</td>\n",
       "      <td>0.001751</td>\n",
       "      <td>0.000157</td>\n",
       "      <td>0.005684</td>\n",
       "      <td>0.000650</td>\n",
       "      <td>0.016799</td>\n",
       "      <td>0.000312</td>\n",
       "      <td>0.006010</td>\n",
       "    </tr>\n",
       "    <tr>\n",
       "      <td>...</td>\n",
       "      <td>...</td>\n",
       "      <td>...</td>\n",
       "      <td>...</td>\n",
       "      <td>...</td>\n",
       "      <td>...</td>\n",
       "      <td>...</td>\n",
       "      <td>...</td>\n",
       "      <td>...</td>\n",
       "      <td>...</td>\n",
       "      <td>...</td>\n",
       "      <td>...</td>\n",
       "      <td>...</td>\n",
       "      <td>...</td>\n",
       "      <td>...</td>\n",
       "      <td>...</td>\n",
       "      <td>...</td>\n",
       "      <td>...</td>\n",
       "      <td>...</td>\n",
       "      <td>...</td>\n",
       "      <td>...</td>\n",
       "    </tr>\n",
       "    <tr>\n",
       "      <td>Wellbutrin SR</td>\n",
       "      <td>0.010127</td>\n",
       "      <td>0.020022</td>\n",
       "      <td>0.015403</td>\n",
       "      <td>0.018226</td>\n",
       "      <td>0.015517</td>\n",
       "      <td>0.015780</td>\n",
       "      <td>0.006973</td>\n",
       "      <td>0.003348</td>\n",
       "      <td>0.005358</td>\n",
       "      <td>0.001221</td>\n",
       "      <td>0.001229</td>\n",
       "      <td>0.007962</td>\n",
       "      <td>0.017235</td>\n",
       "      <td>0.006726</td>\n",
       "      <td>0.008547</td>\n",
       "      <td>0.007064</td>\n",
       "      <td>0.010714</td>\n",
       "      <td>0.018327</td>\n",
       "      <td>0.007528</td>\n",
       "      <td>0.008140</td>\n",
       "    </tr>\n",
       "    <tr>\n",
       "      <td>Wellbutrin XL</td>\n",
       "      <td>0.008008</td>\n",
       "      <td>0.007734</td>\n",
       "      <td>0.016059</td>\n",
       "      <td>0.006354</td>\n",
       "      <td>0.012937</td>\n",
       "      <td>0.012906</td>\n",
       "      <td>0.010619</td>\n",
       "      <td>0.003978</td>\n",
       "      <td>0.004890</td>\n",
       "      <td>0.004294</td>\n",
       "      <td>0.008139</td>\n",
       "      <td>0.008848</td>\n",
       "      <td>0.014172</td>\n",
       "      <td>0.015929</td>\n",
       "      <td>0.001116</td>\n",
       "      <td>0.009609</td>\n",
       "      <td>0.004085</td>\n",
       "      <td>0.015811</td>\n",
       "      <td>0.005305</td>\n",
       "      <td>0.002951</td>\n",
       "    </tr>\n",
       "    <tr>\n",
       "      <td>Xanax</td>\n",
       "      <td>0.009541</td>\n",
       "      <td>0.014351</td>\n",
       "      <td>0.024880</td>\n",
       "      <td>0.005846</td>\n",
       "      <td>0.010847</td>\n",
       "      <td>0.017636</td>\n",
       "      <td>0.012798</td>\n",
       "      <td>0.008833</td>\n",
       "      <td>0.006003</td>\n",
       "      <td>0.010952</td>\n",
       "      <td>0.006957</td>\n",
       "      <td>0.012263</td>\n",
       "      <td>0.013977</td>\n",
       "      <td>0.008336</td>\n",
       "      <td>0.001981</td>\n",
       "      <td>0.019256</td>\n",
       "      <td>0.004467</td>\n",
       "      <td>0.016825</td>\n",
       "      <td>0.006288</td>\n",
       "      <td>0.006725</td>\n",
       "    </tr>\n",
       "    <tr>\n",
       "      <td>Zoloft</td>\n",
       "      <td>0.009197</td>\n",
       "      <td>0.008789</td>\n",
       "      <td>0.018574</td>\n",
       "      <td>0.013008</td>\n",
       "      <td>0.015229</td>\n",
       "      <td>0.014422</td>\n",
       "      <td>0.007932</td>\n",
       "      <td>0.006524</td>\n",
       "      <td>0.010385</td>\n",
       "      <td>0.007092</td>\n",
       "      <td>0.007208</td>\n",
       "      <td>0.010845</td>\n",
       "      <td>0.015590</td>\n",
       "      <td>0.009635</td>\n",
       "      <td>0.007647</td>\n",
       "      <td>0.009750</td>\n",
       "      <td>0.006709</td>\n",
       "      <td>0.016208</td>\n",
       "      <td>0.007704</td>\n",
       "      <td>0.007844</td>\n",
       "    </tr>\n",
       "    <tr>\n",
       "      <td>Zyprexa</td>\n",
       "      <td>0.006592</td>\n",
       "      <td>0.021755</td>\n",
       "      <td>0.024304</td>\n",
       "      <td>0.012535</td>\n",
       "      <td>0.014103</td>\n",
       "      <td>0.010006</td>\n",
       "      <td>0.000435</td>\n",
       "      <td>0.007675</td>\n",
       "      <td>0.006777</td>\n",
       "      <td>0.001217</td>\n",
       "      <td>0.005181</td>\n",
       "      <td>0.007588</td>\n",
       "      <td>0.013080</td>\n",
       "      <td>0.009335</td>\n",
       "      <td>0.019702</td>\n",
       "      <td>0.011294</td>\n",
       "      <td>0.015272</td>\n",
       "      <td>0.008118</td>\n",
       "      <td>0.001997</td>\n",
       "      <td>0.013630</td>\n",
       "    </tr>\n",
       "  </tbody>\n",
       "</table>\n",
       "<p>101 rows × 20 columns</p>\n",
       "</div>"
      ],
      "text/plain": [
       "                                   topic_0   topic_1   topic_2   topic_3  \\\n",
       "drugName                                                                   \n",
       "Abilify                           0.009419  0.007636  0.023960  0.007125   \n",
       "Alprazolam                        0.013762  0.011932  0.019040  0.004864   \n",
       "Amitriptyline                     0.007796  0.004190  0.015939  0.019205   \n",
       "Amitriptyline / chlordiazepoxide  0.000410  0.002261  0.017047  0.112630   \n",
       "Amoxapine                         0.000000  0.013363  0.012119  0.032338   \n",
       "...                                    ...       ...       ...       ...   \n",
       "Wellbutrin SR                     0.010127  0.020022  0.015403  0.018226   \n",
       "Wellbutrin XL                     0.008008  0.007734  0.016059  0.006354   \n",
       "Xanax                             0.009541  0.014351  0.024880  0.005846   \n",
       "Zoloft                            0.009197  0.008789  0.018574  0.013008   \n",
       "Zyprexa                           0.006592  0.021755  0.024304  0.012535   \n",
       "\n",
       "                                   topic_4   topic_5   topic_6   topic_7  \\\n",
       "drugName                                                                   \n",
       "Abilify                           0.011385  0.012364  0.003912  0.008316   \n",
       "Alprazolam                        0.010498  0.010834  0.007425  0.007597   \n",
       "Amitriptyline                     0.015468  0.012265  0.013267  0.006697   \n",
       "Amitriptyline / chlordiazepoxide  0.001543  0.020361  0.000000  0.002231   \n",
       "Amoxapine                         0.025109  0.010644  0.024034  0.002368   \n",
       "...                                    ...       ...       ...       ...   \n",
       "Wellbutrin SR                     0.015517  0.015780  0.006973  0.003348   \n",
       "Wellbutrin XL                     0.012937  0.012906  0.010619  0.003978   \n",
       "Xanax                             0.010847  0.017636  0.012798  0.008833   \n",
       "Zoloft                            0.015229  0.014422  0.007932  0.006524   \n",
       "Zyprexa                           0.014103  0.010006  0.000435  0.007675   \n",
       "\n",
       "                                   topic_8   topic_9  topic_10  topic_11  \\\n",
       "drugName                                                                   \n",
       "Abilify                           0.008338  0.004557  0.006773  0.006699   \n",
       "Alprazolam                        0.003607  0.002484  0.007189  0.004875   \n",
       "Amitriptyline                     0.006265  0.005436  0.007244  0.007483   \n",
       "Amitriptyline / chlordiazepoxide  0.000775  0.001094  0.003052  0.029328   \n",
       "Amoxapine                         0.000000  0.000000  0.000000  0.000000   \n",
       "...                                    ...       ...       ...       ...   \n",
       "Wellbutrin SR                     0.005358  0.001221  0.001229  0.007962   \n",
       "Wellbutrin XL                     0.004890  0.004294  0.008139  0.008848   \n",
       "Xanax                             0.006003  0.010952  0.006957  0.012263   \n",
       "Zoloft                            0.010385  0.007092  0.007208  0.010845   \n",
       "Zyprexa                           0.006777  0.001217  0.005181  0.007588   \n",
       "\n",
       "                                  topic_12  topic_13  topic_14  topic_15  \\\n",
       "drugName                                                                   \n",
       "Abilify                           0.016984  0.005146  0.003967  0.012722   \n",
       "Alprazolam                        0.014784  0.015565  0.006432  0.008883   \n",
       "Amitriptyline                     0.015298  0.008441  0.007480  0.009560   \n",
       "Amitriptyline / chlordiazepoxide  0.006533  0.002958  0.019535  0.002827   \n",
       "Amoxapine                         0.045541  0.001751  0.000157  0.005684   \n",
       "...                                    ...       ...       ...       ...   \n",
       "Wellbutrin SR                     0.017235  0.006726  0.008547  0.007064   \n",
       "Wellbutrin XL                     0.014172  0.015929  0.001116  0.009609   \n",
       "Xanax                             0.013977  0.008336  0.001981  0.019256   \n",
       "Zoloft                            0.015590  0.009635  0.007647  0.009750   \n",
       "Zyprexa                           0.013080  0.009335  0.019702  0.011294   \n",
       "\n",
       "                                  topic_16  topic_17  topic_18  topic_19  \n",
       "drugName                                                                  \n",
       "Abilify                           0.007889  0.014617  0.004906  0.014234  \n",
       "Alprazolam                        0.005850  0.013032  0.003898  0.010990  \n",
       "Amitriptyline                     0.010647  0.013373  0.002172  0.002537  \n",
       "Amitriptyline / chlordiazepoxide  0.000060  0.000783  0.000564  0.000000  \n",
       "Amoxapine                         0.000650  0.016799  0.000312  0.006010  \n",
       "...                                    ...       ...       ...       ...  \n",
       "Wellbutrin SR                     0.010714  0.018327  0.007528  0.008140  \n",
       "Wellbutrin XL                     0.004085  0.015811  0.005305  0.002951  \n",
       "Xanax                             0.004467  0.016825  0.006288  0.006725  \n",
       "Zoloft                            0.006709  0.016208  0.007704  0.007844  \n",
       "Zyprexa                           0.015272  0.008118  0.001997  0.013630  \n",
       "\n",
       "[101 rows x 20 columns]"
      ]
     },
     "execution_count": 109,
     "metadata": {},
     "output_type": "execute_result"
    }
   ],
   "source": [
    "dn.groupby('drugName').mean().sort_values(by= 'drugName')"
   ]
  },
  {
   "cell_type": "code",
   "execution_count": 122,
   "metadata": {},
   "outputs": [],
   "source": [
    "dn = dn.to_csv(r'C:/Users/BereketSharew/Desktop/dn.csv',index =False)"
   ]
  },
  {
   "cell_type": "code",
   "execution_count": null,
   "metadata": {},
   "outputs": [],
   "source": []
  },
  {
   "cell_type": "markdown",
   "metadata": {},
   "source": [
    "# Topic interpretation"
   ]
  },
  {
   "cell_type": "code",
   "execution_count": 53,
   "metadata": {},
   "outputs": [],
   "source": [
    "def top_review(doc_topic_matrix_df, topic, n_doc):\n",
    "    return (doc_topic_matrix_df\n",
    "            .sort_values(by=topic,ascending=False)\n",
    "            .head(n_doc)['review_clean']\n",
    "            .values)\n",
    "\n",
    "def top_words(term_topic_matrix_df, topic, n_words):\n",
    "    return (term_topic_matrix_df\n",
    "            .sort_values(by=topic,ascending=False )\n",
    "            .head(n_words))[topic]"
   ]
  },
  {
   "cell_type": "code",
   "execution_count": 54,
   "metadata": {},
   "outputs": [
    {
     "name": "stdout",
     "output_type": "stream",
     "text": [
      "I use to experience severe panic attack every single day until I decide to see a doctor   have not have a single attack since I start on pristiq   good antidepressant I have ever take\n",
      "\n",
      "  be in chronic pain with chronic fatigue for   plus year fibromyalgia and cfs this cause many year of depression take other   over the year but be always teeter on the side of depression cymbalta do nothing for I except weight gain   my dr give I a trial pack of viibryd when I start the   mg I experience severe gi upsetsheartburn growl amp grumble gas amp nasty taste on my tongue I also have vividly violent dream as soon as I fall asleep I report these complaint to my dr and he lower my dosage to   mg I still have a little gas and a violent dream every once in a while but my depression amp energy be so much well I feel like quotmequot again I definitely recom \r",
      "\r",
      " mend give viibryd a try\n",
      "\n",
      "I have suffer from major depression since childhood and have have fibromyalgia since     try effexor paxil elavil zoloft lexapro wellbutrin nortriptyline prozac and on and on all make my depression bad and leave I so tired I   function   I promise she that I   quit take it because of side effect and without talk to her first   three week I have have it but my husband keep encourage I and my doctor be out of town   week all the side effect super super fatigue dizziness nausea stomach cramp yawn no appetite have disappear and I feel fabulous emotionally and physically give it time if   have little success with other antidepressant   this one work for I\n",
      "\n",
      "I take sertraline for depression and anxiety and while it work well it also give I insomnia and my jaw shake a lot during the day I almost feel high when I wake up due to take my tablet just before I go to bed to try and stop the insomnia and for the first week or so I feel sick and be heave constantly however this wear off within a week that be say I   feel upset or anxious anymore but I   feel happy either I just feel like I can get through the day and   nice to not be cry and feel scared all day\n",
      "\n",
      "  be take abilify on and off for about eight year I feel so flat I use to be a go getter not anymore I feel lazy with the abilify and lamictal combo what should I do I feel emotionally flat and people say I look lifeless\n",
      "\n",
      "I have have clinical depression since I be a young child I be now almost   and I   think   ever be happy for more than a few week at a time in my entire life I have be on zoloft and wellbutrin in the past that do not help at all I have be on brintellix for a little over   month now and it have change my life   a well wife mother and a significantly well college student for the first time in my life I feel alive there be no longitudinal study on this new drug which make I nervous side effect be severe for about   week and my insurance   cover this very expensive drugwhy I rate   ultimately brintellix change my life I   think I would ever be happy\n",
      "\n",
      "nan\n",
      "\n",
      "before take this my hand and foot be always so cold my depressing mood I just could not shake off I be irritable and hopeless a drone live day to day   I finally turn to my doctor for help it surprise I to find out that my be cold even in the heat of the summer have to do with anxiety within the first day of take this medication I feel instant relief the will to live flow in my vein right down to my fingertip and toe I feel alive again no long cold no long hopeless I be happy to be I and so very thankful that this type of medication exist   obvious by this board that it help a lot of people just like it help I one symptom yawn so I go outside for deep breathe of air\n",
      "\n",
      "nan\n",
      "\n",
      "absolutely save my life   try numerous drug over   year and this be a miracle no side effect whatsoever   I feel well than I ever have in my life\n",
      "\n"
     ]
    }
   ],
   "source": [
    "for review in top_review(doc_topic_matrix_df, 'topic_0', 10):\n",
    "    print(review)\n",
    "    print()"
   ]
  },
  {
   "cell_type": "code",
   "execution_count": 55,
   "metadata": {},
   "outputs": [
    {
     "data": {
      "text/plain": [
       "year         4.311037\n",
       "ago          1.148694\n",
       "old          0.676257\n",
       "suffer       0.414945\n",
       "finally      0.360101\n",
       "different    0.306550\n",
       "severe       0.268612\n",
       "use          0.260990\n",
       "prescribe    0.238723\n",
       "past         0.233736\n",
       "Name: topic_0, dtype: float64"
      ]
     },
     "execution_count": 55,
     "metadata": {},
     "output_type": "execute_result"
    }
   ],
   "source": [
    "top_words(term_topic_matrix_df, 'topic_0', 10)"
   ]
  },
  {
   "cell_type": "code",
   "execution_count": null,
   "metadata": {},
   "outputs": [],
   "source": [
    "topic_0 = length of time on medications"
   ]
  },
  {
   "cell_type": "code",
   "execution_count": 492,
   "metadata": {},
   "outputs": [
    {
     "name": "stdout",
     "output_type": "stream",
     "text": [
      "nan\n",
      "\n",
      "\"This medicine almost killed me. Symptoms worst at 40 mg but there earlier. I ended up in the ER twice and was admitted to the hospital for days after a month with uncontrollable diarrhea, vomiting and the worse abdominal cramps I&#039;ve ever had before anyone realize it was the Viibryd.  I pass kidney stones regularly, so I have a super high pain tolerance and the lower abdominal pain from Viibryd was as bad if not worse than that.  I had uncontrollable leg and body spasms and agitation and anxiety through the roof.  Tapering off the stuff ended up being just as bad, every time I took the tapered dose I felt like I was taking poison and I would go into convulsions. less serious side effects including, eye pain, odd vaginal discharg\"\n",
      "\n",
      "\"I have been taking Effexor 300mg for 2 years, and it has saved my life. I didn&#039;t care if I died prior to taking it. I never get sleepy or tired, and I can concentrate much better than I used too. My depression is gone.\"\n",
      "\n",
      "\"Abilify has been a miracle for me. For 14 years I&#039;ve tried to get relief from major depression, and until I got on this medicine nothing else worked. No weight gain a little side effect. My biggest gripe, TOO MUCH ENERGY. \"\n",
      "\n",
      "\"I have taken 4 doses of Celexa thus far.  I noticed changes about 24 hours in.  Prior to starting I was very out of it, sad, withdrawn, had urges to hurt myself, no appetite, nausea/vomiting, anxiety, etc.  I saw my doctor for my worsening depression and she added Celexa to my other meds (Wellbutrin, Lamictal, Geodon).  I had been on that combination and the same dosages since May 2014.  My boss noticed major negative changes since May.  Today I am a little dizzy and nauseous, but otherwise, feeling much better, which is weird.  I am not used to this feeling.  I was worried this was too drastic of a change because it had been only 24 hours, but after reading other reviews, I am optimistic.\"\n",
      "\n",
      "\"I&#039;m a 52 y/o male. I&#039;m on bupropion for Major Depressive Disorder.  In the past I&#039;ve been on Zoloft, Effexor XR and Cymbalta.  There is really no comparison; once I settled in with Wellbutrin, I just feel &quot;normal&quot;. I don&#039;t have that &quot;zombie&quot; effect you get on SSRIs and SNRIs.  My sex drive is fine and there are very few side-effects.\r\n",
      "\r\n",
      "The first 2 weeks were tough. I was extremely nervous about side-effects so I went with the IR version, that way it wouldn&#039;t be stuck in my system for a couple of days if the first dose or two didn&#039;t go well.  I am now up to 100mg 3 time/day and doing fine.\"\n",
      "\n",
      "\"I have been taking this drug for 6 months. I started after a very sad time in our family and some months after this I had days where I would just breakdown and cry for no reason.  I found out that depression is in our family and has made me more aware of this disease. I fell generally better and don&#039;t have the days of sadness that I use to but have side affects of insomnia, low sex drive, dizziness and sometimes fatigue.  Overall I fell this drug has been helpful and would reccomend it to others.\"\n",
      "\n",
      "\"Helped a lot.\"\n",
      "\n",
      "\"Also wanted to add since I ran out of room on my last post that this medication has also caused me to have SEVERE hot flashes, I&#039;m going through menopause but my hot flashes were not as bad until I started taking fetzima, after I went off of it for 3 months my hot flashes almost vanished, not as severe and not so many and now I&#039;ve been back on fetzima again for 3 months and HELLO HOT FLASHES, this medication is the worst!!!!!!!!\"\n",
      "\n",
      "nan\n",
      "\n",
      "\"Very positive results in the beginning but now I feel sleepy and unmotivated. My mood is stable however, keeping away the depression so far. Gained weight on it.\"\n",
      "\n",
      "\"Overall I&#039;d say it worked for a bit. Not sure if I should have had my dosage increased when the side effects started back up, or if it was because I messed up my scheduling for taking it. It put my anxiety through the roof. More anxiety than I&#039;d ever had naturally. I got it mostly for depression/possible bipolar, and it worked for the most part until the side effects kicked in, save for the random swells of depression that wouldn&#039;t last for more than two hours but felt so much worse than the stable depression I&#039;ve had for years. I&#039;d recommend it for someone who&#039;s better at keeping appointments than I am.\"\n",
      "\n",
      "\"Depression and anxiety and life issues were miserable and impacting my relationships. Went to the doc and found out my blood pressure was sky-high. Described my life issues and he put me on Viibryd and blood pressure meds. Side effects have been mild: restless legs first week, crazy strange dreams that though sometimes violent provoke no anxiety or fear, gas, and aching legs. The legs thing is the worst, though it is subsiding (into my second month of 40mg). But going for walks, made my legs ache like they&#039;d been hit. My bowels move GREAT, which they haven&#039;t in a while. The gas is hilarious to me. LOVE this medicine. I feel wonderful.\"\n",
      "\n",
      "\"I have dealt with depression, anxiety, social phobia or social anxiety which ever label they want to use for it these days. I have dealt with these issues pretty much since kindergarten. Well mainly the extreme social phobia/anxiety at that time which they used to just call &quot;shy&quot;. When I was 18 and was seeing a psychologist he diagnosed me as having agoraphobia, I&#039;m guessing because they really didn&#039;t have the term &quot;social phobia/anxiety&quot; at that time. I finally started taking Paxil and it worked good for 10 yrs then I maxed out on dosage and it stopped working. Tried all the other SSRI&#039;s/SSNRI&#039;s. Effexor XR worked best but didn&#039;t help anxiety/or social phobia issues. Got on Klonopin, then Xanax eventually. Benzodiazepines are life savers for socialphobia.\"\n",
      "\n",
      "\"I started taking this about 2 weeks ago. I was petrified because I have had been on so many meds for my bipolar manic depressive state of health. So far so good. Had like 3 days of nausea. But that is over. I am more focused and a little more accepting of life. Versus I wanted to end my life. I foresee very good results with this medication.\"\n",
      "\n"
     ]
    }
   ],
   "source": [
    "for review in top_review(doc_topic_matrix_df, 'topic_1', 15):\n",
    "    print(review)\n",
    "    print()"
   ]
  },
  {
   "cell_type": "code",
   "execution_count": 493,
   "metadata": {},
   "outputs": [
    {
     "data": {
      "text/plain": [
       "weight      1.762007\n",
       "gain        1.658055\n",
       "lose        0.440316\n",
       "pound       0.309419\n",
       "lbs         0.298358\n",
       "eat         0.256638\n",
       "cause       0.156947\n",
       "abilify     0.140607\n",
       "loss        0.137275\n",
       "appetite    0.128481\n",
       "Name: topic_1, dtype: float64"
      ]
     },
     "execution_count": 493,
     "metadata": {},
     "output_type": "execute_result"
    }
   ],
   "source": [
    "top_words(term_topic_matrix_df, 'topic_1', 10)"
   ]
  },
  {
   "cell_type": "markdown",
   "metadata": {},
   "source": [
    "topic_1 = weight gain"
   ]
  },
  {
   "cell_type": "code",
   "execution_count": 113,
   "metadata": {},
   "outputs": [
    {
     "name": "stdout",
     "output_type": "stream",
     "text": [
      "I think viibryd be a pretty good medicine   be on so many different antidepressant   always concerned about weight gain as a side effect because that to be completely honest would make I not take it however this be really good in that aspect and the only side effect   have be diarrhea the first   day of take it\n",
      "\n",
      "I be prescribe the generic form of prozac and at   week my depression become more severe I begin feel hopeless bad I have feel in a very long time   glad to hear that most people find improvement but want to share my experience\n",
      "\n",
      "nan\n",
      "\n",
      "I have be on pristiq for almost   month   I be very hesitant at first but be desperate for something to help with anxiety depression and mood swing it have work wonder and my family agree the first week be hard but after that only minor side effect most of which have disappear completely I be a different person now and so very grateful\n",
      "\n",
      "nan\n",
      "\n",
      "the drug remove some of the empty   feel lonely feeling about life as well as intrusive wincing thought   I find it pretty sedating can sleep through the weekend if not carefull   create a kind of careless numb feeling toward everything but that can be well than the alternative   for the first few week I remember it can increase anxiety a little have hear many people quit cause of this and sleeplessness at start   I wonder how bad they really be to start I keep go because I could nt go back remind myself how it be before start   five year seem to drift by yes it make life easy but probabally remove some of the motivation to change complacency set in\n",
      "\n",
      "  only be on sertraline for just over a week and   notice a massive difference already    be suffer with major pmt and depression for a long time but after try a number of antidepressant and each one make I feel so ill to continue take they   stop and try just buy herbal tablet but they   really do alot so after feel so ill and nearly lose everything I go back to the doctor and be put in these I be tell to take   once a day but after take they for the first   day I feel absolutely awful so I just take half a tablet   each night I feel a million time well already   my   day now and I and my husband and child can see a huge difference in my mood already\n",
      "\n",
      "I start emsam when hospitalize   my doctor notice the positive effect before I do   she notice I be think more clearly and more active   after   week I begin to notice my mental clarity   after   month I clean my house in   day and begin to shower dress apply make up and do my hair every day   I do not have to think about what need to be do I just do it   this be the first time in my life I can ever remember just be I   after   month I become allergic to the adhesive I can no long use emsam   what I   give to once again know who I be   but I be lose in depression and pain   I would gladly live with the restriction of emsam because I would be live\n",
      "\n",
      "nan\n",
      "\n",
      "I have be on pristiq   mg for over six year now I be   when I start and I have pervasive and disturb suicidal thought serious self harm issue and neuroticism up the wazoo I would be dead if it   for take this drug \r",
      " I just want to say that you   be scared about take the generic it work just as fantastically for I as pristiq and be significantly cheap\n",
      "\n",
      "nausea nausea nausea   all I can say my doctor keeps tell I to hang in there but I need something different my depression   seem to be improve   be deal with this for two month\n",
      "\n",
      "take this med for a month at   and I be one of those who begin to notice positive effect overnight it improve my mood exponentially and since   never have a sex drive from depression I actually gain one while on paxil sex be much more pleasurable unfortunately I think I could find a med that be even well so be put on cymbalta and abilify but have have miniscule improvement tomorrow   go to start back up on the paxil\n",
      "\n",
      "now on day   of   wellbutrin I feel jittery out of it like my brain be cement and   move when I turn my head I can hardly concentrate for a conversation I drop thing I have trouble think straight I drive my car the first day but should not have I will continue hope that these horrible side effect go away\n",
      "\n",
      "I have be really surprise by paxil   be disable by panic disorder and followon depression for year   benzodiazepine provide relief from panic attack but increase depression   I try other   with horrible experience \r",
      "\r",
      " my md really want I on an antidepressant I want away from benzodiazepine so I take a chance with paxil the first month be bit of nauseacramp   bad be feeling and thought be really jumble \r",
      "\r",
      " somewhere in   month it all sort of stabilize I feel a lot well panic attack drop a lot now in   month   before paxil I be housebound and hopeless slowly start to live again\n",
      "\n",
      "nan\n",
      "\n"
     ]
    }
   ],
   "source": [
    "for review in top_review(doc_topic_matrix_df, 'topic_2', 15):\n",
    "    print(review)\n",
    "    print()"
   ]
  },
  {
   "cell_type": "code",
   "execution_count": 114,
   "metadata": {},
   "outputs": [
    {
     "data": {
      "text/plain": [
       "sleep       1.809648\n",
       "night       1.081629\n",
       "wake        0.475164\n",
       "hour        0.461472\n",
       "morning     0.317017\n",
       "tired       0.275863\n",
       "fall        0.224669\n",
       "asleep      0.220346\n",
       "bed         0.213335\n",
       "insomnia    0.161432\n",
       "Name: topic_2, dtype: float64"
      ]
     },
     "execution_count": 114,
     "metadata": {},
     "output_type": "execute_result"
    }
   ],
   "source": [
    "top_words(term_topic_matrix_df, 'topic_2', 10)"
   ]
  },
  {
   "cell_type": "code",
   "execution_count": 542,
   "metadata": {},
   "outputs": [
    {
     "name": "stdout",
     "output_type": "stream",
     "text": [
      "this medication give I my life back I could actually get out of my room and do life like a normal person but with a lot more energy than most people this be definitely not for people with anxiety which be why I take it with buspar but my focus be extremely sharp and I be able to just nail through daily task like a pro and feel really good about it\n",
      "\n",
      "I start take cymbalta   month ago   I know that they say this medicine can take about   week to kick in however I feel relief within hour of take it   maybe   some medical miracle or my body finally get what it need   I be a well educate woman who have a rough childhood   I try different antidepressant over the year and never feel anything like this   I stop have suicidal thought   the side effect be loss of appetite and so tired that I have to lay down in the afternoon   the only other medication I take be birth control   I discover the follow   if I take my birth control at night before bed and the   cymbalta in the morning then   not tire   the side effect go away by the   week so hang in there\n",
      "\n",
      "I take sertraline for depression and anxiety and while it work well it also give I insomnia and my jaw shake a lot during the day I almost feel high when I wake up due to take my tablet just before I go to bed to try and stop the insomnia and for the first week or so I feel sick and be heave constantly however this wear off within a week that be say I   feel upset or anxious anymore but I   feel happy either I just feel like I can get through the day and   nice to not be cry and feel scared all day\n",
      "\n",
      "I have not be able to stay awake for more than a few hour at a time and so depressed that I   go out in public but since I have be take effexor I be   well I be a new person I want to get out and do thing and I sense of well be I love this feeling its like a new I I be well than ever\n",
      "\n",
      "after the death of one of my relativemy whole world change I think it be due to my emotional nature   I start have panic attack lack of interest unusual feeling of fear lack of appetite be not able to look after myself or my family I think that I be go to diei t be all unbearable but believe I lexapro be really great after   week I start feel my normal self mild side effect yawn tiredness but it may be due to my illness rather than the medicine effect after take this medicine I get my strength back it have save my life just give it a try and hang on there for at least   month it can really save your life too\n",
      "\n",
      "this be the first medicine that I have use that help my fibromyalgia pain and sleep issue\n",
      "\n",
      "day   of take wellbutrin xl I be the most positive   be in a long time I have a very vivid colorful dream that first night the first time   ever dream in color that I can remember the dream subside after day one but the medication continue to make I feel well   about   month in and   be absolutely amazing in treat my depression my motivation have drastically skyrocket and I feel more positive and optimistic about life\n",
      "\n",
      "I have be on lexapro for about two week now and I can definitely tell the difference I have depression and anxiety and this medicine have help I manage both I have a horrible temper and I be always verbally attack my husband because I have condition myself to be all the defensive so that insult   bother I I have be able to tell the difference that I be not angry with my husband all of the time he   like the fact that I be on medication but he acknowledge that the change in I have be extremely helpful in make our relationship well\n",
      "\n",
      "my upper eyelid seem to swell   from this what be this from\n",
      "\n",
      "it save my life   it be the perfect medicine for I except for chronic constipation   go to the hospital for the constipation I do not know it be cause by zoloft at the time and they find I have appendicitis which rupture while I be wait at the hospital and also that I have kidney cancer so get   surgery   for the ruptured appendicitis and   to take away my left kidney   have it not be for the zoloft I would be dead   I of course have to change medicine and go the second choice prescribe by the psychiatrist   it work but not as well as the zoloft unfortunately   zoloft be excellent and if it be not for chronic constipation   be back on it   good luck all\n",
      "\n",
      "  on   mg of zoloft and it have change my life\n",
      "\n",
      "nan\n",
      "\n",
      "be battle depression for over   year I have have a lot of stress and strain in my life I take drug and come off they when I feel well so I be inconsistent with treatment I have try fluoxetine citalapram and sertraline I be try to take   of sertraline per day however for I sertraline help with my anxiety to a point but the insomnia have be dreadful I awake in the middle of the night poor sleep then want to sleep in day as   t cope with no sleep the body need to recover during sleep if I   get this I become paranoid I feel sertraline   mg for I have be poor experience I be currently in process of wean off I may go back to citalapram as this be the good drug for I we be all different xx\n",
      "\n",
      "I have be on this antidepressant for many year and while it have help I to sleep I have have really bad tinnitus so I   be take it again\n",
      "\n",
      "do not miss a dose if you take this medication I literally forget to take one pill this afternoon of my wellbutrin and now I feel absolutely miserable I have be cry for the past four hour nonstop feel so much grief and self hatred and be have suicidal thought   never be this bad before and I attribute it to miss one pill   really scare of how miss just one pill have so much of an effect on I\n",
      "\n"
     ]
    }
   ],
   "source": [
    "for review in top_review(doc_topic_matrix_df, 'topic_3', 15):\n",
    "    print(review)\n",
    "    print()"
   ]
  },
  {
   "cell_type": "code",
   "execution_count": 541,
   "metadata": {},
   "outputs": [
    {
     "data": {
      "text/plain": [
       "mg          2.374369\n",
       "increase    0.150117\n",
       "dosage      0.143050\n",
       "daily       0.108979\n",
       "abilify     0.105251\n",
       "ago         0.079478\n",
       "need        0.070212\n",
       "cut         0.069408\n",
       "yr          0.066848\n",
       "morning     0.063460\n",
       "Name: topic_3, dtype: float64"
      ]
     },
     "execution_count": 541,
     "metadata": {},
     "output_type": "execute_result"
    }
   ],
   "source": [
    "top_words(term_topic_matrix_df, 'topic_3', 10)"
   ]
  },
  {
   "cell_type": "markdown",
   "metadata": {},
   "source": [
    "topic_2 = sleep"
   ]
  },
  {
   "cell_type": "code",
   "execution_count": 540,
   "metadata": {},
   "outputs": [
    {
     "name": "stdout",
     "output_type": "stream",
     "text": [
      "I too be excited at first to try it   it be great the first month with the exception of very vivid dream sometimes nightmare   I would often wake cry   I feel great but then read these review I find that my recent mood change have be because of this medication   I have be blame pm on everything but everything get on my nerve my dog bark the clicking of their nail on the floor even my kid eat and of course my husband   do anything right   I be very pleased with the medication at first   feel like a new person but now I see that the way I have be feel could be because of the viibryd   it   even dawn on I   I wish I have read these review soon I be go to contact my doctor today\n",
      "\n",
      "nan\n",
      "\n",
      "nan\n",
      "\n",
      "I be recently put on wellbutrin by the   psychiatrist   I just start it yesterday and I feel great   the thing that I use to dwell be not on my mind   I wake up early this morning for work and I never do that   I smile today and I feel like have new adventure and not concentrate on thing that make I upset   I be sure there will be well day to come and I be so excited\n",
      "\n",
      "this have be a life changer for I I guess I never realize how depressed I actually be until I start on zoloft   be fight it for year force myself to get up and get by each day but get bad and worse avoid people have problem talk have horrible insomnia \r",
      "\r",
      " within a week of be on zoloft I notice a major difference I actually feel optimistic about life for the first time in as long as I can remember my relationship with my wife family friend and coworker have all improve dramatically in short   no long depressed \r",
      "\r",
      " I have some side effect over the first few day restless leg night sweat a zonke out   feeling but they pass quickly\n",
      "\n",
      "I have be deal with clinical depression since I be in kindergarten    now   have be on and off many different antidepressant over the year mostly off because of the side effect and some make I feel bad   therapy never help   have be on celexa   for last month month   and   work very well   I have actually lose   lbs be on it because of loss of appetite   the only side effect I   like be increase headache and decrease libido   I do still feel sad and alone at time but not as bad as I use to   I be use xanax a lot less too\n",
      "\n",
      "have be take this for over   yr and have find it to be pretty good overall have have no side effect like the one mention here by other so   obviously very individual have notice recently tho that its effectiveness have be wane so be now on mirap to try to boost my depression    be completely drowsy nearly all the time\n",
      "\n",
      "  start take   a few day ago also I smoke weed as well for chronic back pain and previous anxiety   I   notice to many negative side affect but my sex drive   as high but it all still work I have notice little positive here and there but it take some of that dwelling it allow I to produce clear and concise argument\n",
      "\n",
      "I be on abilify for   month and pack on   and discontinue it it make I feel very flat and very tired my doctor say it be weight neutral but it definitely   seroquel also make I gain but be on respiridrone now and though I have gain a little   not as bad as the other abilify   help my delusion at all and I feel quite depressed on it I quit it cold turkey and lose   in   month but then become ill again my big weight gain be always after I have be out and have a few drink glad to be off it and might look into try latuda\n",
      "\n",
      "I start on   mg of brintellix and take it at night I do not have any side effect in the first two day except that I feel a little bit more depressed at night on day two   I   sure if it be due to the medication or not on the third day I have a mental breakdown I have one negative thought after another and my mind be race I start cry and get suicidal I be so worried for my safety so I be think about go to the er but I stick it out and eventually the suicidal thought disappear after that incident I get off of brintellix it be the bad experience   have from a medication\n",
      "\n",
      "I have be on lexapro for about two week now and I can definitely tell the difference I have depression and anxiety and this medicine have help I manage both I have a horrible temper and I be always verbally attack my husband because I have condition myself to be all the defensive so that insult   bother I I have be able to tell the difference that I be not angry with my husband all of the time he   like the fact that I be on medication but he acknowledge that the change in I have be extremely helpful in make our relationship well\n",
      "\n",
      "I be on lexapro   while I be caregiver for my mom and brother for   year they both pass away and I decide to go off of the lexapro so wean off wrong thing to do I hit a low and be so depressed I become suicidal I miss they both terribly and feel so empty my doctor put I on citalopram   mg and within a few day I could feel the difference again I have be on it for over a month and be on   mg finally I be able to go out and meet people again and handle my depression the only bad thing from both med be my lack of sexual desire I be   but be not dead so would like to be able to make love with my hubby but if that have to be give up to keep my sanity and our home peaceful again then it be worth it to both of we\n",
      "\n",
      "nan\n",
      "\n",
      "after take prozac successfully for about   year I talk with my doctor about switch to a different antidepressant because I miss have a sexdrive   after a year on citalopram there be no change   so I switch to bupropion   it cause I to feel very depressed and extremely anxious   I be well aware that antidepressant take several week to have positive effect and that the side effect also tend to go away   so I stick with the bupropion for   week   it just get bad and bad and I start to feel suicidal for the first time in my life   I have be back on prozac now for   week and be feel a little well stop prozac just to try to get sex drive back be a big mistake\n",
      "\n",
      "I start on   mg to help with the sexual side effect of celexa   for the first five month it work great april   september   at the end of september through to october I start to have memory and concentration problem   I start to think I have do thing and actually do not   my last straw be when I quotknowquot I send an email and eventually find out that I have not   I quotrememberquot type and send the email but it never happen   I go to the doctor today and she take I off of it and because of the sexual side effect of celexa she start I on zoloft   I have try paxil in the past but it give I hallucination   hope the zoloft work\n",
      "\n"
     ]
    }
   ],
   "source": [
    "for review in top_review(doc_topic_matrix_df, 'topic_4', 15):\n",
    "    print(review)\n",
    "    print()"
   ]
  },
  {
   "cell_type": "code",
   "execution_count": 497,
   "metadata": {},
   "outputs": [
    {
     "data": {
      "text/plain": [
       "anxiety       2.554383\n",
       "suffer        0.315568\n",
       "disorder      0.277345\n",
       "social        0.262545\n",
       "severe        0.262514\n",
       "prescribe     0.184269\n",
       "increase      0.149549\n",
       "med           0.146993\n",
       "insomnia      0.134292\n",
       "generalize    0.107591\n",
       "Name: topic_4, dtype: float64"
      ]
     },
     "execution_count": 497,
     "metadata": {},
     "output_type": "execute_result"
    }
   ],
   "source": [
    "top_words(term_topic_matrix_df, 'topic_4', 10)"
   ]
  },
  {
   "cell_type": "markdown",
   "metadata": {},
   "source": [
    "Topic_4 = Anxity"
   ]
  },
  {
   "cell_type": "code",
   "execution_count": 498,
   "metadata": {},
   "outputs": [
    {
     "name": "stdout",
     "output_type": "stream",
     "text": [
      "\"Been taking Brintellix for 2 weeks and so far feeling pretty good. I&#039;m a little worried about the weight gain and the price. I finally find something that works for me and it causes these side affects and ridiculous how pricey it is to feel normal! Sad to know that if I can&#039;t afford it or it puts weight on me that I&#039;m going to have to stop taking a drug that actually helps! I work out 4 days a week and had lost 22 lbs but I&#039;ve gained 4 in 2 weeks.Not acceptable! I will continue taking for another 2 weeks and see what happens!\"\n",
      "\n",
      "nan\n",
      "\n",
      "\"Wellbutrin made me a bit dizzy when I first began to take it, but on the long term it helped me quite a lot with my motivational problems and depression. I am on a 300mg dose.\"\n",
      "\n",
      "\"Wellbutrin is the best antidepressant that I have taken. I have tried other medications: Effexor, Celexa, Lexapro and although they took away my bad depression, they left me feeling just okay. I also had weight gain and sexual side effects. Effexor also caused me to sweat a lot- even when it was not hot. The first few weeks of Wellbutrin can be tough- nervousness, dizzy, but I stuck it out and I feel much better. More energy, happier, decreased appetite, smoking much less, getting back to the real me who loves life and people. Good luck to all fellow depression  sufferers. There is hope- it does pass.\"\n",
      "\n",
      "\"I have major depression, anxiety and obsessive compulsive disorder.  Most of the meds I tried over the last 14 years made me gain huge amounts of weight, killed my sex drive, had me twitching as I tried to sleep, or I had insomnia.  I found that to keep the worst side effects (not sleeping/poor sleep) at bay, I had to take lower doses that were barely managing my depression and anxiety and I was still gaining weight and had no sex drive.  My new dr. suggested Viibryd.  I had minor GI issues and gas the first couple weeks but those have gone.  I am on 20mg/day and feel wonderful. I feel normal. No side effects!  Seems from the reviews this is a love it or hate it medication.  I would recommend that anyone at least try it. \"\n",
      "\n",
      "\"I have been ON EVERYTHING even when it was in test study, Prozac, etc.\r\n",
      "After being  on the test study for Pristiq I begged to be put on it on a regular basis.  I sleep 7-8  hours per night uninterrupted, I am high performance on my job, I have a renewed life even including exercise.  However this medicine is a 4 tier on my Blue Cross supplemental and it is very expensive for a 90 day supply.\"\n",
      "\n",
      "\"Pristiq changed my life for the good. I tried others, this was the only one that worked and worked wonders for me. The only downside was a weight gain first year or two  which is now under control.\"\n",
      "\n",
      "\"I was given Effexor XR  for depression. I had the usual side effects at first dizziness, nauseous, weird dreams and tingly. I was able to beat most of these by taking the medication at the same time every night. The down side was if I was late by a few hours taking it the dreams and tingly feeling returned bad. I was started on 75mg and that worked for a few months then the dosage was upped to 150mg. This worked for a few months as well then I hit rock bottom again and the dosage was upped again to 225mg unfortunately this only worked for a few months. A year after this I was given it again this time it only worked for a couple weeks. This was not the medicine for me.\"\n",
      "\n",
      "\"Helps but I have to take it every 4 hours only .125mg to see any effect\"\n",
      "\n",
      "\"Sertraline has actually filled in the gaps where Citalopram failed. However, bowel movements have become a tentative almost ambivalent arrangement but so far that is the worst of the side effects for me personally. Although I do have dark days, the dogs don&#039;t bark quite so loudly or for so long. Sertraline has given me the ability to stop thinking about the things I am troubled by and focus on what I want to do and what I want to be with perspicacity and belief in myself and to accept the fact that it&#039;s okay to have such medication to treat depression in exactly the same way that it is okay to have HRT for menopause or insulin to treat diabetes. Stick with it.\"\n",
      "\n",
      "\"This medicine upset the last two months of my life. I kept telling my doctor is was not working, He told me to keep trying it. I continuously had diarrhea for two months sometimes having accidents. Sometimes my stools were bloody in nature and I went to see my regular doctor to see if something else was wrong with me and found out it was a side effect of Viibryd. I was extremely irritated at the time of day I would take my dose and a side effect is anger, I lost great friendship with family and friends because I became angry. I am depressed and usually very mellow. For the first time in my life, I was suicidal while on this medicine. Going off the medicine, the withdrawals led to an itchiness of my skin of my entire body. No more Viibryd!\"\n",
      "\n",
      "\"I was 1st prescribed Zoloft, which for me was absolutely perfect until none of my clothes fit about 3 months into it.  I gained 25 lbs and the weight gain brought new depression and anxiety.  I was put on Wellbutrin which was a &quot;nice&quot; drug if your depression isn&#039;t too severe and I lost weight on the it, but it couldn&#039;t hold a candle to my problems.  Then, I tried Pristiq (and I also use Valium and Ambien for any additional anxiety).  It&#039;s a happy medium between the 2 medicines.  You won&#039;t have the side effects of Zoloft (weight gain, loss of sexual interest), but you&#039;ll have a stronger backing against the physical and mental toll of depression and anxiety.  \"\n",
      "\n",
      "\"Side effects were severely increased depression, sadness and other horrible exacerbation of PTSD (and I am in my 50s). Only drug I ever took with worse side effects than this was prednisone, but that was effective.\"\n",
      "\n",
      "\"Cymbalta has been the single most helpful medication I have used for depression. It has enabled me to return to work and my clarity of mind has much improved.  My physical pain has also been tremendously reduced and no longer takes all my energy.  Thank you Cymbalta - You really have saved my life.\"\n",
      "\n",
      "\"This med  works well for norepinephrine uptake inhibition which is my problem.  However, it can cause anorgasmia in men over 50 years of age.  I can have an erection and sexual intercourse but I never finish the job.  One of the side effects listed for this drug if you read the small print.  I stopped using it years ago and still have side effects.\"\n",
      "\n"
     ]
    }
   ],
   "source": [
    "for review in top_review(doc_topic_matrix_df, 'topic_5', 15):\n",
    "    print(review)\n",
    "    print()"
   ]
  },
  {
   "cell_type": "code",
   "execution_count": 499,
   "metadata": {},
   "outputs": [
    {
     "data": {
      "text/plain": [
       "nausea        1.475862\n",
       "headache      0.984773\n",
       "experience    0.809506\n",
       "mouth         0.553833\n",
       "dry           0.551636\n",
       "away          0.434043\n",
       "diarrhea      0.422610\n",
       "stomach       0.415769\n",
       "severe        0.370127\n",
       "pain          0.366768\n",
       "Name: topic_5, dtype: float64"
      ]
     },
     "execution_count": 499,
     "metadata": {},
     "output_type": "execute_result"
    }
   ],
   "source": [
    "top_words(term_topic_matrix_df, 'topic_5', 10)"
   ]
  },
  {
   "cell_type": "markdown",
   "metadata": {},
   "source": [
    "topic_5 = nausea"
   ]
  },
  {
   "cell_type": "code",
   "execution_count": 500,
   "metadata": {},
   "outputs": [
    {
     "name": "stdout",
     "output_type": "stream",
     "text": [
      "\"I&rsquo;ve been dealing with a lot lately that is out of my control and have admittedly been depressed most of my life (I am 29 years old). A breakup reeked havoc on my mental health and I consulted a psychiatrist. Was prescribed generic 37.5mg for 2 weeks then was instructed to double dose. \r\n",
      "First pill took around 11am yesterday, by 2pm I was nauseous, dry heaving, had incredibly bad diarrhea, double vision, back pain, and was becoming very lethargic. My jaw was clenched most of the day and I was grinding my teeth all night. I didn&rsquo;t sleep well, woke up pacicking and having racing thoughts. \r\n",
      "Doctor said to quit taking it. One pill was enough. Never again.\"\n",
      "\n",
      "\"I&#039;ve been on Bupropion XL 150mg for a little over a month.  Though my depressive symptoms have subsided, I&#039;m noticing an inability to lose weight as well as some very bizarre side effects such as rapid breast growth.  (No, I am not currently pregnant.) While I am noticing an increased elated mood and a decrease in self injurious feelings, I am concerned about the weight issue and therefore I am now feeling slightly anxious and overly focused on my weight.\"\n",
      "\n",
      "\"To all starting out on Celexa, please don&#039;t judge it by the first 3 weeks.  I am now at 8 weeks and I&#039;ve never felt better.  My doctor said the full effect will be felt at 8 weeks - I can truly tell. The first 3 weeks I was beyond tired, getting up and getting to work was painful.  I&#039;m usually a night owl but I was ready to crash after dinner every night. By week 4 all of my energy came back.  My moods were amazing, my social skills did a 180 degree turn. This medication truly changed my life.  I haven&#039;t tried anything before for my anxiety/depression as I am in my early 20&#039;s. I knew I needed help when my illness began to destroy my personal relationships.  The constant yawing, tiredness, fogginess will go away. Your body will adapt.\"\n",
      "\n",
      "\"Bupropion has restored my very far-gone faith in the entire concept of medicine for depression. It&#039;s not an acutely noticeable effect, I am not jumping for joy or smiling like an idiot but I am not depressed anymore. I still have kind of a sad life thanks to my mental health problems but I no longer feel like I need to kill myself in the near future, I don&#039;t cry, and my anxiety has become less severe.\r\n",
      "\r\n",
      "Prior to bupropion I had been on a ridiculously long list of other antidepressant medication (Including but not limited to: Fluoxetine, Citalopram, Venalfaxine, Mirtazapine) and benzodiazapines for anxiety (like, 4 different ones). These did NOTHING. But bupropion did, it&#039;s kind of amazing. I recommend it highly.\"\n",
      "\n",
      "\"I used paxil many, many years ago when going thru a bad divorce and it worked very well.\r\n",
      "Then after a few years on this stuff it stopped working.\r\n",
      "Well here I am over 15 years away from these types of meds, I lost my son and went into a deep depression.\r\n",
      "Not really wanting to go back on SSRI&#039;s (paxil) I was convinced by my doc to try paxil again. BAD mistake, after using 20 mg for 5 weeks ...nothing!\r\n",
      "I went bac even worse!\r\n",
      "This stuff (paxil) is really BAD. I went cold turkey and went thru 7 days of HELL!\r\n",
      "But now I can finally say I am off of this type of stuff FOREVER ! and I&#039;m feeling great. I started to look at the good things in my life day by day. This really works.\"\n",
      "\n",
      "\"I&#039;m 19 years old and had been struggling with depression since I was a kid. I was against antidepressants all my life until I went off on my freshman year of college out of state and found it impossible to control my emotions. I became suicidal, and was thinking about trying illegal drugs. Finally I told the school counselor that I needed help. She diagnosed me with mild depression and prescribed 20mg every day. I&#039;ve been on it for a bit over a month and my life has changed. My emotions are reasonable and under control, I&#039;m much more agreeable, energetic and optimistic. Side effects from the first two weeks were: dry mouth, excessive yawning, insomnia, and a bit of anxiety/hyperactivity. Still have decreased sex drive though.\"\n",
      "\n",
      "\"My very first time to try this medication . I thought I was gonna die ! I took it last night at 7:00pm  went to bed by 10:00 pm and I was fine. I woke up at 6:00am and I went straight to the bathroom had a bad diarrhea plus vomiting . Had to drive to work with major diziziness. And had no appetite at all. I felt so weak. I was thinking maybe it needs more time and to be more patient. Till around mid day today I had to leave work because I was so nauseous that I can&#039;t function. I called my doc and she told me to stop taking it! This medication is definitely not for me. I&#039;ve tried a lot of anti depressants like this one !!!! \"\n",
      "\n",
      "\"I think maybe the 19 year old should have had something like Clonazepam prescribed as well.  I&#039;ve been taking 150 mg of &quot;V&quot; in the PM for awhile now and at first in the morning I feel really shaky all over and wonder if I made a mistake, then I take 0.5 mg, the lowest dose of Clonazepam and I level off and stay that way the rest of the day.\"\n",
      "\n",
      "\"I took this medication when both of my parents died within 2 weeks. It worked really great for about a year. now I feel like it doesn&#039;t work like it used to and maybe my body&#039;s gotten used to it. But if you ever miss a dose you have extreme nightmares. So I am scared to go to sleep without taking it and thinking about maybe trying something new.\"\n",
      "\n",
      "\"I&#039;ve been taking a Drug called Brintellix for a few days now. I take one pill in mornings with breakfast and for the first time in years  I have became active, creative, happy and I have the will to get up and be motivated.  I felt like my old self but younger. I haven&#039;t been on the med long but so far I&#039;m amazed. I can&#039;t tolerate other antidepressants and they don&#039;t work for me.  So right now I&#039;m living life and not just watching life pass by. I recommended talking to your Dr about Brintellix if you&#039;re living like I was.\"\n",
      "\n",
      "\"I started this medicine just last week and have already had a complete personality change for the better. I didn&#039;t even realize how bad my depression was until I got rid of it. I didn&#039;t think any medication would work, let alone so quickly. This medication has planted the seed of a thought in my head: there is always hope!\"\n",
      "\n",
      "\"I&#039;ve been on this for almost three months at this point for my depression and anxiety. I started at 75 mg, raised to 150 mg, and then lowered back to 75 mg. While it doesn&#039;t at all touch my anxiety, I definitely feel a lot better depression-wise. My psychiatrist raised it to 150 mg in the hopes it would help my anxiety, but it didn&#039;t so we lowered it and simply added 50 mg of Seroquel XR to help the anxiety. I honestly can&#039;t say I really have any side effects. Perhaps I have minor night sweats at times but if there are any side effects I don&#039;t really notice them, and I feel satisfied using this for my depression.\"\n",
      "\n",
      "\"I haven&#039;t filled my script and haven&#039;t had meds in 5 days and all I wanna do is cry all day and think bad things about my relationship. I worry to much\"\n",
      "\n",
      "\"I&#039;ve been on Lexapro 10mg for 5 years now and it makes me &quot;me&quot; again.  It&#039;s wonderful! I&#039;ve never had a side effect.  I&#039;ve also lost 90 pounds!  I was eating because of the stress and depression and when that started to go away so did the overeating! I started to feel a lot better.  It took about 4-5 weeks for it to kick in and I had to chart my progress through my doctor but I am truly thankful. \"\n",
      "\n",
      "\"I sometimes have mood problems, which I believe are related to blood sugar issues because when I am careful to not consume refined sugars, I feel much better. I also experience joint pain because of the decades of physical labour.\r\n",
      "\r\n",
      "I have been taking SAMe for more than 15 years, 200 mg every morning before breakfast.\r\n",
      "\r\n",
      "It affects me in a subtle way, It seems to pick my mood up a bit. I can&#039;t take it at night before I go to bed because it makes my brain overactive and I can&#039;t sleep.\r\n",
      "\r\n",
      "Lately, I&#039;ve been searching the Internet for information about the long term side effects because I am a little worried about taking this substance regularly for such an extended period of time. The dosage is low (200 mg daily), but still, 15 years is a long time\"\n",
      "\n"
     ]
    }
   ],
   "source": [
    "for review in top_review(doc_topic_matrix_df, 'topic_6', 15):\n",
    "    print(review)\n",
    "    print()"
   ]
  },
  {
   "cell_type": "code",
   "execution_count": 501,
   "metadata": {},
   "outputs": [
    {
     "data": {
      "text/plain": [
       "pristiq      2.382604\n",
       "hope         0.140399\n",
       "suffer       0.106746\n",
       "long         0.089362\n",
       "normal       0.088938\n",
       "morning      0.083046\n",
       "appetite     0.076611\n",
       "switch       0.071374\n",
       "effective    0.065941\n",
       "need         0.061607\n",
       "Name: topic_6, dtype: float64"
      ]
     },
     "execution_count": 501,
     "metadata": {},
     "output_type": "execute_result"
    }
   ],
   "source": [
    "top_words(term_topic_matrix_df, 'topic_6', 10)"
   ]
  },
  {
   "cell_type": "code",
   "execution_count": null,
   "metadata": {},
   "outputs": [],
   "source": []
  },
  {
   "cell_type": "code",
   "execution_count": 502,
   "metadata": {
    "scrolled": true
   },
   "outputs": [
    {
     "name": "stdout",
     "output_type": "stream",
     "text": [
      "nan\n",
      "\n",
      "\"Very bad side effects:nausea, vomiting, dizziness, odd dreams.\r\n",
      "\r\n",
      "Ended up x 2 in the ER because of this drug.\"\n",
      "\n",
      "\"I have been on Venlafaxine XR for 8 years (first effexor xr then generic w/o problems). started at 150, then plateaued after about a year, went up to 225 and plateaued again. I have been on 300mg dose for over 5 years. I like this rx a lot. I haven&#039;t tried other antidepressants, I was started on this because it worked for other family members. I know it&#039;s a high dose n some people are shocked, but I find this offensive and more or less stigma about mental illness and meds. I started Adderall about 4 years ago and that combination has been incredible for my depression (and ADHD). My sex drive recovered 3 months into VFX. The only compliant is when I miss a dose, in which case I have a LOT of complaints: migraines, dizzy, tremor, hypersomnia\"\n",
      "\n",
      "\"Medication along with 100 mg of pristiq made me feel great until the weight came on. Getting off rexulti to see if it helps\"\n",
      "\n",
      "\"I was diagnosed with ADD at the age of 30, Ritalin has changed my life and I&#039;m not sure I could function as an independent adult without it at this point. I am now able to make goals and follow through with them, my mood is more stable, I look forward to waking up in the morning again and it doesn&#039;t affect my appetite too much. You do need to make sure you find your dose for optimal results. I feel Vyvanse works better but is too expensive for me at this time and it takes away my appetite and keeps me up too late.\"\n",
      "\n",
      "\"Wow, is all I can say. Was hospitalized for extreme depression after trying to take my own life and all I can say is that this drug change my life. It has been one year on it and I am so much happier. I have no side effects from taking this plus I have so much more energy.\"\n",
      "\n",
      "\"I was taking 300mg of Bupropion. But I upped it to 400mg. I realize the possibility of a seizure; but I&#039;ve had no problems. I feel WONDERFUL!\r\n",
      "\r\n",
      "I get my Bupropion through the VA at no cost.\"\n",
      "\n",
      "\"On 20mg for about two months with no concrete signs of improving depression/anxiety. Dr. told me to just stop taking it as I hadn&#039;t been on it very long so didn&#039;t need to taper off. After not taking any dose for 3 days, I woke up in middle of night with excruciating stomach pain and vomited off and on for hours. Absolutely horrible. I also think there could be a negative interaction between this drug and Concerta. Just my own personal experience. I hope this drug works for you! If not, there&#039;s are hundreds others that will.\"\n",
      "\n",
      "\"Been on trintellix for bout three months. Last month sobbing has stopped but I&#039;m having vision disturbances. I started at 5 mg then went to ten. From ten to twenty and my head hurt so bad backed down to ten again. The vision issue is still there along with profuse sweating and breakthrough anxiety. Been through so many different antidepressants I&#039;m afraid of what will happen if I hafta go through another drug change. It&#039;s been a nightmare.\"\n",
      "\n",
      "nan\n",
      "\n",
      "\"I have been trying both 300mg and 150 mg. Daily doses in combination with 20 mg Lexapro for several years now.  I was not doing well on Lexapro alone, still too mopey and negative.  I am finally doing much better and feel strong enough to let go of the Lexapro and try Budeprion alone.  After just a few days I feel totally different and much better.  It is very energizing, I feel positive and am getting a lot done.  My libido is coming back and the sexual side effects from the Lexapro are gone too.  300mg per day may be too high for me, I feel almost manic.  I may try (with my psychiatrist&#039;s support) to stay on 150mg but so far this medicine alone is working extremely well for me.\"\n",
      "\n",
      "\"I&#039;ve been suffering from depression since I was in my teens. However, I&#039;ve just been diagnosed with it 1 month ago. I had been having major panic attacks and anxiety issues, so much to the stage I thought people were following me. The doctor prescribed me Mirtazapine which I was rather anxious about taking, due to reviews online. The first night I took it I went to bed and became really twitchy and restless through the night, I had spells where I woke up during the night. After the first night I had the best sleep ever, I slept till late which was rare, I have had a better outlook on life, I still have my low days and times where I don&#039;t want to get out of bed and times where I just want to run away. The doctor has now upped my dose to 30mg\"\n",
      "\n",
      "\"Male age 50, in good shape. I was prescribed this stuff for what I call &quot;brain fog&quot; which I was experiencing three to four times per month and lasted a minimum of 24 hours.  Also for attention span - which has been limited as of late. I am on 20mg once a day and graduated up from 5mg a day over 5 weeks. The 1st week I experienced some very slight dizziness and slight nausea. Nothing that I would describe as trying or difficult. At about week 3, I started to notice an increase in attention span. After 2 months, I have not had one brain fog episode. I have not noticed a change in mood, though I was not / am not depressed. I will say I am having some of the  best orgasms of my life - and I have been on wellbutrin which does not compare!\"\n",
      "\n",
      "\"I thought I would share my experience as it may be helpful to others.  I have been on this for over 2 years now... and depression wise (which is what I&#039;m basing my rating off of because that is what this rating is supposed to pertain to) it hasn&#039;t done anything for me at all.  At least nothing at all that I have ever noticed. I have stayed on the medication because of the fact IT DOES help bring down my homosistine levels.  I have a condition referred to as MTHFR.  Basically it&#039;s a liver enzyme condition that makes it so the body doesn&#039;t convert proteins/peptides very well. Common condition (1/10 americans) but rarely tested for. The lab had to look up what to do for drawing blood and testing for it.\"\n",
      "\n",
      "\"I have been on Pristiq for 9 months. Previously I was on Cymbalta to help with depression and fibromyalgia. Pristiq seemed to help somewhat at first (for a few months) but then the suicidal thoughts returned. I&#039;m now being taken off Pristiq (slowly). It just isn&#039;t working any more and I&#039;m still in deep depression. So thankful that my doctor is switching me to something else. \"\n",
      "\n"
     ]
    }
   ],
   "source": [
    "for review in top_review(doc_topic_matrix_df, 'topic_7', 15):\n",
    "    print(review)\n",
    "    print()"
   ]
  },
  {
   "cell_type": "code",
   "execution_count": 503,
   "metadata": {},
   "outputs": [
    {
     "data": {
      "text/plain": [
       "effexor       2.428572\n",
       "xr            0.682136\n",
       "withdrawal    0.574115\n",
       "symptom       0.285748\n",
       "paxil         0.229634\n",
       "horrible      0.175241\n",
       "come          0.156729\n",
       "sweat         0.125645\n",
       "miss          0.125623\n",
       "zap           0.115715\n",
       "Name: topic_7, dtype: float64"
      ]
     },
     "execution_count": 503,
     "metadata": {},
     "output_type": "execute_result"
    }
   ],
   "source": [
    "top_words(term_topic_matrix_df, 'topic_7', 10)"
   ]
  },
  {
   "cell_type": "markdown",
   "metadata": {},
   "source": [
    "Topic_7 = "
   ]
  },
  {
   "cell_type": "code",
   "execution_count": 504,
   "metadata": {},
   "outputs": [
    {
     "name": "stdout",
     "output_type": "stream",
     "text": [
      "\"Good Med! Little skeptical about helping me. I have a bad habit of changing my dosages on my own. I find 200mg to be good. I take Latuda as well which is a anti-depressant booster sort of. Appetite is normal sometimes not as bad as I thought. No vomiting but diarrhea instead. I have a bad gall bladder which needs to be removed maybe why I&#039;m so loose on the stool. Stick with it.\"\n",
      "\n",
      "\"2 thumbs up!\"\n",
      "\n",
      "\"I&#039;m on 200 mg of Zoloft and it has changed my life!\"\n",
      "\n",
      "\"I am currently 21 years old, but started taking Pristiq a few years ago. I had previously tried Prozac, then Effexor, but I couldn&#039;t see much of a difference. Once I started taking Pristiq 50mg, I felt the results within the same week. It was great. However, whenever I missed a day I would feel the adverse side effects almost immediately. Brain zaps, depersonalization, dizziness, foggy thoughts, nausea, sweating, crying spells, headaches... I eventually got off of it (I honestly don&#039;t know how) but it was a very difficult 2-week process. Two years later I am back on wellbutrin (after a bad experience with lexapro). Pristiq was definitely effective but extremely addictive. Not something I&#039;d recommend without reservation.\"\n",
      "\n",
      "\"I had taken Paxil when I was younger and it worked wonders with my depression and social disorder. However, this time around it is different, but still better with than without. My husband has been on it for close to 5 years. He used to be so angry all the time about everything, this helped him. It helped us because I am a person who does not do well with yelling and arguing. He did try to stop a few months back and it was terrible because his aggressiveness and irritability was off the wall, scarey. His mood swings came on quick and he realized he was better off staying on the Paxil. We are both on 40 mg a day. \"\n",
      "\n",
      "\"At the age of 24 I started taking Lexapro which did absolutely nothing.  Then I started taking Zoloft which did the trick except I gained weight and had absolutely no sex drive which was causing serious issues in my marriage.  Just a couple months ago I started taking Viibryd to help with the sexual side effects.  It worked, I felt fine.  Until now, I have been on Viibryd for about two months and take 40mg a day.  I feel like it just stopped working.  The past two weeks have been torture.  I think I will go back to the Zoloft and deal with the side effects.  Not to mention my insurance doesn&#039;t cover Viibryd so it costs about $158 a month out of pocket.\"\n",
      "\n",
      "nan\n",
      "\n",
      "nan\n",
      "\n",
      "nan\n",
      "\n",
      "nan\n",
      "\n",
      "\"This is making me vomit, giving me migraines, making me more irritable and I have dizziness.\"\n",
      "\n",
      "nan\n",
      "\n",
      "\"I feel normal. No sexual side effects like Lexapro.  Less of a fog too.\"\n",
      "\n",
      "\"I&#039;ve been on Wellbutrin for two months for depression. On Effexor I gained 30 pounds. I have already lost the 30 pounds in two months and my depression is considerably better.\"\n",
      "\n",
      "\"Took a while for it to start treating my depression, about 3 months to start feeling even remotely better and 6 months to a year to feel the full effects. At first, the medicine made me yawn a lot and almost made me feel more depressed (probably because it didn&#039;t start working as immediately as I had hoped). Gradually went up from 20mg to 30mg after 6 months and then went up to 40mg after about a year. I have now been on Celexa for 2 years and on the 40mg dose for about 1 year. This medication has honestly saved my life! I probably wouldn&#039;t be here without it. Before Celexa, most of my days were bad days and now I am finally enjoying my life again. I highly recommend Celexa. Don&#039;t be discouraged if it doesn&#039;t start working right away.\"\n",
      "\n"
     ]
    }
   ],
   "source": [
    "for review in top_review(doc_topic_matrix_df, 'topic_8', 15):\n",
    "    print(review)\n",
    "    print()"
   ]
  },
  {
   "cell_type": "code",
   "execution_count": 505,
   "metadata": {},
   "outputs": [
    {
     "data": {
      "text/plain": [
       "zoloft       3.394693\n",
       "switch       0.187261\n",
       "sexual       0.164733\n",
       "paxil        0.147242\n",
       "zombie       0.090037\n",
       "prescribe    0.089568\n",
       "tired        0.077956\n",
       "wean         0.077827\n",
       "hope         0.071695\n",
       "viibryd      0.069431\n",
       "Name: topic_8, dtype: float64"
      ]
     },
     "execution_count": 505,
     "metadata": {},
     "output_type": "execute_result"
    }
   ],
   "source": [
    "top_words(term_topic_matrix_df, 'topic_8', 10)"
   ]
  },
  {
   "cell_type": "markdown",
   "metadata": {},
   "source": [
    "topic_8 = drug"
   ]
  },
  {
   "cell_type": "code",
   "execution_count": 506,
   "metadata": {},
   "outputs": [
    {
     "name": "stdout",
     "output_type": "stream",
     "text": [
      "nan\n",
      "\n",
      "\"I have been on 10mg a day for only a few days yet I already feel worlds better. I am feeling a lot of side effects such as the occasional headache, a sore throat, some dizziness, and some nausea, but it&#039;s all worth it for how much better I feel.\"\n",
      "\n",
      "\"I&#039;ve been using Maprotiline for ten years. I think it&#039;s the best antidepressant out there but since it&#039;s not new it&#039;s not being prescribed.\"\n",
      "\n",
      "\"I have had clinical depression since I was a young child. I am now almost 24 and I don&#039;t think I&#039;ve ever been happy, for more than a few weeks at a time, in my entire life. I have been on Zoloft and Wellbutrin in the past that did not help at all. I have been on Brintellix for a little over 6 months now and it has changed my life. I&#039;m a better wife, mother and a significantly better college student. For the first time in my life I feel alive. There are no longitudinal studies on this new drug which makes me nervous. Side effects were severe for about 3 weeks and my insurance doesn&#039;t cover this very expensive drug(why I rated 9/10). Ultimately, Brintellix changed my life. I didn&#039;t think I would ever be happy.\"\n",
      "\n",
      "\"I was on Serzone for 6 years and it gave me my life back.  It truly is a miracle medicine and should not get the bad rap.  I never had any liver problems, in fact I only had dry mouth as a side-effect.  It did not affect my libido or ability like the Cymbalta that I am on now.  I had liver problems with Depakote ER and I don&#039;t understand why it does not get the negative press.  Serzone is amazing and I am going to work with my new psychiatrist to be back on it once again.  I can&#039;t wait to get my life back once again!\"\n",
      "\n",
      "\"DO NOT EVEN THINK ABOUT TAKING THIS! I took it back it 2014 for a few months and took my dose about 4 hrs late. Let me tell you, I thought I was going to have to be put in a psych ward. I laid down to go to sleep and had brain zaps (loud bang and pops in your ears that aren&#039;t really there). I saw birds dying at my face, I felt a demon trying to smother me into my bed and saw children burning in a house! All because my dose was late. My Dr told me to wean off immediately. I was terrified to lay down at night because this continued to happen while I was trying to get off it. NEVER BEEN SO THANKFUL IN MY LIFE TO BE RID OF SOMETHING! After my experience and reading about others&#039; experiences, I can&#039;t believe it&#039;s still available to ruin lives!\"\n",
      "\n",
      "\"Took Prozac for about four years.  It worked in relieving my depression, anger, and anxiety, but left me numb as well.  Had almost no &quot;lows&quot; but no &quot;highs&quot; either.  I had no side effects other than I now realize a reduced sex drive.\"\n",
      "\n",
      "\"It totally helped me out. I took for 4 months, it really helps.\"\n",
      "\n",
      "\"I have been on brintellix for three weeks. I have not felt any effects what so ever. It only serves to make me vomit nearly every morning. Libido is zero. This only adds to my anxiety and depression. It is also very expensive costing me nearly $450 a month. If I felt just a little better I would not mind spending the money. Drug companies just suck!  For the money this med is just not worth it and I will request another anti depressant from my MD at my next visit\"\n",
      "\n",
      "\"Started while weaning off Prozac. When begun, headaches in center front of head; lasted less than a week. Return of sex drive. Return of motivation.\"\n",
      "\n",
      "\"The worst thing anyone can do is read these damn reviews!  All they do is put ideas in a person that is already on edge.  Then when you read what people say you start to panic and imagine you have things that you would not ever have thought of in the first place but since you read what other people are saying its putting thoughts in your head.  Just take the meds and chill out.  Have your own experience not someone elses.\"\n",
      "\n",
      "nan\n",
      "\n",
      "\"I&#039;m 17 years old and I&#039;ve been diagnosed with depression. I went to my GP and he prescribed me Fluoxetine. I&#039;ve been on for about 3 months now, and I love them. I don&#039;t cry anymore but fluoxetine has made me alot more tired and restless. Also I found my skin was looking a lot nicer and it was so clear and zit free.\"\n",
      "\n",
      "\"It&#039;s incredible how much Lexapro has improved my overall emotional wellness in such a short amount of time. I was extremely hesitant to start medication for obvious reasons, but after much research I decided to give it a try. I cannot stress enough how much of a positive effect Lexapro has had on my life. Just feeling that the darkest of clouds has been lifted after lingering for years is pure happiness and relief; I didn&#039;t even think it was possible. The first week I was pretty nauseous and I still get drowsy and have some trouble sleeping on this medication, but it is nothing compared to how I felt prior to taking Lexapro. You deserve to be HAPPY. Give it a try.\"\n",
      "\n",
      "\"I am a long time sufferer from depression and anxiety and adhd and ptsd....well you name it I have been diagnosed it. I recently...like right now tried to get off celexa....head hurts so bad i cannot stand up. Been awful. Its been 3 days and i am throwing in the towel and going to go pick it up at pharmacy. Yes it works on depression and a tad for anger but I still do have episodes of anger and depression which at times I wonder are worse than before. The thing is i guess you never do know unless someone monitors you before and after. Honestly i think excercise and healthy eating would have worked just as well. I can definitley say it makes you more tired. I can say this..DONT TAKE THIS MEDICATION UNLESS YOUR SERIOUSLY IN NEED.\"\n",
      "\n"
     ]
    }
   ],
   "source": [
    "for review in top_review(doc_topic_matrix_df, 'topic_9', 15):\n",
    "    print(review)\n",
    "    print()"
   ]
  },
  {
   "cell_type": "code",
   "execution_count": 507,
   "metadata": {},
   "outputs": [
    {
     "data": {
      "text/plain": [
       "prozac          2.187710\n",
       "switch          0.206185\n",
       "paxil           0.102173\n",
       "helpful         0.055035\n",
       "prescribe       0.050046\n",
       "return          0.048887\n",
       "saver           0.048775\n",
       "tired           0.045169\n",
       "psychiatrist    0.042700\n",
       "eventually      0.042062\n",
       "Name: topic_9, dtype: float64"
      ]
     },
     "execution_count": 507,
     "metadata": {},
     "output_type": "execute_result"
    }
   ],
   "source": [
    "top_words(term_topic_matrix_df, 'topic_9', 10)"
   ]
  },
  {
   "cell_type": "code",
   "execution_count": null,
   "metadata": {},
   "outputs": [],
   "source": []
  },
  {
   "cell_type": "code",
   "execution_count": 508,
   "metadata": {},
   "outputs": [
    {
     "name": "stdout",
     "output_type": "stream",
     "text": [
      "\"I have been on many anti depressants and by far...Prozac gave me my life back. I am bi polar with PTSD and anxiety. I did lose weight and that was okay. I can sleep and am a happy woman again. I take 20mg each morning. I do not need a benzo for anxiety any longer oh and I am 33 years old. After fifteen years of Zoloft, lexapro, Paxil, Effexor, wellbutrin, you name it, I&#039;ve been on it for long periods, changed to Prozac 6 months ago, I have my life back.\"\n",
      "\n",
      "\"I started this 4 weeks ago. I was originally on Paxil but I was tired of its side effects. My doctor switched me to Wellbutrin after also trying Cipralex, Effexor and Zoloft.  It works great. I had almost no side effects when I started it (I did with every other medicine). It does increase anxiety for me though. Wellbutrin gives me more energy and makes me feel alive again. Because of the energy, I work out now which helps counter act the anxiety. It did not increase my sex drive BUT it made me normal. (Paxil made it so I wouldn&#039;t even let my husband touch me). I have lost the weight that Paxil made me gain and then some! I would recommend it to people for sure but if you have bad anxiety like I do, try being really active as well.\"\n",
      "\n",
      "nan\n",
      "\n",
      "\"IT&#039;S MY SAVIOR, I was in severe anxiety and depression for the last 6 months, it felt like there was no hope anymore, started taking Zoloft, and today is my 4th week. It&#039;s not that I don&#039;t feel depressed anymore, I FEEL HAPPY, enjoying every moment of life, I go to work full of motivation now, I feel like nothing can stress me out, you sound very confident in front of your colleagues. I am so thankful for this medicine, it gave me my potential, my efficiency and my life back. No significant side effects, other than weight gain.\"\n",
      "\n",
      "\"My lexapro stopped working so I was switched to prozac.  While prozac did help some it didn&#039;t help enough.  My psychiatrist prescribed abilify at 2mg to add on to 60mg of prozac.  Within 2 days I was pulled out of the dark hole I was in and  my crying spells were gone.  This pill is a miracle pill.\"\n",
      "\n",
      "\"Worked well for managing severe depression and some really nasty panic attacks. One really bad side effect: I gained 70 pounds in about 8 months. I was on 20mg. Problem with this medication is it shuts down your metabolism. I was by no means a lazy person, but I still put on a huge amount of weight. I&#039;m off the drug now and learning to manage my panic attacks and depression in other ways, and I am doing great! Use caution when starting this medicine because you will put on the weight!\"\n",
      "\n",
      "\"For a few days its take major energy at 2.5 mg, but later its make me ever tired and sleepy. I don&#039;t know what this drug work.\"\n",
      "\n",
      "nan\n",
      "\n",
      "\"Only been on this for 3 days but don&#039;t think I can take this medicine anymore. Important note this was added to 50mg Zoloft. I have really bad depression and anxiety and fatigue in the mornings. First night I took Remeron hadn&#039;t slept in 20 hours, hadn&#039;t eaten for 8 hours, thought it would help me sleep. Wrong, couldn&#039;t lie still and massive erection for 2 hours, finally got up after 4 hrs tossing and turning ate something then was able to sleep.  2nd night I took with dinner had tacos I ate like 7 tacos, couldn&#039;t stop. Went to sleep 45 mins later even though I was not tired at all, woke up 12 hours later. Incredibly hard to get out of bed felt like I was hit by a train all day.\"\n",
      "\n",
      "\"I started taking Prozac two years ago, and I thought it wasn&#039;t doing anything for me. So I cut cold turkey (which I do not advise because you could become very suicidal) and I did not take it for 6 months. Just about a week ago I started taking it again, and I have to say I feel so much better. I realized Prozac was working for me because I wasn&#039;t having intense feelings anymore when small things upset me. I was able to cope with them more. And now when I look back on when I was taking it years prior to my cut off. I remembered I did better than when I wasn&#039;t taking. I&#039;m really pleased on this medication and I&#039;m glad I take it. Yes I still get upset but I do not go from being a 1 to a 10. Remember its not a magic pill. It is only to help.\"\n",
      "\n",
      "\"Lexapro is awesome.  Before lexapro I would overthink about everything.  When I was in a relationship I would just think and think and think about if they were cheating, if I was too ugly, if they were thinking about leaving me blah blah blah.  I would just feel really stressed out and would cry a lot.  Now I feel fabulous.  The only negative is it makes me pee in the middle of the night- so annoying and I want to make out with strangers less often.  I haven&#039;t gained weight but haven&#039;t lost any either.   At first this medicine gave me wicked insomnia but now I take it first thing in the morning.  Good luck!  Remember being sad isn&#039;t necessary and most people who talk bad about being on antidepressants spend hours at the bar.\"\n",
      "\n",
      "nan\n",
      "\n",
      "\"Cymbalta does indeed work. Most who have given it a fair shake know the results and it is seen by reading the comments here. Most people who quit using Cymbalta never gave it a &quot;real&quot; chance of working properly. For most people, Cymbalta starts working quickly, but some may take 2-3 weeks or more to get the full effect.\r\n",
      "\r\n",
      "\"\n",
      "\n",
      "nan\n",
      "\n",
      "nan\n",
      "\n"
     ]
    }
   ],
   "source": [
    "for review in top_review(doc_topic_matrix_df, 'topic_10', 15):\n",
    "    print(review)\n",
    "    print()"
   ]
  },
  {
   "cell_type": "code",
   "execution_count": 509,
   "metadata": {},
   "outputs": [
    {
     "data": {
      "text/plain": [
       "cymbalta        2.370642\n",
       "pain            0.540798\n",
       "suffer          0.172480\n",
       "withdrawal      0.159882\n",
       "different       0.136251\n",
       "chronic         0.128576\n",
       "far             0.127724\n",
       "fibromyalgia    0.114822\n",
       "hope            0.112898\n",
       "symptom         0.094142\n",
       "Name: topic_10, dtype: float64"
      ]
     },
     "execution_count": 509,
     "metadata": {},
     "output_type": "execute_result"
    }
   ],
   "source": [
    "top_words(term_topic_matrix_df, 'topic_10', 10)"
   ]
  },
  {
   "cell_type": "markdown",
   "metadata": {},
   "source": [
    "topic_10 = "
   ]
  },
  {
   "cell_type": "code",
   "execution_count": 510,
   "metadata": {},
   "outputs": [
    {
     "name": "stdout",
     "output_type": "stream",
     "text": [
      "\"Seems like the whole world is on antidepressants these days.  Docs doling them like candy. I was on a low dose of lexapro for years and finally got off of it (which wasn&#039;t a pleasant experience either) I might add. I had gained 20 lbs, was exhausted with no energy a mandatory 2 hr afternoon nap,  oh yeah and it zaps your libido! All things to consider. I&#039;ve switched to Wellbutrin and seem to have much less side effects.\"\n",
      "\n",
      "\"It saved my life.  It was the perfect medicine for me, except for chronic constipation.  Went to the hospital for the constipation (I did not know it was caused by Zoloft at the time), and they found I had appendicitis, which ruptured while I was waiting at the hospital, and also that I had kidney cancer, so got 2 surgeries, 1 for the ruptured appendicitis and 1 to take away my left kidney.  Had it not been for the Zoloft, I would be dead.  I of course had to change medicines and go the second choice prescribed by the psychiatrist.  It works, but not as well as the Zoloft, unfortunately.  Zoloft is excellent, and if it was not for chronic constipation, I&#039;d be back on it.  Good luck all.\"\n",
      "\n",
      "\"I was prescribed seroquel 100mg for Post Traumatic Stress Disorder and I could only take it for two days.  I took it as prescribed before bedtime. I almost crashed my truck several times on my way to work and I had to pull over on the shoulder to sleep on my way home from work. Day 2 was a Saturday. I slept for 14.5 hours. I can&#039;t function at all on this.\"\n",
      "\n",
      "\"Effexor was the first medicine given to me when I started having panic attacks. It helped me with my depression and stopped the crying spells. But I still continued to have panic attacks.\"\n",
      "\n",
      "\"I was prescribed venlafaxine ~3 months ago for depression co-morbid with anxiety (mostly social in nature). During the first week side-effects included feeling &quot;strange&quot;/&quot;spaced out&quot; and jaw clenching. I still have mild anxiety &quot;jitteryness&quot;, some foul smelling flatulance(!) and limb twitching/achiness. I don&#039;t really know if it has worked for depression so give it a modest rating. I do feel slightly better but I don&#039;t know if I can credit the drugs because I made some significant lifestyle changes. As for anxiety, I do feel less hesitant in conversations and less obsessive over saying something &quot;awkward&quot;. I think this is because of the drugs, but unfortunately these social improvements haven&#039;t really translated into improved confidence\"\n",
      "\n",
      "\"I experienced severe postpartum depression after my twins were born, actually it started after I stopped breastfeeding them.  My hormones were all over the place.  I was sleep deprived and suicidal.  Paxil worked great on my depression, but I had negative side effects. First of all, it really flattened my emotional response.  Nothing much upset me, but nothing made me excited either.  I had zero sex drive and could not achieve orgasm at all.  I also gained a lot of weight in a very short amount of time.  Also, I had trouble falling asleep.  I switched to Wellbutrin, and actually lost weight. I would still have difficulty coping some days, but it was manageable, and no negative side effects.\"\n",
      "\n",
      "\"Generic Sertraline gave me some relief but it made me jittery and gave me headaches. After reading testimonials I insisted on the name brand Zoloft. so glad I did. It&#039;s like a completely different medicine. More relaxed and not full of negative thinking. I still get overly anxious if something stressful happens but it doesn&#039;t last long. Side effects are more tolerable, though it does make me tired.\"\n",
      "\n",
      "\"I am 31 years old and have been diagnosed with clinical depression, anxiety and have been severely anorexic on and off. I have been at a healthy body weight for many years. Over the course of 10 years I have taken various anti-depressants for my depression but they work for a certain period and then stop working.  I have just started taking Prozac and am on my second week.  I noticed instantly the first day, I felt warmer and more intuned to my body. I can think clearer and don&#039;t feel so irritable.  I have terrible neck pain that I have recently developed over the course of the week, so I hope it goes away over the next few weeks.  Otherwise I am quite excited to finally be taking a medicine that can help me, as well as so many others.\"\n",
      "\n",
      "nan\n",
      "\n",
      "\"Day 4.\r",
      "\r\n",
      "I have already noticed changes.\r",
      "\r\n",
      "Pros:\r",
      "\r\n",
      "- no desire to cry\r",
      "\r\n",
      "- clear headed thought process\r",
      "\r\n",
      "- no mood swings/feel balanced(have not had any mood swings since day 2. I usually had them like 4x within an hr)\r",
      "\r\n",
      "- no angry outbursts or negative/hurtful comments towards people\r",
      "\r\n",
      "- decrease in paranoia\r",
      "\r\n",
      "- no longer feeling personally attacked by others\r",
      "\r\n",
      "Cons:\r",
      "\r\n",
      "- trouble sleeping \r",
      "\r\n",
      "- teensy bit jittery \r",
      "\r\n",
      "- itchy(not much)\r",
      "\r\n",
      "- definitely nauseous \r",
      "\r\n",
      "- trouble passing stool but not constipated \r",
      "\r\n",
      "- slight lightheadedness/ dizziness \r",
      "\r\n",
      "This is only day4 going on 5 so i am thinking my brain&amp;body need time to adjust &amp;balance out. So far i feel mentally, so much better. In control,i would say. Only odd thing i noticed was random laughing. But hey I&#039;m not complaining!\"\n",
      "\n",
      "\"First day was bad, loose stool second day  the second week was fine and by the time I got to 40mg it was magic. I&#039;ll take it forever if I can feel normal like this. I was a little more tired than normal for the 20mg and first 40 mg week.\"\n",
      "\n",
      "nan\n",
      "\n",
      "\"I have atypical depression. I have tried Wellbutrin (allergic reaction), Zoloft (diarrhea, anxiety), Prozac (good experience), and Effexor, which made me crave alcohol everyday even though I generally dislike alcohol and am not a regular drinker. All of these gave me delayed ejaculation problems except for the Wellbutrin. I pretty much gave up on medicines until I had a major depressive bout and went back to the psychiatrist who suggested I give Viibryd a try. It has made everything so much better! No side effects, high energy and motivation, and has stabilized my usually volatile temper greatly. I&#039;ve read a lot of negative reviews out there so I was compelled to write this review because in my case, rare as it may be, Viibrys has worked.\"\n",
      "\n",
      "\"I have been taking Cymbalta for about 2 months. I started out with the 30mg and now I am taking 120mg 1x day. I take Cymbalta for Depression, Diabetic Pain, Psoriatic Arthritis Pain, Fibromyalgia, Weight Loss. But I have noticed about 3 days after starting the 120mg a day my psoriasis flared up very bad. I have not added anything new to my diet. The only different was the increase of the Cymbalta. I will keep on taking the medication at that dose. I will just keep on using a lot of creams to help with the Psoriasis rash. I must also say I have been losing a lot of Weight which is a good thing.\"\n",
      "\n",
      "\"I have been taking Zoloft (100mg) per day for a couple of years now. I have tried to come off them once with a complete relapse into depression. Nearly a year later and on doctors advice I am to try Allegron, but first I have to stay off Zoloft for 4 days before I start the Allegron. Apparently it can take up to two weeks for the Allegron to kick in. I am only 3 days into my detox from Zoloft and I feel terrible. I&#039;m not sure I can make it another two weeks!\r\n",
      "Does anyone else on this site go down hill so quickly from Zoloft? \"\n",
      "\n"
     ]
    }
   ],
   "source": [
    "for review in top_review(doc_topic_matrix_df, 'topic_11', 15):\n",
    "    print(review)\n",
    "    print()"
   ]
  },
  {
   "cell_type": "code",
   "execution_count": 511,
   "metadata": {},
   "outputs": [
    {
     "data": {
      "text/plain": [
       "lexapro      2.142964\n",
       "switch       0.243815\n",
       "sexual       0.181687\n",
       "extremely    0.092433\n",
       "generic      0.089210\n",
       "viibryd      0.088591\n",
       "normal       0.081162\n",
       "tired        0.070317\n",
       "ago          0.070040\n",
       "insurance    0.063942\n",
       "Name: topic_11, dtype: float64"
      ]
     },
     "execution_count": 511,
     "metadata": {},
     "output_type": "execute_result"
    }
   ],
   "source": [
    "top_words(term_topic_matrix_df, 'topic_11', 10)"
   ]
  },
  {
   "cell_type": "markdown",
   "metadata": {},
   "source": [
    "topic_11 = "
   ]
  },
  {
   "cell_type": "code",
   "execution_count": 512,
   "metadata": {},
   "outputs": [
    {
     "name": "stdout",
     "output_type": "stream",
     "text": [
      "\"I&#039;m 17 female and am taking 200mg of trazodone at night for sleep purposes, and I take 100mg in the morning to help with anxieties. Trazodone really helps with anxieties, and insomnia but only on higher doses. It hasn&#039;t really helped with lifting my mood. I&#039;ve had no side effects from trazodone.\"\n",
      "\n",
      "\"This medicine is helping me - I feel better in general.  I have taken it for 2 weeks and gained 10lbs.  All I think about is my next meal and then snacks.  It is crazy, I can&#039;t help but eat, eat, eat.  I have called my doctor to see about switching me to something else.  I can&#039;t continue gaining weight like this. I may have to find some diet pills to off-set the cravings. If you are depressed and underweight this is the pill for you.\"\n",
      "\n",
      "\"On day 1 of this Cymbalta and it&#039;s awful.  I didn&#039;t sleep last night, have felt tired all day, and struggled to &quot;zone&quot; into conversations or my own thoughts.  I&#039;ve felt worried all day and have had tremors, a sick tummy, a dry mouth and no sex drive.  My doctor prescribed me this so I could deal with stress at work and help reduce my blood pressure.  I don&#039;t think it&#039;s worth the side effects and I won&#039;t be taking anymore.  I will look for other options.\"\n",
      "\n",
      "\"When I started taking it in December, I felt emotionally great but the side effects were horrendous. At first I felt great, but then I felt really nauseous and I couldn&#039;t eat anything but buckwheat. Thinking about food made me even more nauseous and I had really bad diarrhoea. For some reason after taking vortioxetine, I became lactose intolerant. I experienced heartburn while taking them. Although I felt emotionally more energetic, my body didn&#039;t like it at all.\"\n",
      "\n",
      "\"My wife unexpectedly told me she wanted a divorce and I was devastated.  We have two small boys.  I instantly saw a psychiatrist who prescribed me 50 mg of Pristiq.  It seemed to help somewhat but I would still breakdown into hysterical crying fits.  After 15 days she put me on 100 mg and I&#039;ve been fine ever since.  I feel like I can deal with this now.  I have not had any negative side effects, except shaking my leg.  I do have insomnia but I had that from the anxiety of the divorce and I&#039;m prescribed something to help me sleep.  I can&#039;t say for sure if the Pristiq causes the insomnia, but I do feel a little amped.  Overall, it&#039;s better than I thought as I generally don&#039;t feel like I&#039;m on something and feel like myself.\"\n",
      "\n",
      "nan\n",
      "\n",
      "nan\n",
      "\n",
      "\"I have had OCD and anxiety for 26 years, Prozac worked for about 7 yrs. Then pooped out, Zoloft was next.  It lasted another 7 yrs then pooped out. Then came Lexapro and I only got 2 yrs out of it and then had my first major depressive episode.  Lasted 9 mnths while Dr. was trying Effexor XR.  It helped the depression, but not the OCD.  Went to a new Dr. and was put on Viibryd starter pack and when I was up to 40 mgs. I had my life back. Recently, my doc upped the dosage to 60 mgs. because I was still obsessing about getting the depression back.  Been on the 60 mg. dose for a few days and it actually made my OCD and anxiety worse, however, when I called the Dr., he said that is normal when switching dosages and will go away.\"\n",
      "\n",
      "\"Effexor XR is the only drug I have found that worked for my depression (I have tried about 10 different drugs), but I gained weight. I got off it about 3 years ago because of the weight but haven&#039;t found anything that worked as well. \"\n",
      "\n",
      "nan\n",
      "\n",
      "\"I took 1/2 of a 5MG tablet - 2.5 MG of this sent me into the abyss. I was suicidal for most of the day just barely holding on. The only thing keeping me from calling family for help was knowing it was the medication and not really me. I just had to wait for it to leave my system.\"\n",
      "\n",
      "\"This medicine worked miracles for me! I absolutely love it! It is very effective and works in days, instead of weeks! When I first started taking it 40 mg I was really out of it and sleepy but I got used to it and now it gives me energy and puts me in a great mood! Best anti-depressant/ anxiety medication ever and always remember there are side effects to EVERY medicine.\"\n",
      "\n",
      "nan\n",
      "\n",
      "\"if you want to try this drug, make sure you&#039;re prepared to either stay on it forever or be able to take at least 1 month off from your life to try to get this out of your system. I&#039;ve been on other psychiatric drugs and I&#039;m all for them. They really help get you through rough episodes, therefore I&#039;m not a scathing anti drug, crunchy all natural person. However, I can say this is one nasty, nasty drug. I feel like I&#039;ve been dumping poison in my system for the last 2 years. 3 weeks tapering VERY slowly and the room still spins, I can&#039;t move my eyes without intense brain zaps, and basically feel like a raging lunatic. If you&#039;ve tried many other drugs and they haven&#039;t worked and this is a last resort then I say go for it, but with caution.\"\n",
      "\n",
      "\"I was on Paxil for a month.  I noticed a significant difference the first two weeks and then went back to my usual, on edge self, after that.  Now, I&#039;m trying Celexa.  I know I need to take something. I&#039;m just not sure which one it is. My doctor brought up Viibryd at my doctor&#039;s visit. \"\n",
      "\n"
     ]
    }
   ],
   "source": [
    "for review in top_review(doc_topic_matrix_df, 'topic_12', 15):\n",
    "    print(review)\n",
    "    print()"
   ]
  },
  {
   "cell_type": "code",
   "execution_count": 513,
   "metadata": {},
   "outputs": [
    {
     "data": {
      "text/plain": [
       "thought      1.038150\n",
       "depressed    0.889967\n",
       "happy        0.885385\n",
       "long         0.876816\n",
       "lot          0.798233\n",
       "suicidal     0.788130\n",
       "know         0.573792\n",
       "little       0.458038\n",
       "normal       0.369088\n",
       "people       0.361066\n",
       "Name: topic_12, dtype: float64"
      ]
     },
     "execution_count": 513,
     "metadata": {},
     "output_type": "execute_result"
    }
   ],
   "source": [
    "top_words(term_topic_matrix_df, 'topic_12', 10)"
   ]
  },
  {
   "cell_type": "code",
   "execution_count": 514,
   "metadata": {},
   "outputs": [
    {
     "name": "stdout",
     "output_type": "stream",
     "text": [
      "\"I have been depressed for a very long time. Always try so many different kind of medicines but Pristiq seems to be working great. I have already lost 12lbs in 3 weeks and I feel a lot better, with my mood swings being better. My kids have noticed a big difference in me. The only side effect was stomach was hurting but it went away. The only thing is that I feel a little down but I don&#039;t know if it&#039;s because of my PMS. I go to the doctor tomorrow and we&#039;ll see what he says but other then that I have more motivation then I ever did before. I always give up on other pills but this one seems to work. I could enjoy my life again. I just hope if they increase the dose to 100 that I will feel better and I won&#039;t be disappointed. \"\n",
      "\n",
      "\"I was being prescribed different anxiety/depression drugs when Effexor stopped working. It was hell for months. Then I had the genetic blood test and found that there were only a few drugs that could work with my body. I was prescribed Pristiq 3 years ago and so far it has worked. initially, the side effects are strong, but they lessen as time goes on. Currently, I may have dizziness and flushing, but the good effects of this drug greatly outweigh the bad. I am taking 150 mg (1) 50 mg and (1) 100 mg and found out it is $60 less per prescription if I take (3) 50 mg pills instead. This is not an inexpensive drug, but it works for me.\"\n",
      "\n",
      "\"I was wondering why I had irregular bowel movements for quite some time. I went to Dr. after Dr. explaining my symptoms (constipation, bloating, back pain, dark stool.) Most of them thought I had IBS or an allergy to gluten. I had these symptoms from 2009 till recently. After some thought I decided to switch my medication. My Psychologist wrote me a new prescription and I started to ween of the paxil. 2 weeks into my new medication schedule I started to feel 1000 times better! I go to the bathroom daily now just as a healthy person should. In fact, it seems like my body is trying to make up for lost time. Needless to say, Paxil I feel is the cause of my extreme constipation.\"\n",
      "\n",
      "\"I started on the lowest dose about a year ago, I was use to taking my meds at night. Seeing I take 2 different meds for neuropathy, its just easier to remember to take all meds before bed. Well Effexor literally had me up for 2 days straight, so I contacted my doctor who said to start taking it in the morning. I am now on 225mg every morning, and am doing better. I do take it for depression, &amp; anxiety which I have fought with since I was a teen. Effexor is the only one that has truly help, and I haven&#039;t giving up on.\"\n",
      "\n",
      "\"I like it, I am finally able to remember times before I started feeling depressed, also I am able to connect my emotions/feelings to those memories which is great. All other ssris/snris I have taken only clouded my head and sort of numbness was always present.\"\n",
      "\n",
      "nan\n",
      "\n",
      "\"I too started Pristiq after 17 years of being on antidepressants. I also have tried everything out there. I did not feel anything at all for the first 2 weeks. However, I started to have these slight body aches - never did I attribute this to the medicine. After another week on this medication, I also could not stay awake for longer than 2 hours at a time. I began having body aches. I could not make it through a day at work, I could barely get out of bed in the morning, and there was no way I could do my household chores. I had many blood tests ran and everything came back normal. I finally realized it may be the Pristiq and after just 3 days of being off of it, I was completely pain free and not tired.\"\n",
      "\n",
      "\"Started with 30mg plus Ativan (lorazepam) 1-2mg/day for anxiety/depression.  OK.  Then, up to 45.  Too strong, down to 30.  Later back to 45, then 60.  Lots and lots of side effects--ear pain, weird nerve pains, mania, then urinary retention which is VERY serious. Kept trying it too long, 7 weeks.  Then switched to Venlafaxine ER which is much more tolerable.\"\n",
      "\n",
      "\"Young male early 20s. I suffer from major depression as well as anxiety. I tried 20mg Prozac only because it supposedly gives people more energy. The first 1-2 weeks I experienced side effects such as extreme fatigue and increased anxiety. After 2-3 weeks I began to feel better, however, it worked until it seemed to stop after about a month. It still helped relieve my symptoms slightly, but I had returning feelings of fear, panic, negativity etc and never felt more energized. I stopped taking it and after 3 days immediately felt much better. I ended up switching back to 10mg Lexapro because it worked great for me. Prozac helped somewhat, but for those who struggle mostly with depression/anxiety, I&#039;d try more selective SSRIs personally.\"\n",
      "\n",
      "nan\n",
      "\n",
      "\"In 1995, I was miserable for no particular reason and was diagnosed with depression and prescribed Prozac.  Great life, depression in check.  In 2013, I weened myself off it because I  didn&#039;t think I needed it anymore.  As luck would have it,  I hit a period of  challenging events in life that they brain  interpreted as trauma.  To cope, I began drinking a little which evolved into daily. I concluded that I had gone off Prozac, decreased self control and created a personal crisis.  I&#039;m back on Prozac and my moods have leveled off and I so far have the ability to abstain.  I won&#039;t go off it again.\"\n",
      "\n",
      "\"This medicine helped for depression.  The problem is, the first time I went up to 40mg, (within 2 hours), I started sweating profusely and was super nauseous.  After 5 days of this, I am going to switch medicines.  The sad thing is it does help with depression but I can&#039;t handle feeling nauseous all the time.\"\n",
      "\n",
      "\"I started taking it 24th Jan 2013, I weighed 414lbs. It&#039;s now 30th Jan and I weighed in at 405 lbs. Total pounds lost in 7 days 9lbs. It curbs the hunger and I don&#039;t crave for food. I am drinking lots of water and I have 2 cups of Green Vegs a day. Side Effects so far has been Insomnia however my doctor prescribe sleeping pills which I take 1 at night and I sleep right through. Will keep you all posted on Weightloss.\"\n",
      "\n",
      "nan\n",
      "\n",
      "nan\n",
      "\n"
     ]
    }
   ],
   "source": [
    "for review in top_review(doc_topic_matrix_df, 'topic_13', 15):\n",
    "    print(review)\n",
    "    print()"
   ]
  },
  {
   "cell_type": "code",
   "execution_count": 515,
   "metadata": {},
   "outputs": [
    {
     "data": {
      "text/plain": [
       "wellbutrin    2.007278\n",
       "xl            0.524872\n",
       "energy        0.345606\n",
       "generic       0.316389\n",
       "sr            0.257672\n",
       "bupropion     0.175792\n",
       "sexual        0.163582\n",
       "switch        0.160478\n",
       "brand         0.153479\n",
       "add           0.142748\n",
       "Name: topic_13, dtype: float64"
      ]
     },
     "execution_count": 515,
     "metadata": {},
     "output_type": "execute_result"
    }
   ],
   "source": [
    "top_words(term_topic_matrix_df, 'topic_13', 10)"
   ]
  },
  {
   "cell_type": "markdown",
   "metadata": {},
   "source": [
    " Topic_13 = "
   ]
  },
  {
   "cell_type": "code",
   "execution_count": 516,
   "metadata": {},
   "outputs": [
    {
     "name": "stdout",
     "output_type": "stream",
     "text": [
      "nan\n",
      "\n",
      "nan\n",
      "\n",
      "\"The last medication I was on for depression completely numbed me out to the point where I had no emotions. With this medication, I am able to be happy and sad but it doesn&rsquo;t work too well to keep away the suicidal thoughts. (I am on 20mg) I wish this medication was able to make me feel happier and not constantly be fighting between happy and sad.\"\n",
      "\n",
      "\"I started off with 10 mg for the first week and noticed that I have FINALLY been able to get some sleep! Before hand, I could never get sleep and never had energy throughout the day. I&#039;m more friendly. I was starting to spend more time with my husband, being more intimate and just feeling good! For the second week, I started to notice my body wants to shut down by 8 pm (which I love). I could wake up 5am for work and have so much energy to get what I need done. I do not really have racing thoughts anymore. Sometimes I catch myself still being sad from time to time, but thats only be because it takes about a month to have the full effect! Fair to say, I did notice POSITIVE improvements. I&#039;m glad that I got help when I did.\"\n",
      "\n",
      "\"It works great for my depression but my libido completely disappeared, that makes me fell bad... I guess I&#039;ll try bupropion.\"\n",
      "\n",
      "\"Have been on Seroquel for 4 weeks for depression. I take it before bed. Still experiencing a &quot;hangover&quot; type feeling in the mornings. I gained 8 pounds in the first 3 weeks I took. Makes me want to eat even when I am not hungry.  However, I am not crying as much, can handle day-to-day life better, and I haven&#039;t had chest pain or racing heart beats since I started, which is a great improvement. \"\n",
      "\n",
      "nan\n",
      "\n",
      "\"Everyone&#039;s different but I&#039;ve found that for me that Cymbalta has worked wonders.\"\n",
      "\n",
      "\"I started off at 50 MG of SERTRALINE  and after a few weeks I started feeling great, I felt more positive, I could sit and watch a whole show or movie with my family. I liked my job more but my appetite did decrease and it made me feel speedy which also made it hard to sleep. Ok so fast forward to 1 month my Dr. decides to up my dosage since it seemed to be agreeing with my body  ( I have depression but mostly anxiety) he upped the dosage to 100 mg tablets. After ONE week I was raging - my family noticed my colleagues noticed.  I felt like I was roided out. I was mean, aggressive and hard to be around. I also felt downl like I didn&#039;t want to be around people anymore. That quickly it all changed. Made a same day appointment with the Dr to switch meds.\"\n",
      "\n",
      "\"I&#039;ve been on citalopram for a little over a month. I take 30 mg a day but I don&#039;t feel any thing different. I am 15 and it did not work for me trying to get my dad to take me to a doctor before I try to do something silly. \"\n",
      "\n",
      "\"I&#039;d been taking Pristiq, but it killed my libido.  Since taking Viibryd, my depression is gone and my libido has returned to its normal self.  \"\n",
      "\n",
      "\"Have been taking this now for 2 years for anxiety and depression. I had minimal side effects when starting the medicine (needed minimal time to adjust as compared to other SSRIs) but can note I now perspire a lot more and my cholesterol and blood pressure have increased. This medicine has worked relatively well for me and has made me better balanced. I still get some anxiety and depression but it&#039;s not as debilitating. It will be disappointing if my cholesterol and blood pressure remain high as I will have to seek alternatives. I have had some weight loss on this medicine and am not hungry all the time like I was on Avanza and Luvox. Fingers crossed some weight loss will fix the high blood pressure.\"\n",
      "\n",
      "\"31 years old and have never taken any kind of medication other than birth control.  Recently went through some tough stuff and finally broke down after almost a year of feeling terrible and talked to my doctor.  Started taking Wellbutrin about a month ago and I haven&#039;t felt this good in years.  I started feeling better almost immediately.  I am motivated and focused and like my old self again. In addition I stopped smoking completely about a week after I first started taking it. Only negatives are I am having a REALLY hard time getting enough sleep and the dry mouth is bad but only on occasion. I really hope that the insomnia gets better because although I feel great, I know it can&#039;t be good to have such little sleep long term.\"\n",
      "\n",
      "\"Made me more irritable and had noticeable mood swings. Also had upset stomach during the whole month of taking this.\"\n",
      "\n",
      "nan\n",
      "\n"
     ]
    }
   ],
   "source": [
    "for review in top_review(doc_topic_matrix_df, 'topic_14', 15):\n",
    "    print(review)\n",
    "    print()"
   ]
  },
  {
   "cell_type": "code",
   "execution_count": 517,
   "metadata": {},
   "outputs": [
    {
     "data": {
      "text/plain": [
       "attack        1.803258\n",
       "panic         1.797882\n",
       "xanax         0.320799\n",
       "disorder      0.185198\n",
       "come          0.117759\n",
       "suffer        0.116120\n",
       "heart         0.102819\n",
       "severe        0.099268\n",
       "experience    0.082752\n",
       "major         0.076161\n",
       "Name: topic_14, dtype: float64"
      ]
     },
     "execution_count": 517,
     "metadata": {},
     "output_type": "execute_result"
    }
   ],
   "source": [
    "top_words(term_topic_matrix_df, 'topic_14', 10)"
   ]
  },
  {
   "cell_type": "code",
   "execution_count": null,
   "metadata": {},
   "outputs": [],
   "source": [
    "topic_14 = panic attack"
   ]
  },
  {
   "cell_type": "code",
   "execution_count": 544,
   "metadata": {},
   "outputs": [
    {
     "name": "stdout",
     "output_type": "stream",
     "text": [
      "this drug be prescribe to I for depression and anxiety but it have an unexpected effect I simply can not stop eat I eat the entire day and right after I finish eat a full meal I feel hungry as if I   eat anything so I eat again and again I have gain   kg in less than   week and I be love it people always make fun of I because   skinny I never think a psychiatric drug could fix this I be so happy when I look in the mirror olanzapine be the good drug if you be a skinny ectomorph who struggle with lack of appetite\n",
      "\n",
      "wellbutrin be a miracle drug for I the first time I ever remember experience quotnormalquot be after I start take it   the only side effect I have be have vivid movie like dream and lose a ton of weight the dream be so great I   want to wake up and the weight loss be a dream come true  \n",
      "\n",
      "for the past   year I have be on antidepressant long be remeron along with the depression I have have period of intense anxiety unbelievably intense to the extent that I could not stand to be here in december of   I be in the throw of anxiety and my psych doc suggest   abilify in addition to the remeron my anxiety be go in a day and it have stay go my depression be go as well my pharmacist have tell I that other have have a similar experience and be as amazed as I be I   say enough about this medicine amazing just amazing\n",
      "\n",
      "amazing result\n",
      "\n",
      "nan\n",
      "\n",
      "nan\n",
      "\n",
      "nan\n",
      "\n",
      "  be suffer from depression for five year now and   be on several medication about six month ago I be prescribe sertraline and my dose be increase from   to   within six week as it   make any difference the side effect be awful and cause I to miss a lot of school and fall behind at a crucial stage in my education this medication have not increase my mood at all if anything it have be lower since   be on it   felt absolutely drain of energy the whole time I have lose all motivation as   too tired I feel emotionally numb\n",
      "\n",
      "I be finally prescribe wellbutrin sr after   month of treatment with a hospital psychologist treatment through other mean of talk through my emotion help some but there be those thought if you know what I mean so they start I on the medicine it be only    time a day I only take it for   day I feel great for about   hour but in the evening I would feel like I be in withdrawal or like I be in an emotional craving of some sort kind of hard to describe I feel edgy at night be easy to bark at the kid for little or no reason and I would have deep and serious thought about suicide but those thought only last about   minute and then they would go away as quickly as they have start\n",
      "\n",
      "  f after a couple of year refuse medication adjust to an interstate shift prove more difficult than plan so about a month ago decide to give these a try at the suggestion of my dr take the first one in the evening after dinner as direct by   I be feel achey cold sweat   keep my leg still in bed and nausea as hell within another   minute the nausea turn into violent vomiting and incredibly restless night sleep dr say to stop immediately   not attempt another type again since and   think I intend to\n",
      "\n",
      "  suffer from generalize anxiety for   year at one point I could barely leave my house afraid to drive on bridge tunnel fly   I even have anxiety about take take anxiety medication   xanax be a game changer for I   I rarely take it but   take trip I never think I would be able to take get this I be even able to skydive   not bad for an agoraphobic   it build confidence just have it in my pocket really help I have to take a   mg dose tonight because   be in panic mode for five day and I   finally need to reset my mental state    I think david   quotfeele good handbookquot be an awesome tool too   ramble because after   day of super anxiety I finally take a   and now I feel great\n",
      "\n",
      "I start take deplin yesterday and recently taper myself off of cymbalta and wellbutrin   I still have the cymbalta withdrawal quotbrain zapsquot but have regain my crying reflex that I lose everytime I get back on medication I have be pregnant several time and need to come off all medication for the duration   today I have more natural energy than   have in a long time   I have be take hydroxycut just to get myself move and to the gym as I have reach my maximum weight of   last week   now I   feel like I need it anymore   my ocd be almost nonexistent now   I can complete multiple task without spend an eternity detail every aspect of a small task   this be how I feel after day   hopeful this will continue\n",
      "\n",
      "this medicine be awesome no side effect and completely effective for my depression symptom I have try most other medicine and this medicine be great\n",
      "\n",
      "nan\n",
      "\n",
      "it have really help my depression I use to cry a lot not want to do anything   much calm about stressful thing amp less irritable I thank god for this medication amp the who start I on my med\n",
      "\n"
     ]
    }
   ],
   "source": [
    "for review in top_review(doc_topic_matrix_df, 'topic_15', 15):\n",
    "    print(review)\n",
    "    print()"
   ]
  },
  {
   "cell_type": "code",
   "execution_count": 545,
   "metadata": {
    "scrolled": true
   },
   "outputs": [
    {
     "data": {
      "text/plain": [
       "dose        2.073731\n",
       "increase    0.688330\n",
       "low         0.675146\n",
       "miss        0.459791\n",
       "high        0.438554\n",
       "dosage      0.291894\n",
       "tell        0.161443\n",
       "need        0.136793\n",
       "small       0.136570\n",
       "hour        0.133956\n",
       "Name: topic_15, dtype: float64"
      ]
     },
     "execution_count": 545,
     "metadata": {},
     "output_type": "execute_result"
    }
   ],
   "source": [
    "top_words(term_topic_matrix_df, 'topic_15', 10)"
   ]
  },
  {
   "cell_type": "markdown",
   "metadata": {},
   "source": [
    "topic_15 = dose"
   ]
  },
  {
   "cell_type": "code",
   "execution_count": 78,
   "metadata": {},
   "outputs": [
    {
     "name": "stdout",
     "output_type": "stream",
     "text": [
      "be on   for about   week nothing change so   take   pill just on my   day and still not notice anything have dry mouth for a few day and my sleep be a little restless \r",
      " suffer from this depression go on   year    year old   hear that   be the therapeutic dose \r",
      " so   where   head   determine to beat this any advice would be greatly appreciate also   be so scared of side effect especially fall deeply into this abyss of sadness and loneliness but I must prevail\n",
      "\n",
      "nan\n",
      "\n",
      "prozac have save my life I be unable to function normally and be very irritable I have be take it for   month and it be amazing other than not feel hungry and feel numb to thing that formerly make I irate I have have no bad side effect I be finally live only wish I have the nerve to take it   year ago I miss out on so much due to my severe depression\n",
      "\n",
      "only be able to take this for two day second day I feel just awful similar to wellbutrin I   think my body can handle norepinephrine increase I also get painful urination that last day after I take my last pill ouch it hurt\n",
      "\n",
      "nan\n",
      "\n",
      "I hope this help to all the depressed people out there I have be see a psychiatrist for drug induce depression   I abuse meth vicodin coke and any other drug you can think of for year and that have leave I a basket case I have try many antidepressant but I suffer too many adverse reaction for the strong stuff I be currently on   wellbutrin and   mg deplin and I have to say I feel great however I have take wellbutrindeplin combo in the past and it stop work for I after   month   the result with the antidepressant be a little funny because I go back to abuse vicodin now I be clean of any drug and just take what be prescribe by my doctor    wellbutrin and   mg deplin\n",
      "\n",
      "I be a female   year old and have never battle depression until my dad pass away my crying and irritablity just get bad as month go on I have be on lexapro for only   day but I have notice a difference in my mood the very first day I feel a quothighquot quotweirdquot sense it make I sleepy but then restless in the middle of the night but I have be already feel well moodwise I be go to try and tough it out because I have more good than bad   see\n",
      "\n",
      "nan\n",
      "\n",
      "  be on serdep   for nearly   week and feel so much well   be on lorien before but   help my emotional status and irritability be so much well\n",
      "\n",
      "this drug be dangerous   the side effect be horrible and the withdrawal process to get off of the drug be arguably bad if that be even possible   this drug should be take off the market\n",
      "\n",
      "give I restless crawly leg on   it be very sedating   wks ago break it in half and that work for   week then no sedation at all and bad night sweat make I very foggy the following day and palpitation half the time hangover headache too\n",
      "\n",
      "emsam transdermal have give I back my life from a depression so severe that I be nonfunctional I be now back to the person who love life and live my doctor try every ssri you can imagine with my condition only worsen the only adverse side effect seem to be skin irritation and constipation I still have a lot of stress in my life but I be now able to deal with my problem instead of try to escape from the world\n",
      "\n",
      "what a nightmare   I even get lockjaw symptom\n",
      "\n",
      "nan\n",
      "\n",
      "nan\n",
      "\n"
     ]
    }
   ],
   "source": [
    "for review in top_review(doc_topic_matrix_df, 'topic_16', 15):\n",
    "    print(review)\n",
    "    print()"
   ]
  },
  {
   "cell_type": "code",
   "execution_count": 79,
   "metadata": {},
   "outputs": [
    {
     "data": {
      "text/plain": [
       "celexa        2.107714\n",
       "paxil         0.288044\n",
       "difference    0.133971\n",
       "tired         0.091977\n",
       "switch        0.088248\n",
       "viibryd       0.078877\n",
       "normal        0.070457\n",
       "finally       0.068883\n",
       "happy         0.064801\n",
       "completely    0.060911\n",
       "Name: topic_16, dtype: float64"
      ]
     },
     "execution_count": 79,
     "metadata": {},
     "output_type": "execute_result"
    }
   ],
   "source": [
    "top_words(term_topic_matrix_df, 'topic_16', 10)"
   ]
  },
  {
   "cell_type": "code",
   "execution_count": 522,
   "metadata": {},
   "outputs": [
    {
     "name": "stdout",
     "output_type": "stream",
     "text": [
      "\"At the age of 55, I found the only drug that has worked for me in 35 years, I can&#039;t even begin to explain my childhood or experiences thereafter, as soon as I could, I sought medical attention with my limited finances. Before that, all I could do was drink and have a good time. I thank God I finally was given Lexapro, (Escitalopram.) I felt relief immediately, whereas NOTHING else did, and was happy, After all the drugs I tried, I have no side effects with Lexapro. I hope this gives hope to those who have been searching. God bless you above and beyond your dreams. With LOVE.\"\n",
      "\n",
      "\"I&#039;ve only been on this medication for about 2 weeks. That said, I&#039;ve slept almost every day since starting it. I know sleepiness is a common side effect but this is excessive. Almost no energy throughout the day. Nonstop yawning. My depression is still there, anxiety has been better. I just feel very drained and apathetic. I&#039;ll stick with it for a while longer because I know it will take a while for the full affect to kick in. hoping for good results!\"\n",
      "\n",
      "\"I started with Prozac and could not sleep at all.  With Effexor 150mg, I could sleep standing up and was so sedated that I could not function.  Withdrawal from 150mg to 75 to 37.5mg was OK, but after that withdrawal was hell with dizzyness and nausea.  Changing back to 75mg, I still slept well, had a good sense of well being and could still function. With it 20 years now\"\n",
      "\n",
      "nan\n",
      "\n",
      "\"This medicine has done nothing for my anxiety and depression, but it has made me impotent, fat, lethargic, and I am suffering from angioedema regularly. (Look that one up, and enjoy)\"\n",
      "\n",
      "\"Helped me sleep at night\"\n",
      "\n",
      "nan\n",
      "\n",
      "nan\n",
      "\n",
      "\"I am a veteran.  I was diagnosed with depression while on active duty (started on Wellbutrin), though I am certain the depression went back years before.  I always knew something wasn&#039;t right, but could never quite figure out what it was.  I had no desire to live and could not seem to shake that.  I admitted myself to a mental health unit recently with suicidal tendencies.  I started taking Celexa while in the unit, and I feel like a person now.  I am not in a &quot;good&quot; place in the world right now, but in my own &quot;world&quot; I am feeling great.\"\n",
      "\n",
      "\"Much better than Paxil\"\n",
      "\n"
     ]
    }
   ],
   "source": [
    "for review in top_review(doc_topic_matrix_df, 'topic_17', 10):\n",
    "    print(review)\n",
    "    print()"
   ]
  },
  {
   "cell_type": "code",
   "execution_count": 523,
   "metadata": {},
   "outputs": [
    {
     "data": {
      "text/plain": [
       "change         1.469986\n",
       "mood           1.320902\n",
       "use            0.631433\n",
       "swing          0.423586\n",
       "far            0.283656\n",
       "improve        0.277762\n",
       "energy         0.220719\n",
       "positive       0.173979\n",
       "difference     0.156721\n",
       "improvement    0.145346\n",
       "Name: topic_17, dtype: float64"
      ]
     },
     "execution_count": 523,
     "metadata": {},
     "output_type": "execute_result"
    }
   ],
   "source": [
    "top_words(term_topic_matrix_df, 'topic_17', 10)"
   ]
  },
  {
   "cell_type": "markdown",
   "metadata": {},
   "source": [
    "topic_17topic_17 = mood changes"
   ]
  },
  {
   "cell_type": "code",
   "execution_count": 524,
   "metadata": {},
   "outputs": [
    {
     "name": "stdout",
     "output_type": "stream",
     "text": [
      "\"I was on this med for about 2 months.  During that time I started losing my hair and ended up losing quite a bit of it especially on the frontal part.  It did give me more energy but I also had a hard time keeping my anxiety in check.  I don&#039;t remember having the customary side effects and my body seemed to tolerate it quite well.  If it hadn&#039;t been for the hair loss and anxiety issues, I probably would have stayed on it.  I decided to go back on Paxil again a couple of days ago because I really had few problems with that except for weight gain if I don&#039;t watch myself.\"\n",
      "\n",
      "\"150 mg NuVigil does work somewhat for my depression, but the primary effects wear off after a few hours and I feel more tired than usual. It is better than any SSRI, SNRI, MAOI, atypical, or tricyclic antidepressant that I have taken.\"\n",
      "\n",
      "\"I LOVE Prozac. I have major depressive disorder and general anxiety disorder. I was on Lexapro for half a year, and despite not being a teen or young adult I had my first ever suicidal thoughts. On the Lexapro I felt sedated, I gained weight, and I was still depressed. It did help with anxiety, but instead I was often nauseated. \r\n",
      "Now after 2 weeks of Prozac, world of difference. I&#039;m smiling, motivated, looking forward to the near and distant future. I still have some mild nausea, and it&#039;s not as good with the anxiety or insomnia. Still, it&#039;s great for me because I&#039;m motivated and energetic enough throughout the day to make myself tired enough to sleep, and I&#039;m better at dealing with stressful things.\"\n",
      "\n",
      "\"I was feeling very depressed this winter. A combination of SAD  and life. I was irritable,  unmotivated, unsociable, negative and sad. I could hardly recognize myself. I was nervous to try an anti depressant as I&#039;d heard weight gain an loss of sex drive were often side affects.   That would&#039;ve depressed me more!  But my doctor said that Wellbutrin was often referred to as the skinny sexy pill.  Now that made it sound a whole lot better.  I know it seems hard to believe, but day three I felt like a weight had lifted...not sure if it can work that fast but I was able to jump out of bed and feel motivated.  My appetite has decreased, I&#039;m happy, my libido is still as good as ever and I have experienced 0 side effects Luv it!\"\n",
      "\n",
      "\"I&#039;m 56. I&#039;ve been on Prozac for about 20 years. I would rather not take any medication but the reality is that, for me, there seems to be no choice. Like many who have seen their share of shrinks, I tried everything - and then everything in every combination. Prozac is the only drug that helps me.\r\n",
      "I have been off of Prozac now for about 3 months. I tapered off very slowly. Thought I made it! But I have gone back to my old miserable self. I hit myself, hard. I want to break everything that doesn&#039;t &quot;cooperate&quot; immediately - a button, a hard-to-open package, or a pen for example. I never feel like hitting another person - just myself. I&#039;m going downstairs to begin my Prozac regimen again.\"\n",
      "\n",
      "\"Have been taking this for near on 2 months. Firstly 15mg which helps me sleep, psychiatrist upped the dose to 30mg which keeps me awake. I have a very high metabolism and have been between 8 and 8 and a half stone for as long as I can remember. I have gained 3 stone and am now near on 11 stone and can never feed my appetite. I am constantly hungry and people keep asking if I&#039;m pregnant as my stomach looks bigger than my friend who is 26 weeks gone! would recommend for sleep but not if you don&#039;t want to gain a ton of weight!\"\n",
      "\n",
      "\"Unlike any other anti-depressant I have tried, if I missed a single dose withdrawal symptoms would immediately begin.  Scary dreams accompanied by brain zaps are just a few that need to be shared!! They seemed so real!! It was a side-effect that I could not handle and everyone should be warned about the night terrors before starting this medication.  I can only imagine the horror of missing two doses. That alone was enough for me to switch back to Celexa. It did help with my mood but this medicine seemed too potent or too dangerous for some reason. The &quot;what ifs&quot; where always in the back of my mind.\"\n",
      "\n",
      "\"I took Sertraline for Moderate Depression which it was exceptionally good at diminishing. I have been taking it for just under 6 weeks for moderate depression, social anxiety and generalised anxiety. It worked for depression the best, by far; however, not half as good for the anxiety, perhaps because it requires a higher dose and longer intake. Definitely consider Sertraline for depression, its side effects were minimal (if any because it was so unnoticeable).\"\n",
      "\n",
      "\"I had weened off Effexor in October as I was tired of the side effects. I wanted to go the natural route with exercising and eating better to see if it would help.  Unfortunately I have been going through a hard time and needed something to help me through this. I started on Wellbutrin XL , 150 mg, about 2 weeks ago. I honestly can&#039;t tell if it is helping or not. I feel about the same mood wise ...very sad, crying a lot, no appetite, sense of failure and no hope. I know things can&#039;t change immediately but was hoping I could be one of the individuals that experience positive results. Hope this changes eventually.\"\n",
      "\n",
      "\"Most of my life I have struggled with severe panic attacks, general anxiety, PTSD &amp; moderate depression. Been on meds twice before until I felt better &amp; then I would stop taking them. This last time it had been close to a year that I had been suffering again before I decided to reluctantly go back on meds. I tried Celexa again- it worked kinda okay in the past but this time it made no improvement for me. Saw the doc who switched me to Prozac- all I can say is WOW! Best yet- I feel like my old, happy self after only 1 month! 10mg the first week, 15 the second and 20mg the last two. Give it time to work &amp; be patient- it might make you feel a bit off &amp; not better at first, but it is a miracle drug. These bad feelings will pass hang in there!\"\n",
      "\n"
     ]
    }
   ],
   "source": [
    "for review in top_review(doc_topic_matrix_df, 'topic_18', 10):\n",
    "    print(review)\n",
    "    print()"
   ]
  },
  {
   "cell_type": "code",
   "execution_count": 525,
   "metadata": {},
   "outputs": [
    {
     "data": {
      "text/plain": [
       "amp           2.147232\n",
       "med           0.359404\n",
       "yr            0.117328\n",
       "brintellix    0.102694\n",
       "dr            0.099118\n",
       "pain          0.088789\n",
       "wean          0.087832\n",
       "new           0.080019\n",
       "wait          0.078153\n",
       "low           0.075563\n",
       "Name: topic_18, dtype: float64"
      ]
     },
     "execution_count": 525,
     "metadata": {},
     "output_type": "execute_result"
    }
   ],
   "source": [
    "top_words(term_topic_matrix_df, 'topic_18', 10)"
   ]
  },
  {
   "cell_type": "code",
   "execution_count": 526,
   "metadata": {},
   "outputs": [
    {
     "name": "stdout",
     "output_type": "stream",
     "text": [
      "nan\n",
      "\n",
      "nan\n",
      "\n",
      "\"after trying all ssri for 3 months i tried this snri and within 4 days i felt better. my depression and anxiety were reduced and after one month i m absolutely fine. it has proven to be lifesaver for me. i fully recommend it.\"\n",
      "\n",
      "\"I&#039;ve been on Abilify for about 2 weeks now. As most everyone else had said, this medication does miracles when it comes to fixing depression. My depression struggle of 4 years is gone. But also it comes with side effects .. It&#039;s this restless agitated feeling that just wont go away. When I sleep it seems to be better but other than that it&#039;s always really bad. My vision is also really bad but that could be because of the Seroquel XR that I&#039;m coming off of.\"\n",
      "\n",
      "\"Have anxiety and depression and have been on medicines for 20 years.  Have taken Paxil, Zoloft, Prozac, Wellbutrin, Lexapro. Just switched 3 weeks ago from Prozac/Wellbutrin to Brintellix with Wellbutrin.  Feel fantastic - much better mood, clear head, no anxiety. No side effects at all.  Taking 10mg.\"\n",
      "\n",
      "\"I started 50mg of Sertraline bc of depression, racing thoughts and lots of suicidal urges/thoughts. I&#039;ve been on the meds for 3 weeks now. I haven&#039;t had those major depressed moments like I did. Its like all that crazy head stuff fell away. I&#039;m not super anxious anymore either. I feel calmer and less stressed/angry. I had a lot going on. I decided to get help instead of trying to do this alone. I have had some insomnia but if that&#039;s my only side effect, I will take it!! In the past I always stopped treatment when I started feeling better...this time I&#039;m going to continue for my own safety. Depression is not a good place to be. Wish all readers the best!\"\n",
      "\n",
      "\"I&#039;ve been taking this medicine (30 mgs) for 1 1/2 years.  My depression is completely gone and was after a month of taking it.  I&#039;ve battled depression for 45 years and this is great.  I don&#039;t enjoy much sleep benefit (only 3 hrs per night) and do see a rise in appetite at night. I think that I&#039;ve put on 20 lbs in the last year. The weight gain is surely worth the sanity.\"\n",
      "\n",
      "\"I&#039;ve been on Prozac for one month. I don&#039;t notice much other than vivid dreams and weight loss. I started out at 125 and now am 118 even though I still feel like I&#039;m eating normally. My dreams are very lucid and intense. Gonna give it more time to see if it helps with my depression but so far I don&#039;t notice it.\"\n",
      "\n",
      "\"Fatigue, dry mouth, diarrhea, nausea and insomnia. \"\n",
      "\n",
      "\"Just started taking this for depression/anxiety, so far, so good. The first few days, I could definitely feel the stimulant effect, but on day 5, I can barely feel anything. Obviously, it&#039;s too early to tell how it will help with anxiety/depression. I had just a hint of a headache, but nothing bad enough to even take anything for. No real trouble sleeping. I will be increasing the 150mg to 300mg (twice daily) Saturday, so I&#039;m sure there will be another adjustment period then. I&#039;ve heard it&#039;s important to take the second dose fairly early in the afternoon (around 3 or 4), so it doesn&#039;t keep you up. At first, I did not think this would work with my anxiety, but it&#039;s mostly gone due to my body adjusting.\"\n",
      "\n",
      "nan\n",
      "\n",
      "\"I suffer from Dysthymic Depression and had been on Prozac until it stopped working and I started having suicidal thoughts. I&#039;ve been on Pristiq for 3 months and it has changed my life for the better. I take it in the morning so I sleep at night. I am no longer tired. I have tons of energy and have a zest for living again. I have dropped 12 lbs and it does not affect my energy levels for running, biking and weight training. I can focus better at work and my sex drive has returned after being dulled for the past 7 years. My husband is thrilled. This drug has been a positive step for me.\"\n",
      "\n",
      "\"I have been dealing with a bout of clinical depression since roughly November 2012.  It followed a surgery gone wrong, which messed me up physically &amp; mentally.  I ended up admitting myself to a psych hospital where spent 9 days.  They upped my Zoloft from 50 mg to 100 mg and did nothing else.  I left there feeling just as bad as when I was admitted.  Upon seeing me following my hospitalization, my psychiatrist recommended Abilify 2 mg as an add-on.  He indicated that he&#039;d been very impressed with the quick response a number of his extremely depressed patients had adding on Abilify.  I started taking 2 mg two weeks ago.  I cannot believe how good I feel after about 7 months of Major Depression.  Must try if you take an SSRI!\"\n",
      "\n",
      "\"I tried this medication.  It made me nauseous for weeks.  I know I did not give enough time, but I tired of being sick.  It seems like it works for some.  I am learning we are all different.  I started on Duloxetine this week, and I am already starting to feel better.\"\n",
      "\n",
      "\"Wellbutrin is amazing. Prior to Wellbutrin I was put on Zoloft, Prozac and Valdoxan, all which either killed my sex drive, did nothing or made me too sleepy to function. For 2 years I stupidly went off medication and just thought everything in life was crap, and probably said somethings I regret to people. Eventually it came to the point where was failing at work and angry at everyone. The ADHD medication I was taking also worsened my depression.\r\n",
      "\r\n",
      "Come Wellbutrin, I have been on it for around two months and I feel great. I have energy, more motivation, increased libido and I feel content, although I still get the moments. Also I have lost more than 5 pounds without dieting or exercising.\"\n",
      "\n"
     ]
    }
   ],
   "source": [
    "for review in top_review(doc_topic_matrix_df, 'topic_19', 15):\n",
    "    print(review)\n",
    "    print()"
   ]
  },
  {
   "cell_type": "code",
   "execution_count": 527,
   "metadata": {},
   "outputs": [
    {
     "data": {
      "text/plain": [
       "sex         1.505128\n",
       "drive       1.394850\n",
       "decrease    0.204343\n",
       "viibryd     0.203911\n",
       "lose        0.192868\n",
       "orgasm      0.164789\n",
       "increase    0.151262\n",
       "energy      0.147799\n",
       "lack        0.125425\n",
       "low         0.110947\n",
       "Name: topic_19, dtype: float64"
      ]
     },
     "execution_count": 527,
     "metadata": {},
     "output_type": "execute_result"
    }
   ],
   "source": [
    "top_words(term_topic_matrix_df, 'topic_19', 10)"
   ]
  },
  {
   "cell_type": "markdown",
   "metadata": {},
   "source": [
    "Topic_19 = sex drive"
   ]
  },
  {
   "cell_type": "code",
   "execution_count": null,
   "metadata": {},
   "outputs": [],
   "source": []
  }
 ],
 "metadata": {
  "kernelspec": {
   "display_name": "Python 3",
   "language": "python",
   "name": "python3"
  },
  "language_info": {
   "codemirror_mode": {
    "name": "ipython",
    "version": 3
   },
   "file_extension": ".py",
   "mimetype": "text/x-python",
   "name": "python",
   "nbconvert_exporter": "python",
   "pygments_lexer": "ipython3",
   "version": "3.7.4"
  }
 },
 "nbformat": 4,
 "nbformat_minor": 2
}
